{
 "cells": [
  {
   "cell_type": "markdown",
   "metadata": {
    "deletable": true,
    "editable": true
   },
   "source": [
    "![rwth_imb_logo.png](attachment:rwth_imb_logo.png)"
   ]
  },
  {
   "cell_type": "markdown",
   "metadata": {
    "deletable": true,
    "editable": true
   },
   "source": [
    "# List of Jupyter notebooks"
   ]
  },
  {
   "cell_type": "markdown",
   "metadata": {
    "deletable": true,
    "editable": true
   },
   "source": [
    "[1_1_Calculate_the_elastic_stiffness_of_the_composite](./Examples/1_1_Calculate_the_elastic_stiffness_of_the_composite.ipynb)\n",
    "\n",
    "[1_2_Calculate_the_cross_sectional_area_of_a_component_to_achieve_a_desired_stiffness](./Examples/1_2_Calculate_the_cross_sectional_area_of_a_component_to_achieve_a_desired_stiffness.ipynb)\n",
    "\n",
    "[2_1_pullout_from_rigid_matrix](./Examples/2_1_pullout_from_rigid_matrix.ipynb)\n",
    "\n",
    "[2_2_pullout_from_rigid_matrix_with_free_length](./Examples/2_2_pullout_from_rigid_matrix_with_free_length.ipynb)\n",
    "\n",
    "[2_3_pull_out_from_elastic_matrix_supported_at_loaded_end](./Examples/2_3_pull_out_from_elastic_matrix_supported_at_loaded_end.ipynb)\n",
    "\n",
    "[2_4_pull_out_from_elastic_matrix_supported_at_the_unloaded_end](./Examples/2_4_pull_out_from_elastic_matrix_supported_at_the_unloaded_end.ipynb)\n",
    "\n",
    "[3_1_Piecewise_linear_bond_slip_law](./Examples/3_1_Piecewise_linear_bond_slip_law.ipynb)\n",
    "\n",
    "[3_2_RILEM_pullout_test](./Examples/3_2_RILEM_pullout_test.ipynb)\n",
    "\n",
    "[3_3_Pullout_of_an_CFRP_sheet](./Examples/3_3_Pullout_of_an_CFRP_sheet.ipynb)\n",
    "\n",
    "[3_4_Newton_incremental_iterative_scheme](./Examples/3_4_Newton_incremental_iterative_scheme.ipynb)\n",
    "\n",
    "[4_1_Pullout_with_unloading](./Examples/4_1_Pullout_with_unloading.ipynb)\n",
    "\n",
    "[4_2_Bond_behavior_governed_by-damage](./Examples/4_2_Bond_behavior_governed_by-damage.ipynb)\n",
    "\n",
    "[4_3_Bond_behavior_governed_by_plasticity](./Examples/4_3_Bond_behavior_governed_by_plasticity.ipynb)\n",
    "\n",
    "[5_2_Pullout_FRP.pynb](./Examples/5_2_Pullout_FRP.pynb.ipynb)\n",
    "\n",
    "[6_1_Energy_released_in_pullout_constant_bond_and_rigid_matrix](./Examples/6_1_Energy_released_in_pullout_constant_bond_and_rigid_matrix.ipynb)\n",
    "\n",
    "[7_1_mesh_sensitivity](./Examples/7_1_mesh_sensitivity.ipynb)\n",
    "\n",
    "[7_2_Crack_softening_law_and_damage_function](./Examples/7_2_Crack_softening_law_and_damage_function.ipynb)\n",
    "\n",
    "[9_1_Softening_law_and_damage_function](./Examples/9_1_Softening_law_and_damage_function.ipynb)\n",
    "\n",
    "[10_1_Meanig_of_strain_invariants](./Examples/10_1_Meanig_of_strain_invariants.ipynb)\n"
   ]
  },
  {
   "cell_type": "code",
   "execution_count": null,
   "metadata": {
    "collapsed": true
   },
   "outputs": [],
   "source": []
  }
 ],
 "metadata": {
  "kernelspec": {
   "display_name": "Python 3",
   "language": "python",
   "name": "python3"
  },
  "language_info": {
   "codemirror_mode": {
    "name": "ipython",
    "version": 3
   },
   "file_extension": ".py",
   "mimetype": "text/x-python",
   "name": "python",
   "nbconvert_exporter": "python",
   "pygments_lexer": "ipython3",
   "version": "3.5.2"
  },
  "latex_envs": {
   "LaTeX_envs_menu_present": true,
   "autoclose": false,
   "autocomplete": true,
   "bibliofile": "biblio.bib",
   "cite_by": "apalike",
   "current_citInitial": 1,
   "eqLabelWithNumbers": true,
   "eqNumInitial": 1,
   "hotkeys": {
    "equation": "Ctrl-E",
    "itemize": "Ctrl-I"
   },
   "labels_anchors": false,
   "latex_user_defs": false,
   "report_style_numbering": false,
   "user_envs_cfg": false
  },
  "toc": {
   "base_numbering": 1,
   "nav_menu": {},
   "number_sections": true,
   "sideBar": true,
   "skip_h1_title": false,
   "title_cell": "Table of Contents",
   "title_sidebar": "Contents",
   "toc_cell": false,
   "toc_position": {},
   "toc_section_display": true,
   "toc_window_display": false
  }
 },
 "nbformat": 4,
 "nbformat_minor": 1
}
