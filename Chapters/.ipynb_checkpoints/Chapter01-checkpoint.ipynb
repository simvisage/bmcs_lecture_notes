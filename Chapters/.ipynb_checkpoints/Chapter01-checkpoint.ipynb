{
 "cells": [
  {
   "cell_type": "markdown",
   "metadata": {
    "deletable": true,
    "editable": true
   },
   "source": [
    "# 2 Pull-out behavior"
   ]
  },
  {
   "cell_type": "markdown",
   "metadata": {
    "deletable": true,
    "editable": true
   },
   "source": [
    "### Outline\n",
    "In this chapter we introduce elementary test setups for the pullout of a bar from a cementitious matrix.\n",
    "\\mnote{Test setup and structural response}\n",
    "The goal is set up the playground for questions of test design. Tests are mostly focusing on isolated\n",
    "effects of material behavior, like debonding between two material components. However, it is seldom possible\n",
    "to completely avoid additional effects. The pull-out test setup can be conveniently used to demonstrate \n",
    "the dilemmas involved in a test setup design."
   ]
  },
  {
   "cell_type": "markdown",
   "metadata": {
    "deletable": true,
    "editable": true
   },
   "source": [
    "### Addressed questions\n",
    " * How to identify a bond law describing the bond behavior between matrix and reinforcement? \n",
    " * How to design a test for the calibration of the bond characteristics? \n",
    " * What kinds of tests exist? What are their advantages and disadvantages?\n",
    " * Which tests are appropriate for the different types of reinforcement? (steel, carbon/glass fiber-reinforced polymer,\n",
    "carbon or glass textile fabrics reinforcement. "
   ]
  },
  {
   "cell_type": "markdown",
   "metadata": {
    "deletable": true,
    "editable": true
   },
   "source": [
    "## Constant shear bond to a rigid matrix\n",
    "Regarding an infinitesimal element of an interface area within a composite cross section shown in Fig.~\\ref{FIGConstantBondVariables} we can formulate the local equilibrium condition as\n",
    "\\begin{align}\n",
    "A_\\mathrm{f} \\; \\sigma_{\\mathrm{f},x} - p \\bar{\\tau} =0\n",
    "\\end{align}\n",
    "where \n",
    "$A_\\mathrm{f}$ is the area of the reinforcement, $\\sigma_{\\mathrm{f},x}$ the derivative of the fiber stress with respect to the the length coordinate $x$, $p$ is the perimeter, and $\\bar{\\tau}$ stands for the constant shear/frictional bond stress.\n",
    "Integration of Eq.~(\\ref{eq:equilibrium}) reveals that the stress $\\sigma(x)$ is linear, i.e.\n",
    "\\begin{align}\n",
    "\\sigma_{\\mathrm{f}}(x) = \\frac{p \\bar{\\tau}}{A_{\\mathrm{f}}} x + C\n",
    "\\end{align}"
   ]
  },
  {
   "cell_type": "markdown",
   "metadata": {
    "deletable": true,
    "editable": true
   },
   "source": [
    "### [Example 2.1: Analytical pullout from rigid matrix with constant bond](../Examples/2_1_pullout_from_rigid_matrix.ipynb)"
   ]
  },
  {
   "cell_type": "markdown",
   "metadata": {
    "deletable": true,
    "editable": true
   },
   "source": [
    "### [Example 2.2: Analytical pullout from rigid matrix with constant bond and free length](../Examples/2_2_pullout_from_rigid_matrix_with_free_length.ipynb)"
   ]
  },
  {
   "cell_type": "code",
   "execution_count": null,
   "metadata": {
    "collapsed": true,
    "deletable": true,
    "editable": true
   },
   "outputs": [],
   "source": []
  },
  {
   "cell_type": "code",
   "execution_count": null,
   "metadata": {
    "collapsed": true
   },
   "outputs": [],
   "source": []
  }
 ],
 "metadata": {
  "kernelspec": {
   "display_name": "Python 3",
   "language": "python",
   "name": "python3"
  },
  "language_info": {
   "codemirror_mode": {
    "name": "ipython",
    "version": 3
   },
   "file_extension": ".py",
   "mimetype": "text/x-python",
   "name": "python",
   "nbconvert_exporter": "python",
   "pygments_lexer": "ipython3",
   "version": "3.5.2"
  }
 },
 "nbformat": 4,
 "nbformat_minor": 2
}
