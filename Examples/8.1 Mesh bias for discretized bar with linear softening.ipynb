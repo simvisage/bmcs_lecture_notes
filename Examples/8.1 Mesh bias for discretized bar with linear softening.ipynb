{
 "cells": [
  {
   "cell_type": "markdown",
   "metadata": {
    "deletable": true,
    "editable": true
   },
   "source": [
    "# 8.1 Mesh bias for discretized bar with linear softening"
   ]
  },
  {
   "cell_type": "markdown",
   "metadata": {
    "deletable": true,
    "editable": true
   },
   "source": [
    "Instead of a cohesive crack model with the softening behavior described in terms of stress versus crack opening, let us consider a material law of a zone of a material with linear softening depicted in the Figure~\\ref{FIG_linear_softening}. \n",
    "We will use the softening law to discretize a bar subjected to tensile load. The bar with the Young's modulus $E$ with the total length $L$ is discreitzed using $n$ number of elements.\n",
    "The response of the bar will stay linear elastic until one of the elements reaches its tensile strength $f_\\mathrm{t}$.\n",
    "At this point, the strain in the bar will be $\\varepsilon_0 = f_\\mathrm{t} / E $. \n",
    "Thus, the elastic elongation of the bar can be expressed as\n",
    "\\begin{align}\n",
    "u_\\mathrm{el} = \\varepsilon_0 L = \\frac{f_t}{E} L\n",
    "\\end{align}\n",
    "Beyond the elastic limit, the critical element will enter the softening branch while all the remaining elements will unload. Since we assume the linear softening behavior, we can directly obtain the nominal / macroscopic or average stress-strain response. Once the critical element reached the strength, the stress in the bar will decrease following either the unloading/elastic branch in the elastic part of the specimen or the softening branch in the single softening element. At the stress level $\\sigma = 0$, the elastic part will unload to zero so that it provides no contribution to the overall displacement. The softening part will reach the strain corresponding to the intersection of the softening branch with the $\\varepsilon$ axis, i.e. $\\varepsilon_\\mathrm{f}$. Thus, the control load upon reaching the zero strain in the bar be exactly\n",
    "\\begin{align}\n",
    "u_\\mathrm{f}  = \\frac{L}{n}  \\varepsilon_\\mathrm{f}\n",
    "\\end{align}\n",
    "As a result, the macroscopic stress-strain response of the bar is described by three data points for strains and stresses, i.e. \n",
    "\\begin{align}\n",
    "\\varepsilon = [ 0, f_t/E, \\varepsilon_\\mathrm{f} / n ], \\sigma = [0, f_t, 0]\n",
    "\\end{align}\n",
    "Apparently, the macroscopic response of the bar depends on the number of discretization elements so that we can produce arbitrary results by changing the number of elements or, more precisely, the size of the localizing element."
   ]
  },
  {
   "cell_type": "code",
   "execution_count": 1,
   "metadata": {
    "collapsed": false,
    "deletable": true,
    "editable": true
   },
   "outputs": [],
   "source": [
    "%matplotlib inline\n",
    "import sympy as sp\n",
    "import numpy as np\n",
    "import matplotlib.pyplot as plt"
   ]
  },
  {
   "cell_type": "markdown",
   "metadata": {
    "deletable": true,
    "editable": true
   },
   "source": [
    "## Effect of a the size of the softening zone "
   ]
  },
  {
   "cell_type": "code",
   "execution_count": 5,
   "metadata": {
    "collapsed": false,
    "deletable": true,
    "editable": true
   },
   "outputs": [
    {
     "name": "stdout",
     "output_type": "stream",
     "text": [
      "Is the energy constant? 0.0012\n",
      "Is the energy constant? 0.0006\n",
      "Is the energy constant? 0.00012\n"
     ]
    },
    {
     "data": {
      "image/png": "[encoded data removed]",
      "text/plain": [
       "<matplotlib.figure.Figure at 0x7f234de27be0>"
      ]
     },
     "metadata": {},
     "output_type": "display_data"
    },
    {
     "data": {
      "text/plain": [
       "0.1"
      ]
     },
     "execution_count": 5,
     "metadata": {},
     "output_type": "execute_result"
    }
   ],
   "source": [
    "L = 1.0\n",
    "E = 20000.0\n",
    "f_t = 2.4\n",
    "eps_f = 0.1\n",
    "n_E_list = [100, 200, 1000]\n",
    "# run a loop over the different discretizations\n",
    "for n in n_E_list:  # n: number of element\n",
    "    eps = np.array([0.0, f_t / E, eps_f / n])\n",
    "    sig = np.array([0.0, f_t, 0.0])\n",
    "    g_f = eps[-1] * sig[1] / 2\n",
    "    print('Is the energy constant?', g_f)\n",
    "    plt.plot(eps, sig, label='n=%i' % n)\n",
    "    plt.legend(loc=1)\n",
    "\n",
    "plt.xlabel('strain')\n",
    "plt.ylabel('stress')\n",
    "plt.show()\n",
    "eps_f"
   ]
  },
  {
   "cell_type": "code",
   "execution_count": null,
   "metadata": {
    "collapsed": true,
    "deletable": true,
    "editable": true
   },
   "outputs": [],
   "source": []
  },
  {
   "cell_type": "code",
   "execution_count": null,
   "metadata": {
    "collapsed": true,
    "deletable": true,
    "editable": true
   },
   "outputs": [],
   "source": []
  }
 ],
 "metadata": {
  "kernelspec": {
   "display_name": "Python 3",
   "language": "python",
   "name": "python3"
  },
  "language_info": {
   "codemirror_mode": {
    "name": "ipython",
    "version": 3
   },
   "file_extension": ".py",
   "mimetype": "text/x-python",
   "name": "python",
   "nbconvert_exporter": "python",
   "pygments_lexer": "ipython3",
   "version": "3.5.2"
  }
 },
 "nbformat": 4,
 "nbformat_minor": 2
}
