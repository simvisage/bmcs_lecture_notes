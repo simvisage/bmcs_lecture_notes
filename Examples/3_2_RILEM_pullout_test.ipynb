{
 "cells": [
  {
   "cell_type": "markdown",
   "metadata": {
    "deletable": true,
    "editable": true
   },
   "source": [
    "# Example 3.2: Pull-out - RILEM test recalculation\n",
    "## BC1, support at the loaded end, piecewise linear bond-slip law"
   ]
  },
  {
   "cell_type": "code",
   "execution_count": null,
   "metadata": {
    "collapsed": false,
    "deletable": true,
    "editable": true
   },
   "outputs": [],
   "source": [
    "%reset -f\n",
    "%matplotlib inline\n",
    "import sys\n",
    "import matplotlib.pyplot as plt\n",
    "import numpy as np\n",
    "from bmcs.api import PullOutModel"
   ]
  },
  {
   "cell_type": "markdown",
   "metadata": {
    "deletable": true,
    "editable": true
   },
   "source": [
    "## Model parameters\n",
    "Let us consider the case of the RILEM pullout test with the boundary condition with the following material parameters \n",
    "\\begin{align}\n",
    "d &= 16\\;\\mathrm{mm} \\\\\n",
    "E_\\mathrm{f} &= 210\\;\\mathrm{GPa} \\\\\n",
    "E_\\mathrm{m} &= 28\\;\\mathrm{GPa} \\\\\n",
    "A_\\mathrm{f} &= \\pi (\\frac{d}{2})^2 \\;\\mathrm{mm}^2 \\\\\n",
    "A_\\mathrm{m} &= (10d)^2 \\;\\mathrm{mm}^2 \\\\\n",
    "p &= \\pi d\n",
    "\\end{align}"
   ]
  },
  {
   "cell_type": "code",
   "execution_count": null,
   "metadata": {
    "collapsed": true,
    "deletable": true,
    "editable": true
   },
   "outputs": [],
   "source": [
    "d = 16.0 # [mm]\n",
    "E_f = 210000 # [MPa]\n",
    "E_m = 28000 # [MPa]"
   ]
  },
  {
   "cell_type": "markdown",
   "metadata": {
    "deletable": true,
    "editable": true
   },
   "source": [
    "## Construct the finite element pullout model\n",
    "The model uses a multilinear bond-slip law specified by the attributes \n",
    "s_arr and tau_arr specifying the pairs of slip and bond stress values."
   ]
  },
  {
   "cell_type": "code",
   "execution_count": null,
   "metadata": {
    "collapsed": false,
    "deletable": true,
    "editable": true
   },
   "outputs": [],
   "source": [
    "pm = PullOutModel(mats_eval_type='multilinear',\n",
    "                  n_e_x=50, k_max=200, w_max=0.1)\n",
    "pm.tline.step = 0.005\n",
    "pm.tloop.verbose = False\n",
    "pm.loading_scenario.loading_type='monotonic'\n",
    "pm.mats_eval.s_tau_table = [[0, 0.0001, 0.1],\n",
    "                            [0, 3.0, 8.0]]"
   ]
  },
  {
   "cell_type": "markdown",
   "metadata": {
    "deletable": true,
    "editable": true
   },
   "source": [
    "## Plot the current bond-slip law"
   ]
  },
  {
   "cell_type": "code",
   "execution_count": null,
   "metadata": {
    "collapsed": false,
    "deletable": true,
    "editable": true
   },
   "outputs": [],
   "source": [
    "pm.mats_eval.bs_law.plot(plt, color='green')"
   ]
  },
  {
   "cell_type": "code",
   "execution_count": null,
   "metadata": {
    "collapsed": false,
    "deletable": true,
    "editable": true,
    "scrolled": true
   },
   "outputs": [],
   "source": [
    "colors = ['red','green','blue']\n",
    "length_factors = [5.,10.,3.]\n",
    "diameters = [16.,16.,28.]\n",
    "for f,d,c in zip(length_factors,diameters,colors):\n",
    "    print('calculating for length = %g x %g mm' % (f, d))\n",
    "    pm.geometry.L_x = f*d\n",
    "    r = d / 2.0\n",
    "    A_f = np.pi * r**2\n",
    "    p = np.pi * d\n",
    "    A_m = (10 * d)**2\n",
    "    pm.cross_section.trait_set(A_f=A_f, P_b=p, A_m=A_m)\n",
    "    pm.run()\n",
    "    P,w_0,w_1 =  pm.get_Pw_t()\n",
    "    plt.plot(w_1,P,color=c,label='%g x %g mm' % (f, d))\n",
    "    plt.plot(w_0,P,color=c,label='%g x %g mm' % (f, d), dashes=[6, 2])\n",
    "plt.legend()\n",
    "plt.show()"
   ]
  },
  {
   "cell_type": "code",
   "execution_count": null,
   "metadata": {
    "collapsed": false,
    "deletable": true,
    "editable": true
   },
   "outputs": [],
   "source": [
    "ax = plt.axes()\n",
    "for t in np.linspace(0.,.1,5):\n",
    "    pm.plot_s(ax,t)\n",
    "plt.show()"
   ]
  },
  {
   "cell_type": "markdown",
   "metadata": {
    "deletable": true,
    "editable": true
   },
   "source": [
    "# Questions and Tasks"
   ]
  },
  {
   "cell_type": "markdown",
   "metadata": {
    "deletable": true,
    "editable": true
   },
   "source": [
    "### 1 Material behavior and structural response\n",
    "All three calculated tests share the same bond-slip law. The test with $d = 28\\;\\mathrm{mm}$ and embedded length of $3d$ exhibits a similar shape as the bond-slip law. Why? "
   ]
  },
  {
   "cell_type": "markdown",
   "metadata": {
    "deletable": true,
    "editable": true
   },
   "source": [
    "### 2 Identification of the bond-slip law\n",
    "What possibilities are there to derive the bond slip law from the experimental observation. What trade-offs are involved in the design of the calibration test setup?"
   ]
  },
  {
   "cell_type": "markdown",
   "metadata": {
    "deletable": true,
    "editable": true
   },
   "source": [
    "### 3 Identify the anchorage length for $d = 16\\mathrm{mm}$"
   ]
  },
  {
   "cell_type": "code",
   "execution_count": null,
   "metadata": {
    "collapsed": false,
    "deletable": true,
    "editable": true
   },
   "outputs": [],
   "source": [
    "colors = ['red','green','blue','orange']\n",
    "length_factors = [5.,10.,15., 20.]\n",
    "diameters = [16.,16.,16.,16.]\n",
    "pm.w_max = 1.0\n",
    "## COPY here the loop over the parameter values from above\n",
    "for f,d,c in zip(length_factors,diameters,colors):\n",
    "    print('calculating for length = %g x %g mm' % (f, d))\n",
    "    pm.geometry.L_x = f*d\n",
    "    r = d / 2.0\n",
    "    A_f = np.pi * r**2\n",
    "    p = np.pi * d\n",
    "    A_m = (10 * d)**2\n",
    "    pm.cross_section.trait_set(A_f=A_f, P_b=p, A_m=A_m)\n",
    "    pm.run()\n",
    "    P, w_0,w_1 =  pm.get_Pw_t()\n",
    "    plt.plot(w_1,P,color=c,label='%g x %g mm' % (f, d))\n",
    "    plt.plot(w_0,P,color=c,label='%g x %g mm' % (f, d), dashes=[6, 2])\n",
    "F_yield = A_f * 500.0\n",
    "print('F_yield', F_yield)\n",
    "plt.plot([0,1.0],[F_yield,F_yield], color = 'black', dashes=[6,2])\n",
    "plt.legend()\n",
    "plt.show()"
   ]
  },
  {
   "cell_type": "code",
   "execution_count": null,
   "metadata": {
    "collapsed": true,
    "deletable": true,
    "editable": true
   },
   "outputs": [],
   "source": []
  },
  {
   "cell_type": "code",
   "execution_count": null,
   "metadata": {
    "collapsed": true,
    "deletable": true,
    "editable": true
   },
   "outputs": [],
   "source": []
  }
 ],
 "metadata": {
  "kernelspec": {
   "display_name": "Python 3",
   "language": "python",
   "name": "python3"
  },
  "language_info": {
   "codemirror_mode": {
    "name": "ipython",
    "version": 3
   },
   "file_extension": ".py",
   "mimetype": "text/x-python",
   "name": "python",
   "nbconvert_exporter": "python",
   "pygments_lexer": "ipython3",
   "version": "3.5.2"
  }
 },
 "nbformat": 4,
 "nbformat_minor": 2
}
