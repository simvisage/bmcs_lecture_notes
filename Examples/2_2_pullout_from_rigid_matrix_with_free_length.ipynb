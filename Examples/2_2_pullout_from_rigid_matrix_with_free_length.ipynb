{
 "cells": [
  {
   "cell_type": "markdown",
   "metadata": {
    "deletable": true,
    "editable": true
   },
   "source": [
    "![rwth_imb_logo.png](attachment:rwth_imb_logo.png)"
   ]
  },
  {
   "cell_type": "markdown",
   "metadata": {
    "deletable": true,
    "editable": true
   },
   "source": [
    "[Previous notebook: 2_1_pullout_from_rigid_matrix](./2_1_pullout_from_rigid_matrix.ipynb)"
   ]
  },
  {
   "cell_type": "markdown",
   "metadata": {
    "deletable": true,
    "editable": true
   },
   "source": [
    "[Next notebook: 2_3_pull_out_from_elastic_matrix_supported_at_loaded_end](./2_3_pull_out_from_elastic_matrix_supported_at_loaded_end.ipynb)"
   ]
  },
  {
   "cell_type": "markdown",
   "metadata": {
    "deletable": true,
    "editable": true
   },
   "source": [
    "# Example 2.2: Pullout from rigid matrix\n",
    "## BC1, BC2, BC3 and free length\n",
    "This example shows the analytically solved model of a pullout test with free-length of a bar "
   ]
  },
  {
   "cell_type": "code",
   "execution_count": null,
   "metadata": {
    "collapsed": true,
    "deletable": true,
    "editable": true
   },
   "outputs": [],
   "source": [
    "%reset -f\n",
    "import sympy as sp\n",
    "import numpy as np\n",
    "from IPython.display import display\n",
    "from sympy.plotting import plot as splot, plot3d as splot3d\n",
    "sp.init_printing()"
   ]
  },
  {
   "cell_type": "markdown",
   "metadata": {
    "deletable": true,
    "editable": true
   },
   "source": [
    "## Variables involved in the boundary value problem\n",
    "#### Geometrical parameters\n",
    "-  $A_\\mathrm{f}$ | Young's modulus of the reinforcement\n",
    "-  $p$: Perimiter of the reinforcement\n",
    "-  $L_\\mathrm{f}$: Free length of the pulled-out bar\n",
    "\n",
    "#### Coordinate variable\n",
    "-  $x$: Longitudinal coordinate\n",
    "\n",
    "#### Material parameters\n",
    "-  $E_\\mathrm{f}$: Young's modulus of the reinforcement\n",
    "-  $\\tau$: Frictional bond stress\n",
    "\n",
    "#### Control parameter\n",
    "-  $P, w$: Pullout force, pullout displacement\n",
    "\n",
    "#### State parameter\n",
    "-  $a$: Length of the debonded zone\n",
    "\n",
    "#### Integration constants\n",
    "-  $A,B,C,D$: Integration constants to be resolved through boundary and continuity conditions"
   ]
  },
  {
   "cell_type": "code",
   "execution_count": null,
   "metadata": {
    "collapsed": true,
    "deletable": true,
    "editable": true
   },
   "outputs": [],
   "source": [
    "E_f, A_f, tau, p = sp.symbols('E_f, A_f, tau, p')\n",
    "A, B = sp.symbols('A, B')\n",
    "C, D = sp.symbols('C, D')\n",
    "P, w = sp.symbols('P, w')\n",
    "x, a, L_b, L_f = sp.symbols('x, a, L_b, L_f')"
   ]
  },
  {
   "cell_type": "markdown",
   "metadata": {
    "deletable": true,
    "editable": true
   },
   "source": [
    "## Free length: equilibrium, elasticity and kinematics  \n",
    "In the domain 1 with $x \\in (0, L_\\mathrm{f})$ we can define the following differential equations:<br>\n",
    "__Equilibrium:__ Consider the equilibrium equation along the free length of the bar\n",
    "\\begin{align}\n",
    "\\frac{\\partial \\sigma_\\mathrm{f1}(x)}{\\partial x} &= 0.\n",
    "\\end{align}\n",
    "By integrating this equation we obtain the stress as an unknown constant\n",
    "\\begin{align}\n",
    "\\sigma_\\mathrm{f1}(x) &= A.\n",
    "\\end{align}\n",
    "__Elasticity:__ Assuming linear alastic behavior with the Young's modulus $E_\\mathrm{f}$ we obtain the strain $\\varepsilon$ as\n",
    "\\begin{align}\n",
    "\\varepsilon_\\mathrm{f1}(x) = \\frac{A}{E_\\mathrm{f}}.\n",
    "\\end{align}\n",
    "__Kinematics:__ The displacement of the bar within the free length is obtained as an integral\n",
    "\\begin{align}\n",
    "u_\\mathrm{f1}(x) = \\int \\varepsilon_\\mathrm{f}(x) \\; \\mathrm{d}x = \\frac{A}{E_\\mathrm{f}}x + B\n",
    "\\end{align}"
   ]
  },
  {
   "cell_type": "code",
   "execution_count": null,
   "metadata": {
    "collapsed": true,
    "deletable": true,
    "editable": true
   },
   "outputs": [],
   "source": [
    "d_sig_f1 = 0\n",
    "sig_f1 = sp.integrate(d_sig_f1, x) + A\n",
    "eps_f1 = sig_f1 / E_f\n",
    "u_f1 = sp.integrate(eps_f1, x) + B\n",
    "sig_f1, eps_f1, u_f1 # check"
   ]
  },
  {
   "cell_type": "markdown",
   "metadata": {
    "deletable": true,
    "editable": true
   },
   "source": [
    "## Embedded length: equilibrium, elasticity and compatibility \n",
    "In the halfspace denoted $a$ with $x \\in (-\\infty, 0)$ the governing equations take the folowing form:<br>\n",
    "__Equilibrium__: The equilibrium equation along the free length of the bar introduces the equivalence between the normal force in the reinforcement $\\sigma_\\mathrm{f} A_\\mathrm{f}$ and and the bond intensity within an ifinitesimal element $\\mathrm{d}x$\n",
    "\\begin{align}\n",
    "\\frac{\\partial \\sigma_\\mathrm{fa}}{\\partial x} &= \\frac{p \\tau}{A_\\mathrm{f}}.\n",
    "\\end{align}\n",
    "By integrating this equation we obtain the stress as an unknown constant\n",
    "\\begin{align}\n",
    "\\sigma_\\mathrm{fa}(x) &=  \\frac{p \\tau}{A_\\mathrm{f}} x + C.\n",
    "\\end{align}\n",
    "__Elasticity__: Assuming linear elastic behavior with the Young's modulus $E_\\mathrm{f}$ we obtain the strain $\\varepsilon$ as\n",
    "\\begin{align}\n",
    "\\varepsilon_\\mathrm{fa}(x) = \\frac{1}{E_\\mathrm{f}} \\left(\\frac{p \\tau}{A_\\mathrm{f}} x + C \\right).\n",
    "\\end{align}\n",
    "__Kinematics__: The displacement of the bar within the free length is obtained as an integral\n",
    "\\begin{align}\n",
    "u_\\mathrm{fa}(x) = \n",
    "\\frac{p \\tau x^{2}}{2 A_\\mathrm{f} E_\\mathrm{f}} + \\frac{C x}{E_{\\mathrm{f}}} + D \n",
    "\\end{align}"
   ]
  },
  {
   "cell_type": "code",
   "execution_count": null,
   "metadata": {
    "collapsed": true,
    "deletable": true,
    "editable": true
   },
   "outputs": [],
   "source": [
    "d_sig_fa = p * tau / A_f\n",
    "sig_fa = sp.integrate(d_sig_fa, x) + C\n",
    "eps_fa = sig_fa / E_f\n",
    "u_fa = sp.integrate(eps_fa, x) + D\n",
    "sig_fa, eps_fa, u_fa # check"
   ]
  },
  {
   "cell_type": "markdown",
   "metadata": {
    "deletable": true,
    "editable": true
   },
   "source": [
    "### Resolving for integration constants (step 1)\n",
    "__Condition 1__: Stress in the free length must be equal to $\\sigma(L_\\mathrm{f1}) = P/A_\\mathrm{f}$.<br>\n",
    "__Condition 2__: Displacement at the transition from embedded to the free zone $x-0$ must be equal for embedded and free displacement fields $u_\\mathrm{f1}(0) = u_\\mathrm{fa}(0)$.<br>\n",
    "__Condition 3__: Displacement at the transition from embedded to the free zone $x-0$ must be equal for embedded and free displacement fields $\\varepsilon_\\mathrm{f1}(0) = \\varepsilon_\\mathrm{fa}(0)$.<br>\n",
    "These three conditions can be used to resolve three integration constants. Instead of doing it manually, let us used the sympy solve method to get the results just by pushing shift+return above the next cell. "
   ]
  },
  {
   "cell_type": "code",
   "execution_count": null,
   "metadata": {
    "collapsed": true,
    "deletable": true,
    "editable": true
   },
   "outputs": [],
   "source": [
    "eqns_ABC = {sig_f1 - P / A_f,\n",
    "            u_f1.subs({x:0}) - u_fa.subs({x:0}),\n",
    "            eps_f1.subs({x:0}) - eps_fa.subs({x:0})}\n",
    "ABC_subs = sp.solve(eqns_ABC,{A,B,C})\n",
    "ABC_subs # display the result"
   ]
  },
  {
   "cell_type": "markdown",
   "metadata": {
    "deletable": true,
    "editable": true
   },
   "source": [
    "Verify the result by inserting $A,B,C$ into the original equations for $u_\\mathrm{f}, \\varepsilon_\\mathrm{f}$ and $\\sigma_\\mathrm{f}$.\n",
    "### Resolving for integration constants (step 2)\n",
    "The solution for the integration constant $D$ requires a second thought. Can we say something about how does the displacement approach zero within the embedded length? \n",
    "\n",
    "__Condition 4__: We can postulate, that at some unkonwn distance $a$, the slip between the reinforcement and the matrix will be zero, i.e. $u_\\mathrm{fa}(a) = 0$.\n",
    "\n",
    "However, this postulate does not solve the problem. This additional condition has introduced an additional uknown parameter $a$ so that the problem is still not solvable and another boundary or continuity condition needs to be found.\n",
    "\n",
    "__Condition 5__: We futher postulate, that also the strain $varepsilon$ vanishes at the same distance $a$ as displacement reaches zero. i.e. $\\varepsilon_\\mathrm{fa}(a) = 0$.\n",
    "\n",
    "By employing these conditions, we can resolve for the two uknown parameters $D$ and $a$ using sympy.solve method."
   ]
  },
  {
   "cell_type": "code",
   "execution_count": null,
   "metadata": {
    "collapsed": true,
    "deletable": true,
    "editable": true
   },
   "outputs": [],
   "source": [
    "eqns_aD = {eps_fa.subs(ABC_subs).subs({x:a}),\n",
    "           u_fa.subs(ABC_subs).subs({x:a})}\n",
    "aD_subs = sp.solve(eqns_aD,{a,D})[0]\n",
    "aD_subs"
   ]
  },
  {
   "cell_type": "markdown",
   "metadata": {
    "deletable": true,
    "editable": true
   },
   "source": [
    "With the known values of integration parameters we can resolve all the fields. Using the Heaviside step function $\\theta(x)$ we can conveniently obtain a single function covering the domain of $x$ piece by piece.\n",
    "\\begin{align}\n",
    "  u_\\mathrm{f} & = \\left\\{\n",
    "  \\begin{array}{ll}\n",
    "  u_\\mathrm{f1}(x) & \\iff x > 0, \\\\\n",
    "  u_\\mathrm{fa}(x) & \\iff x < 0 \\land x > a, \\; \\mathrm{where} \\; a = -\\frac{P}{p\\tau}, \\\\\n",
    "  0      & \\mathrm{otherwise}\n",
    "  \\end{array}\n",
    "  \\right.\n",
    "\\end{align}\n",
    "Using the Heaviside function, we can write this in a more compact way as folows\n",
    "\\begin{align}\n",
    "  u_\\mathrm{f} & = u_\\mathrm{f1}(x) \\, \\theta(x) + u_\\mathrm{fa} \\, \\theta(-x) \\, \\theta(x - a)\n",
    "\\end{align}"
   ]
  },
  {
   "cell_type": "code",
   "execution_count": null,
   "metadata": {
    "collapsed": true,
    "deletable": true,
    "editable": true
   },
   "outputs": [],
   "source": [
    "u_f_x = (u_f1.subs(ABC_subs).subs(aD_subs) * sp.Heaviside(x) +\n",
    "         u_fa.subs(ABC_subs).subs(aD_subs) * sp.Heaviside(-x) * sp.Heaviside(x-aD_subs[a]))\n",
    "eps_f_x = sp.diff(u_f_x,x)\n",
    "sig_f_x = 1 / E_f * eps_f_x"
   ]
  },
  {
   "cell_type": "markdown",
   "metadata": {
    "deletable": true,
    "editable": true
   },
   "source": [
    "## Problem solved - lets get the results\n",
    "Define concrete values of the model parameters "
   ]
  },
  {
   "cell_type": "code",
   "execution_count": null,
   "metadata": {
    "collapsed": true,
    "deletable": true,
    "editable": true
   },
   "outputs": [],
   "source": [
    "data_f = dict(L_b=1, L_f = 1, p = 1, E_f = 1, A_f = 1, tau = 1, P_max=1)"
   ]
  },
  {
   "cell_type": "code",
   "execution_count": null,
   "metadata": {
    "collapsed": true,
    "deletable": true,
    "editable": true
   },
   "outputs": [],
   "source": [
    "u_f_x_data = u_f_x.subs(data_f)\n",
    "eps_f_x_data = eps_f_x.subs(data_f)\n",
    "sig_f_x_data = sig_f_x.subs(data_f)\n",
    "P_levels = np.linspace(0,data_f['P_max'],8)\n",
    "L_bb = aD_subs[a].subs(data_f).subs({P:data_f['P_max']})\n",
    "L_bb"
   ]
  },
  {
   "cell_type": "code",
   "execution_count": null,
   "metadata": {
    "collapsed": true,
    "deletable": true,
    "editable": true
   },
   "outputs": [],
   "source": [
    "u_f_list = [u_f_x_data.subs({P: Pl}) for Pl in P_levels] + [(x,L_bb,data_f['L_f'])]\n",
    "splot(*u_f_list, line_color='red')\n",
    "eps_f_list = [eps_f_x_data.subs({P: Pl}) for Pl in P_levels] + [(x,L_bb,data_f['L_f'])]\n",
    "splot(*eps_f_list, line_color='green')\n",
    "sig_f_list = [sig_f_x_data.subs({P: Pl}) for Pl in P_levels] + [(x,L_bb,data_f['L_f'])]\n",
    "splot(*sig_f_list, line_color='blue')"
   ]
  },
  {
   "cell_type": "code",
   "execution_count": null,
   "metadata": {
    "collapsed": true,
    "deletable": true,
    "editable": true
   },
   "outputs": [],
   "source": [
    "P_push, P_pull = sp.solve(u_f_x.subs({x:L_f})-w, P)\n",
    "sp.simplify(P_push), sp.simplify(P_pull)"
   ]
  },
  {
   "cell_type": "code",
   "execution_count": null,
   "metadata": {
    "collapsed": true,
    "deletable": true,
    "editable": true
   },
   "outputs": [],
   "source": [
    "PW_push = P_push.subs(data_f)\n",
    "PW_pull = P_pull.subs(data_f)\n",
    "PW_push, PW_pull"
   ]
  },
  {
   "cell_type": "code",
   "execution_count": null,
   "metadata": {
    "collapsed": true,
    "deletable": true,
    "editable": true
   },
   "outputs": [],
   "source": [
    "splot(PW_pull, (w,0,1), line_color='green')"
   ]
  },
  {
   "cell_type": "markdown",
   "metadata": {
    "deletable": true,
    "editable": true
   },
   "source": [
    "\n"
   ]
  },
  {
   "cell_type": "markdown",
   "metadata": {
    "deletable": true,
    "editable": true
   },
   "source": [
    "## Introduce finite embedded length"
   ]
  },
  {
   "cell_type": "code",
   "execution_count": null,
   "metadata": {
    "collapsed": true,
    "deletable": true,
    "editable": true
   },
   "outputs": [],
   "source": [
    "P_max = sp.solve(aD_subs[a] + L_b, P)[0]\n",
    "w_argmax = sp.solve(P_max - P_pull, w)[0]\n",
    "w_argmax"
   ]
  },
  {
   "cell_type": "code",
   "execution_count": null,
   "metadata": {
    "collapsed": true,
    "deletable": true,
    "editable": true
   },
   "outputs": [],
   "source": [
    "P_pull_Lb = sp.Heaviside(w_argmax - w) * P_pull + sp.Heaviside(w - w_argmax) * P_max\n",
    "PW_pull_Lb = P_pull_Lb.subs(data_f)\n",
    "PW_pull_Lb"
   ]
  },
  {
   "cell_type": "code",
   "execution_count": null,
   "metadata": {
    "collapsed": true,
    "deletable": true,
    "editable": true
   },
   "outputs": [],
   "source": [
    "splot(PW_pull_Lb, (w,0,1), line_color='green')"
   ]
  },
  {
   "cell_type": "markdown",
   "metadata": {
    "deletable": true,
    "editable": true
   },
   "source": [
    "## Clamp the reinforcement"
   ]
  },
  {
   "cell_type": "code",
   "execution_count": null,
   "metadata": {
    "collapsed": true,
    "deletable": true,
    "editable": true
   },
   "outputs": [],
   "source": [
    "d_P_dw = sp.diff(P_pull,w)\n",
    "K_c = d_P_dw.subs({w:w_argmax})\n",
    "K_c"
   ]
  },
  {
   "cell_type": "code",
   "execution_count": null,
   "metadata": {
    "collapsed": true,
    "deletable": true,
    "editable": true
   },
   "outputs": [],
   "source": [
    "P_pull_clamped = (sp.Heaviside(w_argmax - w) * P_pull + \n",
    "       sp.Heaviside(w - w_argmax) * (P_max + K_c * (w - w_argmax)))\n",
    "PW_pull_clamped = P_pull_clamped.subs(data_f)"
   ]
  },
  {
   "cell_type": "code",
   "execution_count": null,
   "metadata": {
    "collapsed": true,
    "deletable": true,
    "editable": true
   },
   "outputs": [],
   "source": [
    "splot(PW_pull_clamped, (w,0,1), line_color='green')"
   ]
  },
  {
   "cell_type": "code",
   "execution_count": null,
   "metadata": {
    "collapsed": true,
    "deletable": true,
    "editable": true
   },
   "outputs": [],
   "source": []
  },
  {
   "cell_type": "code",
   "execution_count": null,
   "metadata": {
    "collapsed": true,
    "deletable": true,
    "editable": true
   },
   "outputs": [],
   "source": []
  },
  {
   "cell_type": "code",
   "execution_count": null,
   "metadata": {
    "collapsed": true,
    "deletable": true,
    "editable": true
   },
   "outputs": [],
   "source": []
  },
  {
   "cell_type": "code",
   "execution_count": null,
   "metadata": {
    "collapsed": true,
    "deletable": true,
    "editable": true
   },
   "outputs": [],
   "source": []
  }
 ],
 "metadata": {
  "kernelspec": {
   "display_name": "Python 3",
   "language": "python",
   "name": "python3"
  },
  "language_info": {
   "codemirror_mode": {
    "name": "ipython",
    "version": 3
   },
   "file_extension": ".py",
   "mimetype": "text/x-python",
   "name": "python",
   "nbconvert_exporter": "python",
   "pygments_lexer": "ipython3",
   "version": "3.5.2"
  }
 },
 "nbformat": 4,
 "nbformat_minor": 1
}
