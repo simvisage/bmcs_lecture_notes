{
 "cells": [
  {
   "cell_type": "code",
   "execution_count": 4,
   "metadata": {
    "collapsed": true,
    "deletable": true,
    "editable": true
   },
   "outputs": [],
   "source": [
    "%reset -f\n",
    "%matplotlib inline\n",
    "import sympy as sp\n",
    "import numpy as np\n",
    "import matplotlib.pyplot as p"
   ]
  },
  {
   "cell_type": "markdown",
   "metadata": {
    "deletable": true,
    "editable": true
   },
   "source": [
    "## Material parameters"
   ]
  },
  {
   "cell_type": "code",
   "execution_count": 5,
   "metadata": {
    "collapsed": true,
    "deletable": true,
    "editable": true
   },
   "outputs": [],
   "source": [
    "f_t = 2.5  # [MPa]\n",
    "E = 34000.0  # [MPa]\n",
    "L = 300.0  # [mm]\n",
    "G_f = 0.014  # [N/mm]\n",
    "A = 10.0  # [mm^2]"
   ]
  },
  {
   "cell_type": "markdown",
   "metadata": {
    "deletable": true,
    "editable": true
   },
   "source": [
    "## Softening function"
   ]
  },
  {
   "cell_type": "code",
   "execution_count": 6,
   "metadata": {
    "collapsed": true,
    "deletable": true,
    "editable": true
   },
   "outputs": [],
   "source": [
    "def f(w, f_t, G_f):\n",
    "    '''Softening law'''\n",
    "    return f_t * np.exp(-f_t / G_f * w)\n",
    "\n",
    "\n",
    "def F(w, f_t, G_f):\n",
    "    '''Integral of the softening law'''\n",
    "    return G_f - G_f * np.exp(-f_t / G_f * w)"
   ]
  },
  {
   "cell_type": "code",
   "execution_count": 7,
   "metadata": {
    "collapsed": false,
    "deletable": true,
    "editable": true
   },
   "outputs": [
    {
     "name": "stdout",
     "output_type": "stream",
     "text": [
      "l 76.16 100.0\n"
     ]
    },
    {
     "data": {
      "image/png": "[encoded data removed]",
      "text/plain": [
       "<matplotlib.figure.Figure at 0x7fe1b3aba828>"
      ]
     },
     "metadata": {},
     "output_type": "display_data"
    }
   ],
   "source": [
    "\n",
    "L_el_list = [100.0]\n",
    "L_arr = np.array(L_el_list)\n",
    "colors = ['orange', 'red', 'green', 'blue', 'gray', 'yellow']\n",
    "\n",
    "w_ch = G_f / f_t\n",
    "w_max = 10.0 * w_ch\n",
    "w = np.linspace(0, w_max, 100)\n",
    "\n",
    "for L, c in zip(L_arr, colors):\n",
    "    # for G_f in G_f_list:\n",
    "\n",
    "    eps_el = [0, f_t / E]\n",
    "    sig_el = [0, f_t]\n",
    "    eps_w = 1 / E * f(w, f_t, G_f) + w / L\n",
    "    sig_w = f(w, f_t, G_f)\n",
    "\n",
    "    W_el = [0, f_t**2 / 2 / E * A * L]\n",
    "    U_el = [0, f_t**2 / 2 / E * A * L]\n",
    "    W_w = 1. / 2. / E * A * L * \\\n",
    "        f(w, f_t, G_f)**2 + A * F(w, f_t, G_f)\n",
    "    U_w = 1. / 2. / E * A * L * \\\n",
    "        f(w, f_t, G_f)**2 + 1. / 2. * A * f(w, f_t, G_f) * w\n",
    "\n",
    "    eps = np.hstack([eps_el, eps_w])\n",
    "    sig = np.hstack([sig_el, sig_w])\n",
    "    W = np.hstack([W_el, W_w])\n",
    "    U = np.hstack([U_el, U_w])\n",
    "\n",
    "    l = E * G_f / f_t**2\n",
    "    print('l', l, L)\n",
    "\n",
    "    p.subplot(2, 2, 1)\n",
    "    p.plot(eps, sig, lw=3, color=c, label='L=%d' % L)\n",
    "    p.xlabel('strain [-]')\n",
    "    p.ylabel('stress [MPa]')\n",
    "    p.legend(loc=1)\n",
    "    p.fill_between(eps, 0, sig, facecolor=c, alpha=0.2)\n",
    "    p.subplot(2, 2, 2)\n",
    "    p.plot(w, f(w, f_t, G_f), color=c)\n",
    "    p.xlabel('crack opening [mm]')\n",
    "    p.ylabel('stress [MPa]')\n",
    "    p.fill_between(w, 0, f(w, f_t, G_f), facecolor=c, alpha=0.2)\n",
    "    p.plot([0, w_ch], [f_t, 0])\n",
    "    p.subplot(2, 2, 3)\n",
    "    p.plot(eps, W, lw=3, color=c)\n",
    "    p.plot(eps, U, lw=3, color=c)\n",
    "    p.fill_between(eps, U, W, facecolor=c, alpha=0.15)\n",
    "    p.xlabel('strain [-]')\n",
    "    p.ylabel('energy [Nmm]')\n",
    "    p.subplot(2, 2, 4)\n",
    "    p.plot(eps, W - U, lw=3, color=c)\n",
    "    p.fill_between(eps, W - U, facecolor=c, alpha=0.15)\n",
    "    p.xlabel('strain [-]')\n",
    "    p.ylabel('fracture energy [Nmm]')\n",
    "\n",
    "p.tight_layout()\n",
    "p.show()"
   ]
  },
  {
   "cell_type": "code",
   "execution_count": null,
   "metadata": {
    "collapsed": true,
    "deletable": true,
    "editable": true
   },
   "outputs": [],
   "source": []
  },
  {
   "cell_type": "code",
   "execution_count": null,
   "metadata": {
    "collapsed": true,
    "deletable": true,
    "editable": true
   },
   "outputs": [],
   "source": []
  },
  {
   "cell_type": "code",
   "execution_count": null,
   "metadata": {
    "collapsed": true,
    "deletable": true,
    "editable": true
   },
   "outputs": [],
   "source": []
  }
 ],
 "metadata": {
  "kernelspec": {
   "display_name": "Python 3",
   "language": "python",
   "name": "python3"
  },
  "language_info": {
   "codemirror_mode": {
    "name": "ipython",
    "version": 3
   },
   "file_extension": ".py",
   "mimetype": "text/x-python",
   "name": "python",
   "nbconvert_exporter": "python",
   "pygments_lexer": "ipython3",
   "version": "3.5.2"
  }
 },
 "nbformat": 4,
 "nbformat_minor": 2
}
