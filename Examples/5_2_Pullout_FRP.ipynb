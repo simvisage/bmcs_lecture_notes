{
 "cells": [
  {
   "attachments": {
    "rwth_imb_logo.png": {
     "image/png": "[encoded data removed]"
    }
   },
   "cell_type": "markdown",
   "metadata": {},
   "source": [
    "![rwth_imb_logo.png](attachment:rwth_imb_logo.png)"
   ]
  },
  {
   "cell_type": "markdown",
   "metadata": {},
   "source": [
    "[Previous notebook: 4_3_Bond_behavior_governed_by_plasticity](./4_3_Bond_behavior_governed_by_plasticity.ipynb)"
   ]
  },
  {
   "cell_type": "markdown",
   "metadata": {},
   "source": [
    "[Next notebook: 6_1_Energy_released_in_pullout_constant_bond_and_rigid_matrix](./6_1_Energy_released_in_pullout_constant_bond_and_rigid_matrix.ipynb)"
   ]
  },
  {
   "cell_type": "markdown",
   "metadata": {},
   "source": [
    "# Example 5.2: Pull-out of FRP-concrete bond\n",
    "This example reproduces the experimental and numerical study presented in \n",
    "\n",
    "Dai, J., Ueda, T. & Sato, Y. Development of the Nonlinear Bond Stress–Slip Model of Fiber Reinforced Plastics Sheet–Concrete Interfaces with a Simple Method. en. Journal of Composites for Construction, 9, pages 52–62. issn: 1090-0268, 1943-5614 (Feb. 2005)"
   ]
  },
  {
   "cell_type": "code",
   "execution_count": 1,
   "metadata": {},
   "outputs": [],
   "source": [
    "%reset -f\n",
    "%matplotlib inline\n",
    "import matplotlib.pyplot as plt\n",
    "import numpy as np\n",
    "from bmcs.api import PullOutModel\n"
   ]
  },
  {
   "cell_type": "markdown",
   "metadata": {},
   "source": [
    "## Model parameters\n",
    "Let us consider the case of the CFRP sheet debonding from concrete"
   ]
  },
  {
   "cell_type": "code",
   "execution_count": 2,
   "metadata": {},
   "outputs": [],
   "source": [
    "A_f = 11.0 # [mm^2]\n",
    "A_m = 80000.0 # [mm^2]\n",
    "p = 100.0 #\n",
    "E_f = 230000.0 # [MPa]\n",
    "E_m = 28000.0 # [MPa]"
   ]
  },
  {
   "cell_type": "markdown",
   "metadata": {},
   "source": [
    "## Construct the finite element pullout model\n",
    "The model uses a multilinear bond-slip law specified by the attributes \n",
    "s_arr and tau_arr specifying the pairs of slip and bond stress values."
   ]
  },
  {
   "cell_type": "code",
   "execution_count": 3,
   "metadata": {},
   "outputs": [],
   "source": [
    "pm = PullOutModel(mats_eval_type='damage',\n",
    "                  n_e_x=200, w_max=1.0)\n",
    "pm.tline.step = 0.006\n",
    "pm.tloop.k_max=500 "
   ]
  },
  {
   "cell_type": "code",
   "execution_count": 4,
   "metadata": {},
   "outputs": [
    {
     "data": {
      "text/latex": [
       "\n",
       "        \\begin{array}{lrrl}\\hline\n",
       "        \\textrm{k_max} & k_{\\max} = 400 & \\textrm{[\\mathrm{mm}]} & \\textrm{maximum number of iterations}  \\\\\n",
       "            \\textrm{tolerance} & \\epsilon = 0.0001 & \\textrm{[-]} & \\textrm{required accuracy}  \\\\\n",
       "            \\textrm{n_e_x} & n_\\mathrm{E} = 200 & \\textrm{[-]} & \\textrm{number of finite elements along the embedded length}  \\\\\n",
       "            \\textrm{mats_eval_type} & None = damage & \\textrm{[None]} & \\textrm{material model type}  \\\\\n",
       "            \\textrm{control_variable} & None = u & \\textrm{[None]} & \\textrm{None}  \\\\\n",
       "            \\textrm{w_max} & w_{\\max} = 1.0 & \\textrm{[mm]} & \\textrm{maximum pullout slip}  \\\\\n",
       "            \\textrm{fixed_boundary} & None = non-loaded end (matrix) & \\textrm{[None]} & \\textrm{which side of the specimen is fixed [non-loaded end [matrix], loaded end [matrix], non-loaded end [reinf]]}  \\\\\n",
       "            \\hline\n",
       "        \\textbf{loading_scenario} & \\textrm{LoadingScenario} & & \\textrm{object defining the loading scenario} \\\\\n",
       "            \\textbf{cross_section} & \\textrm{CrossSection} & & \\textrm{cross section parameters} \\\\\n",
       "            \\textbf{geometry} & \\textrm{Geometry} & & \\textrm{geometry parameters of the boundary value problem} \\\\\n",
       "            \\textbf{mats_eval} & \\textrm{MATSBondSlipD} & & \\textrm{None} \\\\\n",
       "            \\hline\n",
       "        \\end{array}\n",
       "        "
      ],
      "text/plain": [
       "<bmcs.pullout.pullout_sim.PullOutModel at 0x23fc8bf8>"
      ]
     },
     "execution_count": 4,
     "metadata": {},
     "output_type": "execute_result"
    }
   ],
   "source": [
    "pm"
   ]
  },
  {
   "cell_type": "markdown",
   "metadata": {},
   "source": [
    " ## Damage function parameters"
   ]
  },
  {
   "cell_type": "code",
   "execution_count": 5,
   "metadata": {},
   "outputs": [
    {
     "data": {
      "text/latex": [
       "Damage function (FRP)\n",
       "        \\begin{align}\n",
       "        \\omega = g(\\kappa) = \n",
       "        1 - {\\frac {{\\exp(-2\\,Bs)}-{\\exp(-Bs)}}{Bs}}\n",
       "        \\end{align}\n",
       "        where $\\kappa$ is the state variable representing \n",
       "        the maximum slip that occurred so far in\n",
       "        in the history of loading.\n",
       "        \n",
       "        \\begin{array}{lrrl}\\hline\n",
       "        \\textrm{B} & B = 10.4 & \\textrm{[mm$^{-1}$]} & \\textrm{parameter controlling the damage maximum stress level}  \\\\\n",
       "            \\textrm{Gf} & G_\\mathrm{f} = 1.19 & \\textrm{[N/mm]} & \\textrm{fracture energy}  \\\\\n",
       "            \\textrm{s_0} & s_0 = 0.00917278625641288 & \\textrm{[mm]} & \\textrm{elastic strain limit}  \\\\\n",
       "            \\hline\n",
       "        \\hline\n",
       "        \\end{array}\n",
       "        "
      ],
      "text/plain": [
       "<ibvpy.mats.mats_damage_fn.FRPDamageFn at 0x24dc2678>"
      ]
     },
     "execution_count": 5,
     "metadata": {},
     "output_type": "execute_result"
    }
   ],
   "source": [
    "pm.mats_eval.omega_fn_type = 'FRP'\n",
    "pm.mats_eval.omega_fn.trait_set( \n",
    "    B=10.4,\n",
    "    Gf=1.19\n",
    ")\n",
    "pm.mats_eval.omega_fn"
   ]
  },
  {
   "cell_type": "code",
   "execution_count": 6,
   "metadata": {},
   "outputs": [
    {
     "data": {
      "image/png": "[encoded data removed]",
      "text/plain": [
       "<Figure size 432x288 with 1 Axes>"
      ]
     },
     "metadata": {
      "needs_background": "light"
     },
     "output_type": "display_data"
    }
   ],
   "source": [
    "pm.mats_eval.omega_fn.plot(plt.axes())"
   ]
  },
  {
   "cell_type": "code",
   "execution_count": 7,
   "metadata": {},
   "outputs": [],
   "source": [
    "#pm.mats_eval.plot(plt.axes())"
   ]
  },
  {
   "cell_type": "code",
   "execution_count": 8,
   "metadata": {},
   "outputs": [
    {
     "data": {
      "text/latex": [
       "\n",
       "        \\begin{array}{lrrl}\\hline\n",
       "        \\textrm{loading_type} & option = cyclic & \\textrm{[-]} & \\textrm{possible values: [monotonic, cyclic]}  \\\\\n",
       "            \\textrm{number_of_cycles} & n_\\mathrm{cycles} = 1 & \\textrm{[-]} & \\textrm{for cyclic loading}  \\\\\n",
       "            \\textrm{maximum_loading} & \\phi_{\\max} = 1.0 & \\textrm{[-]} & \\textrm{load factor at maximum load level}  \\\\\n",
       "            \\textrm{unloading_ratio} & \\phi_{\\mathrm{unload}} = 0.5 & \\textrm{[-]} & \\textrm{fraction of maximum load at lowest load level}  \\\\\n",
       "            \\textrm{number_of_increments} & n_{\\mathrm{incr}} = 20 & \\textrm{[-]} & \\textrm{number of values within a monotonic load branch}  \\\\\n",
       "            \\textrm{amplitude_type} & option = increasing & \\textrm{[-]} & \\textrm{possible values: [increasing, constant]}  \\\\\n",
       "            \\textrm{loading_range} & option = non-symmetric & \\textrm{[-]} & \\textrm{possible values: [non-symmetric, symmetric]}  \\\\\n",
       "            \\hline\n",
       "        \\hline\n",
       "        \\end{array}\n",
       "        "
      ],
      "text/plain": [
       "<bmcs.time_functions.loading_scenario.LoadingScenario at 0x235486d0>"
      ]
     },
     "execution_count": 8,
     "metadata": {},
     "output_type": "execute_result"
    },
    {
     "data": {
      "image/png": "[encoded data removed]",
      "text/plain": [
       "<Figure size 432x288 with 1 Axes>"
      ]
     },
     "metadata": {
      "needs_background": "light"
     },
     "output_type": "display_data"
    }
   ],
   "source": [
    "pm.loading_scenario.plot(plt.axes())\n",
    "pm.loading_scenario.trait_set(loading_type='cyclic')\n",
    "pm.loading_scenario.trait_set(number_of_cycles=1)"
   ]
  },
  {
   "cell_type": "code",
   "execution_count": 9,
   "metadata": {
    "scrolled": true
   },
   "outputs": [
    {
     "data": {
      "text/latex": [
       "\n",
       "        \\begin{array}{lrrl}\\hline\n",
       "        \\textrm{E_m} & None = 30000.0 & \\textrm{[None]} & \\textrm{None}  \\\\\n",
       "            \\textrm{E_f} & None = 200000.0 & \\textrm{[None]} & \\textrm{None}  \\\\\n",
       "            \\textrm{E_b} & None = 223.18383360000004 & \\textrm{[None]} & \\textrm{None}  \\\\\n",
       "            \\textrm{omega_fn_type} & None = FRP & \\textrm{[None]} & \\textrm{None}  \\\\\n",
       "            \\hline\n",
       "        \\textbf{omega_fn} & \\textrm{FRPDamageFn} & & \\textrm{None} \\\\\n",
       "            \\hline\n",
       "        \\end{array}\n",
       "        "
      ],
      "text/plain": [
       "<ibvpy.mats.mats1D5.vmats1D5_bondslip1D.MATSBondSlipD at 0x24d8e6d0>"
      ]
     },
     "execution_count": 9,
     "metadata": {},
     "output_type": "execute_result"
    }
   ],
   "source": [
    "pm.mats_eval# configuration of the material model"
   ]
  },
  {
   "cell_type": "code",
   "execution_count": 10,
   "metadata": {},
   "outputs": [
    {
     "data": {
      "text/latex": [
       "\n",
       "        \\begin{array}{lrrl}\\hline\n",
       "        \\textrm{A_m} & A_\\mathrm{m} = 80000.0 & \\textrm{[$\\mathrm{mm}^2$]} & \\textrm{matrix area}  \\\\\n",
       "            \\textrm{A_f} & A_\\mathrm{f} = 11.0 & \\textrm{[$\\mathrm{mm}^2$]} & \\textrm{reinforcement area}  \\\\\n",
       "            \\textrm{P_b} & p_\\mathrm{b} = 100.0 & \\textrm{[$\\mathrm{mm}$]} & \\textrm{perimeter of the bond interface}  \\\\\n",
       "            \\hline\n",
       "        \\hline\n",
       "        \\end{array}\n",
       "        "
      ],
      "text/plain": [
       "<bmcs.pullout.pullout_sim.CrossSection at 0x239b6c50>"
      ]
     },
     "execution_count": 10,
     "metadata": {},
     "output_type": "execute_result"
    }
   ],
   "source": [
    "pm.cross_section.trait_set(A_f=A_f, P_b=p, A_m=A_m)\n",
    "pm.cross_section # display the cross section parameters"
   ]
  },
  {
   "cell_type": "code",
   "execution_count": null,
   "metadata": {
    "scrolled": false
   },
   "outputs": [],
   "source": [
    "w = pm.get_window()\n",
    "w.configure_traits()"
   ]
  },
  {
   "cell_type": "markdown",
   "metadata": {},
   "source": [
    "# Questions and Tasks"
   ]
  },
  {
   "cell_type": "markdown",
   "metadata": {},
   "source": [
    "Analyze the data published in the paper that introduce this model\n",
    "In particular:\n",
    "1. Calculate the maximum pullout force using other types of fibers and adhesives and compare the results with the experimental results, for example the specimes (GR1L1, CR3L1)\n",
    "2. Calculate the anchorage length for the following combination:\n",
    " - Carbon fiber with the adhesive (CN-100)\n",
    " - Glass fiber with the adhesive (FR-E3P)"
   ]
  },
  {
   "cell_type": "markdown",
   "metadata": {},
   "source": [
    "## How would the pullout test unload?"
   ]
  }
 ],
 "metadata": {
  "kernelspec": {
   "display_name": "Python 3",
   "language": "python",
   "name": "python3"
  },
  "language_info": {
   "codemirror_mode": {
    "name": "ipython",
    "version": 3
   },
   "file_extension": ".py",
   "mimetype": "text/x-python",
   "name": "python",
   "nbconvert_exporter": "python",
   "pygments_lexer": "ipython3",
   "version": "3.7.3"
  }
 },
 "nbformat": 4,
 "nbformat_minor": 2
}
