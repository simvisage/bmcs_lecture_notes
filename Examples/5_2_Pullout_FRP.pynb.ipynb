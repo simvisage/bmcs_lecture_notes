{
 "cells": [
  {
   "cell_type": "markdown",
   "metadata": {},
   "source": [
    "# Example 5.2: Pull-out of FRP-concrete bond\n",
    "This example reproduces the experimental and numerical study presented in \n",
    "\n",
    "Dai, J., Ueda, T. & Sato, Y. Development of the Nonlinear Bond Stress–Slip Model of Fiber Reinforced Plastics Sheet–Concrete Interfaces with a Simple Method. en. Journal of Composites for Construction, 9, pages 52–62. issn: 1090-0268, 1943-5614 (Feb. 2005)"
   ]
  },
  {
   "cell_type": "code",
   "execution_count": null,
   "metadata": {},
   "outputs": [],
   "source": [
    "%reset -f\n",
    "%matplotlib inline\n",
    "import matplotlib.pyplot as plt\n",
    "import numpy as np\n",
    "from bmcs.api import PullOutModel\n"
   ]
  },
  {
   "cell_type": "markdown",
   "metadata": {},
   "source": [
    "## Model parameters\n",
    "Let us consider the case of the CFRP sheet debonding from concrete"
   ]
  },
  {
   "cell_type": "code",
   "execution_count": null,
   "metadata": {
    "collapsed": true
   },
   "outputs": [],
   "source": [
    "A_f = 11.0 # [mm^2]\n",
    "A_m = 80000.0 # [mm^2]\n",
    "p = 100.0 #\n",
    "E_f = 230000.0 # [MPa]\n",
    "E_m = 28000.0 # [MPa]"
   ]
  },
  {
   "cell_type": "markdown",
   "metadata": {},
   "source": [
    "## Construct the finite element pullout model\n",
    "The model uses a multilinear bond-slip law specified by the attributes \n",
    "s_arr and tau_arr specifying the pairs of slip and bond stress values."
   ]
  },
  {
   "cell_type": "code",
   "execution_count": null,
   "metadata": {},
   "outputs": [],
   "source": [
    "pm = PullOutModel(mats_eval_type='damage',\n",
    "                  n_e_x=200, w_max=1.0)\n",
    "pm.tline.step = 0.006\n",
    "pm.tloop.k_max=500 "
   ]
  },
  {
   "cell_type": "code",
   "execution_count": null,
   "metadata": {},
   "outputs": [],
   "source": [
    "pm"
   ]
  },
  {
   "cell_type": "markdown",
   "metadata": {},
   "source": [
    " ## Damage function parameters"
   ]
  },
  {
   "cell_type": "code",
   "execution_count": null,
   "metadata": {},
   "outputs": [],
   "source": [
    "pm.mats_eval.omega_fn_type = 'FRP'\n",
    "pm.mats_eval.omega_fn.trait_set( \n",
    "    B=10.4,\n",
    "    Gf=1.19\n",
    ")\n",
    "pm.mats_eval.omega_fn"
   ]
  },
  {
   "cell_type": "code",
   "execution_count": null,
   "metadata": {},
   "outputs": [],
   "source": [
    "pm.mats_eval.omega_fn.plot(plt.axes())"
   ]
  },
  {
   "cell_type": "code",
   "execution_count": null,
   "metadata": {},
   "outputs": [],
   "source": [
    "#pm.mats_eval.plot(plt.axes())"
   ]
  },
  {
   "cell_type": "code",
   "execution_count": null,
   "metadata": {},
   "outputs": [],
   "source": [
    "pm.loading_scenario.plot(plt.axes())\n",
    "pm.loading_scenario.trait_set(loading_type='cyclic')\n",
    "pm.loading_scenario.trait_set(number_of_cycles=1)"
   ]
  },
  {
   "cell_type": "code",
   "execution_count": null,
   "metadata": {
    "scrolled": true
   },
   "outputs": [],
   "source": [
    "pm.mats_eval# configuration of the material model"
   ]
  },
  {
   "cell_type": "code",
   "execution_count": null,
   "metadata": {},
   "outputs": [],
   "source": [
    "pm.cross_section.trait_set(A_f=A_f, P_b=p, A_m=A_m)\n",
    "pm.cross_section # display the cross section parameters"
   ]
  },
  {
   "cell_type": "code",
   "execution_count": null,
   "metadata": {
    "scrolled": false
   },
   "outputs": [],
   "source": [
    "w = pm.get_window()\n",
    "w.configure_traits()"
   ]
  },
  {
   "cell_type": "markdown",
   "metadata": {},
   "source": [
    "# Questions and Tasks"
   ]
  },
  {
   "cell_type": "markdown",
   "metadata": {},
   "source": [
    "Analyze the data published in the paper that introduce this model\n",
    "In particular:\n",
    "1. Calculate the maximum pullout force using other types of fibers and adhesives and compare the results with the experimental results, for example the specimes (GR1L1, CR3L1)\n",
    "2. Calculate the anchorage length for the following combination:\n",
    " - Carbon fiber with the adhesive (CN-100)\n",
    " - Glass fiber with the adhesive (FR-E3P)"
   ]
  },
  {
   "cell_type": "markdown",
   "metadata": {},
   "source": [
    "## How would the pullout test unload?"
   ]
  }
 ],
 "metadata": {
  "kernelspec": {
   "display_name": "Python 3",
   "language": "python",
   "name": "python3"
  },
  "language_info": {
   "codemirror_mode": {
    "name": "ipython",
    "version": 3
   },
   "file_extension": ".py",
   "mimetype": "text/x-python",
   "name": "python",
   "nbconvert_exporter": "python",
   "pygments_lexer": "ipython3",
   "version": "3.7.3"
  }
 },
 "nbformat": 4,
 "nbformat_minor": 2
}
