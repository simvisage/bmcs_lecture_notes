{
 "cells": [
  {
   "cell_type": "markdown",
   "metadata": {
    "deletable": true,
    "editable": true
   },
   "source": [
    "# Example 3.3: Pull-out - CFRP sheet with slip softening\n",
    "## BC1, support at the loaded end, piecewise linear bond-slip law"
   ]
  },
  {
   "cell_type": "code",
   "execution_count": null,
   "metadata": {
    "collapsed": false,
    "deletable": true,
    "editable": true
   },
   "outputs": [],
   "source": [
    "%reset -f\n",
    "%matplotlib inline\n",
    "import matplotlib.pyplot as plt\n",
    "import numpy as np\n",
    "from bmcs.api import PullOutModel"
   ]
  },
  {
   "cell_type": "markdown",
   "metadata": {
    "deletable": true,
    "editable": true
   },
   "source": [
    "## Model parameters\n",
    "Let us consider the case of the CFRP sheet debonding from concrete"
   ]
  },
  {
   "cell_type": "code",
   "execution_count": null,
   "metadata": {
    "collapsed": true,
    "deletable": true,
    "editable": true
   },
   "outputs": [],
   "source": [
    "A_f = 16.67 # [mm^2]\n",
    "A_m = 1540.0 # [mm^2]\n",
    "p = 1.0 #\n",
    "E_f = 170000 # [MPa]\n",
    "E_m = 28000 # [MPa]"
   ]
  },
  {
   "cell_type": "markdown",
   "metadata": {
    "deletable": true,
    "editable": true
   },
   "source": [
    "## Construct the finite element pullout model\n",
    "The model uses a multilinear bond-slip law specified by the attributes \n",
    "s_arr and tau_arr specifying the pairs of slip and bond stress values."
   ]
  },
  {
   "cell_type": "code",
   "execution_count": null,
   "metadata": {
    "collapsed": false,
    "deletable": true,
    "editable": true
   },
   "outputs": [],
   "source": [
    "pm = PullOutModel(mats_eval_type='multilinear',\n",
    "                  n_e_x=50, w_max=0.8)\n",
    "pm.tline.step = 0.001\n",
    "pm.tloop.k_max = 300\n",
    "pm.loading_scenario.loading_type='monotonic'\n",
    "pm.mats_eval.s_tau_table = [[0, 0.1, 0.4, 4],\n",
    "                            [0, 800, 0, 0]]\n",
    "pm # display the model configuration"
   ]
  },
  {
   "cell_type": "code",
   "execution_count": null,
   "metadata": {
    "collapsed": false,
    "deletable": true,
    "editable": true
   },
   "outputs": [],
   "source": [
    "pm.mats_eval # configuration of the material model"
   ]
  },
  {
   "cell_type": "code",
   "execution_count": null,
   "metadata": {
    "collapsed": false,
    "deletable": true,
    "editable": true
   },
   "outputs": [],
   "source": [
    "pm.cross_section # display the cross section parameters"
   ]
  },
  {
   "cell_type": "code",
   "execution_count": null,
   "metadata": {
    "collapsed": false,
    "deletable": true,
    "editable": true
   },
   "outputs": [],
   "source": [
    "pm.geometry # geometry of the boundary value problem"
   ]
  },
  {
   "cell_type": "markdown",
   "metadata": {
    "deletable": true,
    "editable": true
   },
   "source": [
    "## Plot the current bond-slip law"
   ]
  },
  {
   "cell_type": "code",
   "execution_count": null,
   "metadata": {
    "collapsed": false,
    "deletable": true,
    "editable": true
   },
   "outputs": [],
   "source": [
    "pm.mats_eval.bs_law.plot(plt, color='green')"
   ]
  },
  {
   "cell_type": "code",
   "execution_count": null,
   "metadata": {
    "collapsed": false,
    "deletable": true,
    "editable": true,
    "scrolled": false
   },
   "outputs": [],
   "source": [
    "colors = ['red','green','blue','orange','black']\n",
    "lengths = [5.,10, 50, 100, 200]\n",
    "for length,c in zip(lengths,colors):\n",
    "    print('calculating for length = %g mm' % length)\n",
    "    pm.geometry.L_x = length\n",
    "    pm.tloop.verbose = False\n",
    "    A_f = A_f\n",
    "    p = p\n",
    "    A_m = A_m\n",
    "    pm.cross_section.trait_set(A_f=A_f, P_b=p, A_m=A_m)\n",
    "    pm.run()\n",
    "    P, w_0, w_1 = pm.get_Pw_t()\n",
    "    plt.plot(w_1,P,color=c,label='%g mm' % length)\n",
    "    plt.plot(w_0,P,color=c,label='%g mm' % length, dashes=[6, 2])\n",
    "plt.legend()\n",
    "plt.show()\n",
    "A_f * 2000"
   ]
  },
  {
   "cell_type": "code",
   "execution_count": null,
   "metadata": {
    "collapsed": false,
    "deletable": true,
    "editable": true
   },
   "outputs": [],
   "source": [
    "ax = plt.axes()\n",
    "for t in np.linspace(0.,0.99,5):\n",
    "    pm.plot_sf(ax,t)\n",
    "plt.show()"
   ]
  },
  {
   "cell_type": "code",
   "execution_count": null,
   "metadata": {
    "collapsed": false,
    "deletable": true,
    "editable": true
   },
   "outputs": [],
   "source": [
    "ax = plt.axes()\n",
    "for t in np.linspace(0.,.99,5):\n",
    "    pm.plot_s(ax,t)\n",
    "plt.show()"
   ]
  },
  {
   "cell_type": "code",
   "execution_count": null,
   "metadata": {
    "collapsed": false,
    "deletable": true,
    "editable": true
   },
   "outputs": [],
   "source": [
    "ax = plt.axes()\n",
    "for t in np.linspace(0.,.99,5):\n",
    "    pm.plot_eps_p(ax,t)\n",
    "plt.show()"
   ]
  },
  {
   "cell_type": "code",
   "execution_count": null,
   "metadata": {
    "collapsed": false,
    "deletable": true,
    "editable": true
   },
   "outputs": [],
   "source": [
    "ax = plt.axes()\n",
    "for t in np.linspace(0.,.99,5):\n",
    "    pm.plot_sig_p(ax,t)\n",
    "plt.show()"
   ]
  },
  {
   "cell_type": "markdown",
   "metadata": {
    "deletable": true,
    "editable": true
   },
   "source": [
    "# Questions and Tasks"
   ]
  },
  {
   "cell_type": "markdown",
   "metadata": {
    "deletable": true,
    "editable": true
   },
   "source": [
    "### 1 What is the anchorage length? "
   ]
  },
  {
   "cell_type": "code",
   "execution_count": null,
   "metadata": {
    "collapsed": true,
    "deletable": true,
    "editable": true
   },
   "outputs": [],
   "source": []
  },
  {
   "cell_type": "code",
   "execution_count": null,
   "metadata": {
    "collapsed": true,
    "deletable": true,
    "editable": true
   },
   "outputs": [],
   "source": []
  }
 ],
 "metadata": {
  "kernelspec": {
   "display_name": "Python 3",
   "language": "python",
   "name": "python3"
  },
  "language_info": {
   "codemirror_mode": {
    "name": "ipython",
    "version": 3
   },
   "file_extension": ".py",
   "mimetype": "text/x-python",
   "name": "python",
   "nbconvert_exporter": "python",
   "pygments_lexer": "ipython3",
   "version": "3.5.2"
  }
 },
 "nbformat": 4,
 "nbformat_minor": 2
}
