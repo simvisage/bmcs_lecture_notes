{
 "cells": [
  {
   "cell_type": "markdown",
   "metadata": {},
   "source": [
    "# Example 6.1: Pullout from rigid matrix revisited -- energy dissipation\n",
    "This example shows the analytically solved model - the simplest possible configuration "
   ]
  },
  {
   "cell_type": "code",
   "execution_count": 40,
   "metadata": {
    "collapsed": true
   },
   "outputs": [],
   "source": [
    "%reset -f\n",
    "import sympy as sp\n",
    "import numpy as np\n",
    "from IPython.display import display\n",
    "from sympy.plotting import plot as splot, plot3d as splot3d\n",
    "sp.init_printing()"
   ]
  },
  {
   "cell_type": "markdown",
   "metadata": {},
   "source": [
    "## Variables involved in the boundary value problem\n",
    "#### Geometrical parameters\n",
    "-  $A_\\mathrm{f}$ | Cross section area modulus of the reinforcement\n",
    "-  $p$: Perimeter of the reinforcement\n",
    "-  $L_\\mathrm{f}$: Free length of the pulled-out bar\n",
    "\n",
    "#### Coordinate variable\n",
    "-  $x$: Longitudinal coordinate\n",
    "\n",
    "#### Material parameters\n",
    "-  $E_\\mathrm{f}$: Young's modulus of the reinforcement\n",
    "-  $\\tau$: Frictional bond stress\n",
    "\n",
    "#### Control parameter\n",
    "-  $P, w$: Pullout force, pullout displacement\n",
    "\n",
    "#### State parameter\n",
    "-  $a$: Length of the debonded zone\n",
    "\n",
    "#### Integration constants\n",
    "-  $C,D$: Integration constants to be resolved through boundary and continuity conditions"
   ]
  },
  {
   "cell_type": "code",
   "execution_count": 41,
   "metadata": {
    "collapsed": true
   },
   "outputs": [],
   "source": [
    "E_f, A_f, tau, p = sp.symbols('E_f, A_f, tau, p')\n",
    "C, D = sp.symbols('C, D')\n",
    "P, w = sp.symbols('P, w')\n",
    "x, a, L_b = sp.symbols('x, a, L_b')"
   ]
  },
  {
   "cell_type": "markdown",
   "metadata": {},
   "source": [
    "## Embedded length: equilibrium, elasticity and compatibility \n",
    "In the halfspace $x \\in (-\\infty, 0)$ the governing equations take the folowing form:<br>\n",
    "__Equilibrium__: The equilibrium equation along the free length of the bar introduces the equivalence between the normal force in the reinforcement $\\sigma_\\mathrm{f} A_\\mathrm{f}$ and and the bond intensity within an ifinitesimal element $\\mathrm{d}x$\n",
    "\\begin{align}\n",
    "\\frac{\\partial \\sigma_\\mathrm{f}}{\\partial x} &= \\frac{p \\tau}{A_\\mathrm{f}}.\n",
    "\\end{align}\n",
    "By integrating this equation we obtain the stress as an unknown constant\n",
    "\\begin{align}\n",
    "\\sigma_\\mathrm{f}(x) &=  \\frac{p \\tau}{A_\\mathrm{f}} x + C.\n",
    "\\end{align}\n",
    "__Elasticity__: Assuming linear elastic behavior with the Young's modulus $E_\\mathrm{f}$ we obtain the strain $\\varepsilon$ as\n",
    "\\begin{align}\n",
    "\\varepsilon_\\mathrm{f}(x) = \\frac{1}{E_\\mathrm{f}} \\left(\\frac{p \\tau}{A_\\mathrm{f}} x + C \\right).\n",
    "\\end{align}\n",
    "__Kinematics__: The displacement of the bar within the free length is obtained as an integral\n",
    "\\begin{align}\n",
    "u_\\mathrm{f}(x) = \n",
    "\\frac{p \\tau x^{2}}{2 A_\\mathrm{f} E_\\mathrm{f}} + \\frac{C x}{E_{\\mathrm{f}}} + D \n",
    "\\end{align}"
   ]
  },
  {
   "cell_type": "code",
   "execution_count": 42,
   "metadata": {},
   "outputs": [
    {
     "data": {
      "image/png": "[encoded data removed]",
      "text/latex": [
       "$$\\left ( C + \\frac{p \\tau}{A_{f}} x, \\quad \\frac{1}{E_{f}} \\left(C + \\frac{p \\tau}{A_{f}} x\\right), \\quad \\frac{C x}{E_{f}} + D + \\frac{p \\tau x^{2}}{2 A_{f} E_{f}}\\right )$$"
      ],
      "text/plain": [
       "⎛               p⋅τ⋅x                     ⎞\n",
       "⎜           C + ─────                   2 ⎟\n",
       "⎜    p⋅τ⋅x       A_f   C⋅x         p⋅τ⋅x  ⎟\n",
       "⎜C + ─────, ─────────, ─── + D + ─────────⎟\n",
       "⎝     A_f      E_f     E_f       2⋅A_f⋅E_f⎠"
      ]
     },
     "execution_count": 42,
     "metadata": {},
     "output_type": "execute_result"
    }
   ],
   "source": [
    "d_sig_f = p * tau / A_f\n",
    "sig_f = sp.integrate(d_sig_f, x) + C\n",
    "eps_f = sig_f / E_f\n",
    "u_f = sp.integrate(eps_f, x) + D\n",
    "sig_f, eps_f, u_f # check"
   ]
  },
  {
   "cell_type": "markdown",
   "metadata": {},
   "source": [
    "### Resolving for integration constants (step 1)\n",
    "__Condition 1__: Stress in the free length must be equal to $\\sigma(0) = P/A_\\mathrm{f}$.<br> "
   ]
  },
  {
   "cell_type": "code",
   "execution_count": 43,
   "metadata": {},
   "outputs": [
    {
     "data": {
      "image/png": "[encoded data removed]",
      "text/latex": [
       "$$\\left \\{ C : \\frac{P}{A_{f}}\\right \\}$$"
      ],
      "text/plain": [
       "⎧    P ⎫\n",
       "⎨C: ───⎬\n",
       "⎩   A_f⎭"
      ]
     },
     "execution_count": 43,
     "metadata": {},
     "output_type": "execute_result"
    }
   ],
   "source": [
    "eq_C = {P - sig_f.subs({x:0}) * A_f}\n",
    "C_subs = sp.solve(eq_C,{C})\n",
    "C_subs # display the result"
   ]
  },
  {
   "cell_type": "markdown",
   "metadata": {},
   "source": [
    "### Resolving for integration constants (step 2)\n",
    "The solution for the integration constant $D$ requires a second thought. Can we say something about how does the displacement approach zero within the embedded length? \n",
    "\n",
    "__Condition 2__: We can postulate, that at some unkonwn distance $a$, the slip between the reinforcement and the matrix will be zero, i.e. $u_\\mathrm{f}(a) = 0$."
   ]
  },
  {
   "cell_type": "code",
   "execution_count": 44,
   "metadata": {},
   "outputs": [
    {
     "data": {
      "image/png": "[encoded data removed]",
      "text/latex": [
       "$$\\left \\{ D : - \\frac{a}{2 A_{f} E_{f}} \\left(2 P + a p \\tau\\right)\\right \\}$$"
      ],
      "text/plain": [
       "⎧   -a⋅(2⋅P + a⋅p⋅τ) ⎫\n",
       "⎨D: ─────────────────⎬\n",
       "⎩       2⋅A_f⋅E_f    ⎭"
      ]
     },
     "execution_count": 44,
     "metadata": {},
     "output_type": "execute_result"
    }
   ],
   "source": [
    "eqns_D = {u_f.subs(C_subs).subs({x:a})}\n",
    "D_subs = sp.solve(eqns_D,{D})\n",
    "D_subs"
   ]
  },
  {
   "cell_type": "markdown",
   "metadata": {},
   "source": [
    "However, this postulate does not solve the problem. This additional condition has introduced an additional uknown parameter $a$ so that the problem is still not solvable and another boundary or continuity condition needs to be found.\n",
    "\n",
    "__Condition 3__: We futher postulate, that also the strain $\\varepsilon$ vanishes at the same distance $a$ as displacement reaches zero. i.e. $\\varepsilon_\\mathrm{f}(a) = 0$."
   ]
  },
  {
   "cell_type": "code",
   "execution_count": 45,
   "metadata": {},
   "outputs": [
    {
     "data": {
      "image/png": "[encoded data removed]",
      "text/latex": [
       "$$\\left \\{ a : - \\frac{P}{p \\tau}\\right \\}$$"
      ],
      "text/plain": [
       "⎧   -P ⎫\n",
       "⎨a: ───⎬\n",
       "⎩   p⋅τ⎭"
      ]
     },
     "execution_count": 45,
     "metadata": {},
     "output_type": "execute_result"
    }
   ],
   "source": [
    "eqns_a = {eps_f.subs(C_subs).subs(D_subs).subs({x:a})}\n",
    "a_subs = sp.solve(eqns_a,{a})\n",
    "a_subs"
   ]
  },
  {
   "cell_type": "markdown",
   "metadata": {},
   "source": [
    "Now all the unknown parameters are resolved. Lets put them all into a single dictionary called var_subs for convenience to avoid long substitution expressions to derive $u_\\mathrm{f}$, $\\varepsilon_\\mathrm{f}$ and $\\sigma_\\mathrm{f}$."
   ]
  },
  {
   "cell_type": "code",
   "execution_count": 46,
   "metadata": {},
   "outputs": [
    {
     "data": {
      "image/png": "[encoded data removed]",
      "text/latex": [
       "$$\\left \\{ C : \\frac{P}{A_{f}}, \\quad D : - \\frac{a}{2 A_{f} E_{f}} \\left(2 P + a p \\tau\\right), \\quad a : - \\frac{P}{p \\tau}\\right \\}$$"
      ],
      "text/plain": [
       "⎧    P      -a⋅(2⋅P + a⋅p⋅τ)      -P ⎫\n",
       "⎨C: ───, D: ─────────────────, a: ───⎬\n",
       "⎩   A_f         2⋅A_f⋅E_f         p⋅τ⎭"
      ]
     },
     "execution_count": 46,
     "metadata": {},
     "output_type": "execute_result"
    }
   ],
   "source": [
    "var_subs = {}\n",
    "[var_subs.update(var) for var in [C_subs,D_subs,a_subs]]\n",
    "var_subs"
   ]
  },
  {
   "cell_type": "markdown",
   "metadata": {},
   "source": [
    "With the known values of integration parameters we can resolve the sought displacement fields and plot it "
   ]
  },
  {
   "cell_type": "code",
   "execution_count": 47,
   "metadata": {},
   "outputs": [
    {
     "data": {
      "image/png": "[encoded data removed]",
      "text/latex": [
       "$$\\frac{P^{2}}{2 A_{f} E_{f} p \\tau} + \\frac{P x}{A_{f} E_{f}} + \\frac{p \\tau x^{2}}{2 A_{f} E_{f}}$$"
      ],
      "text/plain": [
       "       2                         2 \n",
       "      P           P⋅x       p⋅τ⋅x  \n",
       "───────────── + ─────── + ─────────\n",
       "2⋅A_f⋅E_f⋅p⋅τ   A_f⋅E_f   2⋅A_f⋅E_f"
      ]
     },
     "execution_count": 47,
     "metadata": {},
     "output_type": "execute_result"
    }
   ],
   "source": [
    "u_f_x = u_f.subs(var_subs)\n",
    "u_f_x"
   ]
  },
  {
   "cell_type": "markdown",
   "metadata": {},
   "source": [
    "Substitute for all the material and geometry parameters and the load P the value 1 and plot the curve"
   ]
  },
  {
   "cell_type": "code",
   "execution_count": 48,
   "metadata": {},
   "outputs": [
    {
     "data": {
      "image/png": "[encoded data removed]",
      "text/plain": [
       "<matplotlib.figure.Figure at 0x7fe01fe74048>"
      ]
     },
     "metadata": {},
     "output_type": "display_data"
    }
   ],
   "source": [
    "data_f = dict(L_b=1, p = 1, E_f = 1, A_f = 1, tau = 1)\n",
    "splot( u_f_x.subs(data_f).subs({P:1}), (x,-2,0) );"
   ]
  },
  {
   "cell_type": "markdown",
   "metadata": {},
   "source": [
    "Using the Heaviside step function $\\theta(x)$ we can conveniently obtain a single function covering the domain of $x$ piece by piece.\n",
    "\\begin{align}\n",
    "  u_\\mathrm{fa} & = \\left\\{\n",
    "  \\begin{array}{ll}\n",
    "  u_\\mathrm{f}(x) & \\iff x < 0 \\land x > a, \\; \\mathrm{where} \\; a = -\\frac{P}{p\\tau}, \\\\\n",
    "  0      & \\mathrm{otherwise}\n",
    "  \\end{array}\n",
    "  \\right.\n",
    "\\end{align}\n",
    "Using the Heaviside function, we can write this in a more compact way as folows\n",
    "\\begin{align}\n",
    "  u_\\mathrm{fa} & = u_\\mathrm{f} \\, \\theta(-x) \\, \\theta(x - a)\n",
    "\\end{align}"
   ]
  },
  {
   "cell_type": "code",
   "execution_count": 49,
   "metadata": {},
   "outputs": [
    {
     "data": {
      "image/png": "[encoded data removed]",
      "text/plain": [
       "<matplotlib.figure.Figure at 0x7fe055da3f98>"
      ]
     },
     "metadata": {},
     "output_type": "display_data"
    },
    {
     "data": {
      "text/plain": [
       "<sympy.plotting.plot.Plot at 0x7fe020296a20>"
      ]
     },
     "execution_count": 49,
     "metadata": {},
     "output_type": "execute_result"
    }
   ],
   "source": [
    "u_fa_x = u_f_x * sp.Heaviside(x-var_subs[a])\n",
    "splot(u_fa_x.subs(data_f).subs({P:1}), (x,-2,0) )"
   ]
  },
  {
   "cell_type": "code",
   "execution_count": 50,
   "metadata": {
    "collapsed": true
   },
   "outputs": [],
   "source": [
    "eps_fa_x = sp.diff(u_fa_x,x)\n",
    "sig_fa_x = 1 / E_f * eps_fa_x"
   ]
  },
  {
   "cell_type": "markdown",
   "metadata": {},
   "source": [
    "## Problem solved - lets present the results\n",
    "Define concrete values of the model parameters "
   ]
  },
  {
   "cell_type": "code",
   "execution_count": 51,
   "metadata": {
    "collapsed": true
   },
   "outputs": [],
   "source": [
    "u_fa_x_data = u_fa_x.subs(data_f)\n",
    "eps_fa_x_data = eps_fa_x.subs(data_f)\n",
    "sig_fa_x_data = sig_fa_x.subs(data_f)"
   ]
  },
  {
   "cell_type": "code",
   "execution_count": 52,
   "metadata": {},
   "outputs": [
    {
     "data": {
      "image/png": "[encoded data removed]",
      "text/plain": [
       "<matplotlib.figure.Figure at 0x7fe02024cb70>"
      ]
     },
     "metadata": {},
     "output_type": "display_data"
    },
    {
     "data": {
      "image/png": "[encoded data removed]",
      "text/plain": [
       "<matplotlib.figure.Figure at 0x7fe0206966a0>"
      ]
     },
     "metadata": {},
     "output_type": "display_data"
    },
    {
     "data": {
      "image/png": "[encoded data removed]",
      "text/plain": [
       "<matplotlib.figure.Figure at 0x7fe01ff46ef0>"
      ]
     },
     "metadata": {},
     "output_type": "display_data"
    },
    {
     "data": {
      "text/plain": [
       "<sympy.plotting.plot.Plot at 0x7fe0200ebdd8>"
      ]
     },
     "execution_count": 52,
     "metadata": {},
     "output_type": "execute_result"
    }
   ],
   "source": [
    "P_levels = np.linspace(0,1,8)\n",
    "u_f_list = [u_fa_x_data.subs({P: Pl}) for Pl in P_levels] + [(x,-1,0)]\n",
    "splot(*u_f_list, line_color='red')\n",
    "eps_f_list = [eps_fa_x_data.subs({P: Pl}) for Pl in P_levels] + [(x,-1,0)]\n",
    "splot(*eps_f_list, line_color='green')\n",
    "sig_f_list = [sig_fa_x_data.subs({P: Pl}) for Pl in P_levels] + [(x,-1,0)]\n",
    "splot(*sig_f_list, line_color='blue')"
   ]
  },
  {
   "cell_type": "code",
   "execution_count": 53,
   "metadata": {
    "scrolled": true
   },
   "outputs": [
    {
     "data": {
      "image/png": "[encoded data removed]",
      "text/latex": [
       "$$\\left ( - \\sqrt{2} \\sqrt{A_{f} E_{f} p \\tau w}, \\quad \\sqrt{2} \\sqrt{A_{f} E_{f} p \\tau w}\\right )$$"
      ],
      "text/plain": [
       "⎛      _______________       _______________⎞\n",
       "⎝-√2⋅╲╱ A_f⋅E_f⋅p⋅τ⋅w , √2⋅╲╱ A_f⋅E_f⋅p⋅τ⋅w ⎠"
      ]
     },
     "execution_count": 53,
     "metadata": {},
     "output_type": "execute_result"
    }
   ],
   "source": [
    "P_push, P_pull = sp.solve(u_f_x.subs({x:0})-w, P)\n",
    "sp.simplify(P_push), sp.simplify(P_pull)"
   ]
  },
  {
   "cell_type": "code",
   "execution_count": 54,
   "metadata": {},
   "outputs": [
    {
     "data": {
      "image/png": "[encoded data removed]",
      "text/latex": [
       "$$\\left ( - \\sqrt{2} \\sqrt{w}, \\quad \\sqrt{2} \\sqrt{w}\\right )$$"
      ],
      "text/plain": [
       "(-√2⋅√w, √2⋅√w)"
      ]
     },
     "execution_count": 54,
     "metadata": {},
     "output_type": "execute_result"
    }
   ],
   "source": [
    "PW_push = P_push.subs(data_f)\n",
    "PW_pull = P_pull.subs(data_f)\n",
    "PW_push, PW_pull"
   ]
  },
  {
   "cell_type": "code",
   "execution_count": 55,
   "metadata": {},
   "outputs": [
    {
     "data": {
      "image/png": "[encoded data removed]",
      "text/plain": [
       "<matplotlib.figure.Figure at 0x7fe01feccfd0>"
      ]
     },
     "metadata": {},
     "output_type": "display_data"
    },
    {
     "data": {
      "text/plain": [
       "<sympy.plotting.plot.Plot at 0x7fe02025bdd8>"
      ]
     },
     "execution_count": 55,
     "metadata": {},
     "output_type": "execute_result"
    }
   ],
   "source": [
    "splot(PW_push, PW_pull, (w,0,1), line_color='green')"
   ]
  },
  {
   "cell_type": "markdown",
   "metadata": {},
   "source": [
    "\n"
   ]
  },
  {
   "cell_type": "markdown",
   "metadata": {},
   "source": [
    "## Stored energy"
   ]
  },
  {
   "cell_type": "markdown",
   "metadata": {},
   "source": [
    "Recall that the solved displacement field uniquely describes the state of the pullout problem for a given load $P$"
   ]
  },
  {
   "cell_type": "code",
   "execution_count": 179,
   "metadata": {},
   "outputs": [
    {
     "data": {
      "image/png": "[encoded data removed]",
      "text/latex": [
       "$$\\frac{P^{2}}{2 A_{f} E_{f} p \\tau} + \\frac{P x}{A_{f} E_{f}} + \\frac{p \\tau x^{2}}{2 A_{f} E_{f}}$$"
      ],
      "text/plain": [
       "       2                         2 \n",
       "      P           P⋅x       p⋅τ⋅x  \n",
       "───────────── + ─────── + ─────────\n",
       "2⋅A_f⋅E_f⋅p⋅τ   A_f⋅E_f   2⋅A_f⋅E_f"
      ]
     },
     "execution_count": 179,
     "metadata": {},
     "output_type": "execute_result"
    }
   ],
   "source": [
    "u_f_x"
   ]
  },
  {
   "cell_type": "markdown",
   "metadata": {},
   "source": [
    "The strain and stress fields are obtained using the kinematic and quilibrium conditions, respectively."
   ]
  },
  {
   "cell_type": "code",
   "execution_count": 180,
   "metadata": {},
   "outputs": [
    {
     "data": {
      "image/png": "[encoded data removed]",
      "text/latex": [
       "$$\\left ( \\frac{P}{A_{f} E_{f}} + \\frac{p \\tau x}{A_{f} E_{f}}, \\quad E_{f} \\left(\\frac{P}{A_{f} E_{f}} + \\frac{p \\tau x}{A_{f} E_{f}}\\right)\\right )$$"
      ],
      "text/plain": [
       "⎛   P       p⋅τ⋅x       ⎛   P       p⋅τ⋅x ⎞⎞\n",
       "⎜─────── + ───────, E_f⋅⎜─────── + ───────⎟⎟\n",
       "⎝A_f⋅E_f   A_f⋅E_f      ⎝A_f⋅E_f   A_f⋅E_f⎠⎠"
      ]
     },
     "execution_count": 180,
     "metadata": {},
     "output_type": "execute_result"
    }
   ],
   "source": [
    "eps_f_x = sp.diff(u_f_x,x)\n",
    "sig_f_x = E_f * eps_f_x\n",
    "eps_f_x, sig_f_x"
   ]
  },
  {
   "cell_type": "markdown",
   "metadata": {},
   "source": [
    "Let's check the profile of the strain. It has its maximum at the pulled out end. It is valid only in positive regime delimited by the debonded length $a$"
   ]
  },
  {
   "cell_type": "code",
   "execution_count": 181,
   "metadata": {},
   "outputs": [
    {
     "data": {
      "image/png": "[encoded data removed]",
      "text/plain": [
       "<matplotlib.figure.Figure at 0x7fe0206c65f8>"
      ]
     },
     "metadata": {},
     "output_type": "display_data"
    },
    {
     "data": {
      "text/plain": [
       "<sympy.plotting.plot.Plot at 0x7fe01fc8e8d0>"
      ]
     },
     "execution_count": 181,
     "metadata": {},
     "output_type": "execute_result"
    }
   ],
   "source": [
    "splot(eps_f_x.subs({P:P_pull}).subs(data_f).subs({w:1}), (x,-3,0))"
   ]
  },
  {
   "cell_type": "markdown",
   "metadata": {},
   "source": [
    "The specific energy in a material point of a bar is obtained as triangle under the unloading branch in a stress-strain diagram."
   ]
  },
  {
   "cell_type": "code",
   "execution_count": 182,
   "metadata": {},
   "outputs": [
    {
     "data": {
      "image/png": "[encoded data removed]",
      "text/latex": [
       "$$\\frac{E_{f}}{2} \\left(\\frac{P}{A_{f} E_{f}} + \\frac{p \\tau x}{A_{f} E_{f}}\\right)^{2}$$"
      ],
      "text/plain": [
       "                       2\n",
       "    ⎛   P       p⋅τ⋅x ⎞ \n",
       "E_f⋅⎜─────── + ───────⎟ \n",
       "    ⎝A_f⋅E_f   A_f⋅E_f⎠ \n",
       "────────────────────────\n",
       "           2            "
      ]
     },
     "execution_count": 182,
     "metadata": {},
     "output_type": "execute_result"
    }
   ],
   "source": [
    "U_f_x = (sig_f_x * eps_f_x) / 2\n",
    "U_f_x"
   ]
  },
  {
   "cell_type": "markdown",
   "metadata": {},
   "source": [
    "The total stored energy is an integral over the whole domain. The strain field is only considered within the debonded length, thus setting the left integration limit to the previously solved debonded length $a$."
   ]
  },
  {
   "cell_type": "code",
   "execution_count": 183,
   "metadata": {},
   "outputs": [
    {
     "data": {
      "image/png": "[encoded data removed]",
      "text/latex": [
       "$$\\frac{P^{3}}{6 A_{f}^{2} E_{f} p \\tau}$$"
      ],
      "text/plain": [
       "       3      \n",
       "      P       \n",
       "──────────────\n",
       "     2        \n",
       "6⋅A_f ⋅E_f⋅p⋅τ"
      ]
     },
     "execution_count": 183,
     "metadata": {},
     "output_type": "execute_result"
    }
   ],
   "source": [
    "U = sp.integrate( U_f_x, (x,a_subs[a],0) )\n",
    "U"
   ]
  },
  {
   "cell_type": "markdown",
   "metadata": {},
   "source": [
    "The energy was obtained in terms of the force but we need to control it by the pullout displacement $w$. Use the previous solution of the pullout problem to substitute $w$ for $P$ to obtain the analytical solution for the energy stored in the bar. "
   ]
  },
  {
   "cell_type": "code",
   "execution_count": 184,
   "metadata": {},
   "outputs": [
    {
     "data": {
      "image/png": "[encoded data removed]",
      "text/latex": [
       "$$\\frac{\\sqrt{2} \\left(A_{f} E_{f} p \\tau w\\right)^{\\frac{3}{2}}}{3 A_{f}^{2} E_{f} p \\tau}$$"
      ],
      "text/plain": [
       "                  3/2\n",
       "√2⋅(A_f⋅E_f⋅p⋅τ⋅w)   \n",
       "─────────────────────\n",
       "         2           \n",
       "    3⋅A_f ⋅E_f⋅p⋅τ   "
      ]
     },
     "execution_count": 184,
     "metadata": {},
     "output_type": "execute_result"
    }
   ],
   "source": [
    "U_w = U.subs({P:P_pull}) \n",
    "U_w"
   ]
  },
  {
   "cell_type": "markdown",
   "metadata": {},
   "source": [
    "### Remark: \n",
    "Note that the energy stored in the bond layer is zero as we are assuming purely plastic type of behavior."
   ]
  },
  {
   "cell_type": "markdown",
   "metadata": {},
   "source": [
    "## Work supply $W$"
   ]
  },
  {
   "cell_type": "markdown",
   "metadata": {},
   "source": [
    "Evaluate the expression $\\int P(w) \\, \\mathrm{d}w$"
   ]
  },
  {
   "cell_type": "code",
   "execution_count": 186,
   "metadata": {},
   "outputs": [
    {
     "data": {
      "image/png": "[encoded data removed]",
      "text/latex": [
       "$$\\frac{2 \\sqrt{2} \\left(A_{f} E_{f} p \\tau w\\right)^{\\frac{3}{2}}}{3 A_{f} E_{f} p \\tau}$$"
      ],
      "text/plain": [
       "                    3/2\n",
       "2⋅√2⋅(A_f⋅E_f⋅p⋅τ⋅w)   \n",
       "───────────────────────\n",
       "     3⋅A_f⋅E_f⋅p⋅τ     "
      ]
     },
     "execution_count": 186,
     "metadata": {},
     "output_type": "execute_result"
    }
   ],
   "source": [
    "W_w = sp.integrate(P_pull,w)\n",
    "W_w"
   ]
  },
  {
   "cell_type": "code",
   "execution_count": 187,
   "metadata": {},
   "outputs": [
    {
     "data": {
      "image/png": "[encoded data removed]",
      "text/plain": [
       "<matplotlib.figure.Figure at 0x7fe01fa61978>"
      ]
     },
     "metadata": {},
     "output_type": "display_data"
    },
    {
     "data": {
      "text/plain": [
       "<sympy.plotting.plot.Plot at 0x7fe01fa61ac8>"
      ]
     },
     "execution_count": 187,
     "metadata": {},
     "output_type": "execute_result"
    }
   ],
   "source": [
    "splot(W_w.subs(data_f), U_w.subs(data_f), (w,0,1), line_color='green')"
   ]
  },
  {
   "cell_type": "markdown",
   "metadata": {},
   "source": [
    "## Released energy"
   ]
  },
  {
   "cell_type": "markdown",
   "metadata": {},
   "source": [
    "Evaluate the difference between supplied and stored"
   ]
  },
  {
   "cell_type": "code",
   "execution_count": 188,
   "metadata": {},
   "outputs": [
    {
     "data": {
      "image/png": "[encoded data removed]",
      "text/latex": [
       "$$\\frac{\\sqrt{2} \\left(A_{f} E_{f} p \\tau w\\right)^{\\frac{3}{2}} \\left(2 A_{f} - 1\\right)}{3 A_{f}^{2} E_{f} p \\tau}$$"
      ],
      "text/plain": [
       "                  3/2            \n",
       "√2⋅(A_f⋅E_f⋅p⋅τ⋅w)   ⋅(2⋅A_f - 1)\n",
       "─────────────────────────────────\n",
       "               2                 \n",
       "          3⋅A_f ⋅E_f⋅p⋅τ         "
      ]
     },
     "execution_count": 188,
     "metadata": {},
     "output_type": "execute_result"
    }
   ],
   "source": [
    "G_w = sp.simplify(W_w - U_w)\n",
    "G_w"
   ]
  },
  {
   "cell_type": "markdown",
   "metadata": {},
   "source": [
    "So if all parameters are set to 1 we get the following function for released energy of the control displacement."
   ]
  },
  {
   "cell_type": "code",
   "execution_count": 176,
   "metadata": {},
   "outputs": [
    {
     "data": {
      "image/png": "[encoded data removed]",
      "text/latex": [
       "$$\\frac{\\sqrt{2} w^{\\frac{3}{2}}}{3}$$"
      ],
      "text/plain": [
       "    3/2\n",
       "√2⋅w   \n",
       "───────\n",
       "   3   "
      ]
     },
     "execution_count": 176,
     "metadata": {},
     "output_type": "execute_result"
    }
   ],
   "source": [
    "G_w.subs(data_f)"
   ]
  },
  {
   "cell_type": "markdown",
   "metadata": {},
   "source": [
    "### Question: What is the value of stored energy if the bar has infinite Area $A$"
   ]
  },
  {
   "cell_type": "code",
   "execution_count": 191,
   "metadata": {},
   "outputs": [
    {
     "data": {
      "image/png": "[encoded data removed]",
      "text/latex": [
       "$$0$$"
      ],
      "text/plain": [
       "0"
      ]
     },
     "execution_count": 191,
     "metadata": {},
     "output_type": "execute_result"
    }
   ],
   "source": [
    "sp.limit(U, A_f, sp.oo)"
   ]
  },
  {
   "cell_type": "code",
   "execution_count": 156,
   "metadata": {},
   "outputs": [
    {
     "data": {
      "image/png": "[encoded data removed]",
      "text/latex": [
       "$$0$$"
      ],
      "text/plain": [
       "0"
      ]
     },
     "execution_count": 156,
     "metadata": {},
     "output_type": "execute_result"
    }
   ],
   "source": [
    "sp.limit((sp.diff(G,w) - sp.diff(W,w)), A_f, sp.oo)"
   ]
  },
  {
   "cell_type": "code",
   "execution_count": 157,
   "metadata": {},
   "outputs": [
    {
     "data": {
      "image/png": "[encoded data removed]",
      "text/latex": [
       "$$\\left ( \\frac{\\sqrt{2} \\sqrt{w}}{2}, \\quad \\sqrt{2} \\sqrt{w}\\right )$$"
      ],
      "text/plain": [
       "⎛√2⋅√w       ⎞\n",
       "⎜─────, √2⋅√w⎟\n",
       "⎝  2         ⎠"
      ]
     },
     "execution_count": 157,
     "metadata": {},
     "output_type": "execute_result"
    }
   ],
   "source": [
    "sp.diff(G.subs(data_f),w), sp.diff(W.subs(data_f),w)"
   ]
  },
  {
   "cell_type": "code",
   "execution_count": 101,
   "metadata": {},
   "outputs": [
    {
     "data": {
      "image/png": "[encoded data removed]",
      "text/plain": [
       "<matplotlib.figure.Figure at 0x7fe01fba9438>"
      ]
     },
     "metadata": {},
     "output_type": "display_data"
    },
    {
     "data": {
      "text/plain": [
       "<sympy.plotting.plot.Plot at 0x7fe01fba9470>"
      ]
     },
     "execution_count": 101,
     "metadata": {},
     "output_type": "execute_result"
    }
   ],
   "source": [
    "splot(sp.diff(G_w,w),(w,0,1))"
   ]
  },
  {
   "cell_type": "code",
   "execution_count": null,
   "metadata": {
    "collapsed": true
   },
   "outputs": [],
   "source": []
  },
  {
   "cell_type": "code",
   "execution_count": null,
   "metadata": {
    "collapsed": true
   },
   "outputs": [],
   "source": []
  }
 ],
 "metadata": {
  "kernelspec": {
   "display_name": "Python 3",
   "language": "python",
   "name": "python3"
  },
  "language_info": {
   "codemirror_mode": {
    "name": "ipython",
    "version": 3
   },
   "file_extension": ".py",
   "mimetype": "text/x-python",
   "name": "python",
   "nbconvert_exporter": "python",
   "pygments_lexer": "ipython3",
   "version": "3.7.3"
  }
 },
 "nbformat": 4,
 "nbformat_minor": 1
}
