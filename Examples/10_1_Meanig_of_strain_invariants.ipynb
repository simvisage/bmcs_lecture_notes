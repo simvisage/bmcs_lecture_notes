{
 "cells": [
  {
   "cell_type": "markdown",
   "metadata": {},
   "source": [
    "## Define an example tensor"
   ]
  },
  {
   "cell_type": "code",
   "execution_count": 102,
   "metadata": {},
   "outputs": [],
   "source": [
    "%reset -f\n",
    "import numpy as np\n",
    "epsilon = np.array([[1.0, 2.1, 3.5],\n",
    "                  [2.1, 3.0, 1.2],\n",
    "                  [3.5, 1.2, 2.0]], dtype=np.float_)"
   ]
  },
  {
   "cell_type": "markdown",
   "metadata": {},
   "source": [
    "## Evaluate invariants using einsum"
   ]
  },
  {
   "cell_type": "markdown",
   "metadata": {},
   "source": [
    "\\begin{align}\n",
    "\\label{eq:I_1}\n",
    "    I_1 = \\varepsilon_{ii}\n",
    "\\end{align}"
   ]
  },
  {
   "cell_type": "code",
   "execution_count": 103,
   "metadata": {},
   "outputs": [
    {
     "name": "stdout",
     "output_type": "stream",
     "text": [
      "I_1 6.0\n"
     ]
    }
   ],
   "source": [
    "I_1 = np.einsum('ii', epsilon)\n",
    "print 'I_1', I_1"
   ]
  },
  {
   "cell_type": "markdown",
   "metadata": {},
   "source": [
    "\\begin{align}\n",
    "\\label{eq:I_2}\n",
    "I_2 &= \\frac{1}{2} \\left[ \\varepsilon_{kk}^2 - \\varepsilon_{ij}\\varepsilon_{ij} \\right]\n",
    "\\end{align}"
   ]
  },
  {
   "cell_type": "code",
   "execution_count": 104,
   "metadata": {},
   "outputs": [
    {
     "name": "stdout",
     "output_type": "stream",
     "text": [
      "I_2 -7.100000000000001\n"
     ]
    }
   ],
   "source": [
    "I_2 = 1/2.*(np.einsum('kk',epsilon)**2 - np.einsum('ij,ij', epsilon, epsilon))\n",
    "print 'I_2', I_2"
   ]
  },
  {
   "cell_type": "markdown",
   "metadata": {},
   "source": [
    "\\begin{align}\n",
    "\\label{eq:I_3}\n",
    "I_3 &= \\epsilon_{ijk} \\varepsilon_{i1} \\varepsilon_{j2} \\varepsilon_{k3}.\n",
    "\\end{align}\n",
    "where $\\epsilon$ represents the Levi Civita symbol rendering the value 1 for ascending indexes, i.e. (1,2,3), (2,3,1), (3,1,2), value -1 for descending indexes (3,2,1), (1,3,2), (2,1,3) and zero otherwise"
   ]
  },
  {
   "cell_type": "code",
   "execution_count": 105,
   "metadata": {},
   "outputs": [
    {
     "name": "stdout",
     "output_type": "stream",
     "text": [
      "I_3 -23.369999999999997\n"
     ]
    }
   ],
   "source": [
    "EPS = np.zeros((3, 3, 3), dtype='f')\n",
    "EPS[(0, 1, 2), (1, 2, 0), (2, 0, 1)] = 1\n",
    "EPS[(2, 1, 0), (1, 0, 2), (0, 2, 1)] = -1\n",
    "I_3 = np.einsum('ijk,i,j,k',EPS,epsilon[:,0],epsilon[:,1],epsilon[:,2],)\n",
    "print 'I_3', I_3"
   ]
  },
  {
   "cell_type": "markdown",
   "metadata": {},
   "source": [
    "## Get the principle strains and eigenvectors"
   ]
  },
  {
   "cell_type": "code",
   "execution_count": 106,
   "metadata": {},
   "outputs": [
    {
     "name": "stdout",
     "output_type": "stream",
     "text": [
      "principal strains\n",
      "[ 6.53923547 -2.17920041  1.63996494]\n",
      "principal vectors\n",
      "[[-0.58515271 -0.54942327 -0.59643137]\n",
      " [-0.77897767  0.17643487  0.60171798]\n",
      " [ 0.22536657 -0.81670362  0.5312298 ]]\n"
     ]
    }
   ],
   "source": [
    "eps1, Q1 = np.linalg.eig(epsilon)\n",
    "print 'principal strains\\n', eps1\n",
    "print 'principal vectors\\n', Q1.T"
   ]
  },
  {
   "cell_type": "markdown",
   "metadata": {},
   "source": [
    "Transform the strain tensor to the direction of principal vectors, check if the shear strains are really zero? What are the values on the diagonal? "
   ]
  },
  {
   "cell_type": "code",
   "execution_count": 107,
   "metadata": {},
   "outputs": [
    {
     "name": "stdout",
     "output_type": "stream",
     "text": [
      "rotated epsilon\n",
      "[[ 6.53923547e+00  2.44249065e-15  3.33066907e-16]\n",
      " [ 2.22044605e-15 -2.17920041e+00 -3.33066907e-16]\n",
      " [ 5.55111512e-16 -3.33066907e-16  1.63996494e+00]]\n"
     ]
    }
   ],
   "source": [
    "epsilon2 = np.einsum('im,jn,ij->mn',Q1,Q1,epsilon)\n",
    "print 'rotated epsilon\\n', epsilon2"
   ]
  },
  {
   "cell_type": "markdown",
   "metadata": {},
   "source": [
    "Put the principal strains onto a diagonal and make to construct the tensor in the coordinate system given by the principal strain directions"
   ]
  },
  {
   "cell_type": "code",
   "execution_count": 110,
   "metadata": {},
   "outputs": [],
   "source": [
    "DELTA = np.identity(3)\n",
    "epsilon3 = np.einsum('ik,jk,k->ij', DELTA, DELTA, eps1)"
   ]
  },
  {
   "cell_type": "markdown",
   "metadata": {},
   "source": [
    "Here the Kroneker delta has been used to expand a vector to a rank-2 tensor \n",
    "(Consider the analogy to matrix operators)\n",
    "What will be the eigenvalues and eigenvectors of this tensor?"
   ]
  },
  {
   "cell_type": "code",
   "execution_count": 111,
   "metadata": {},
   "outputs": [
    {
     "name": "stdout",
     "output_type": "stream",
     "text": [
      "eigenvalues\n",
      "[ 6.53923547 -2.17920041  1.63996494]\n",
      "eigenvectors\n",
      "[[1. 0. 0.]\n",
      " [0. 1. 0.]\n",
      " [0. 0. 1.]]\n"
     ]
    }
   ],
   "source": [
    "eps3, Q3 = np.linalg.eig(epsilon3)\n",
    "print 'eigenvalues\\n', eps3\n",
    "print 'eigenvectors\\n', Q3"
   ]
  },
  {
   "cell_type": "markdown",
   "metadata": {},
   "source": [
    "## Deviatoric strain"
   ]
  },
  {
   "cell_type": "code",
   "execution_count": 112,
   "metadata": {},
   "outputs": [],
   "source": [
    "epsilon_d = epsilon - I_1 / 3.0"
   ]
  },
  {
   "cell_type": "code",
   "execution_count": 113,
   "metadata": {},
   "outputs": [
    {
     "data": {
      "text/plain": [
       "0.0"
      ]
     },
     "execution_count": 113,
     "metadata": {},
     "output_type": "execute_result"
    }
   ],
   "source": [
    "J_1 = np.einsum('ii', epsilon_d)\n",
    "J_1"
   ]
  },
  {
   "cell_type": "code",
   "execution_count": 114,
   "metadata": {},
   "outputs": [
    {
     "name": "stdout",
     "output_type": "stream",
     "text": [
      "J_2 -3.9000000000000004\n"
     ]
    }
   ],
   "source": [
    "J_2 = 1/2.*(np.einsum('kk',epsilon_d)**2 - np.einsum('ij,ij', epsilon_d, epsilon_d))\n",
    "print 'J_2', J_2"
   ]
  },
  {
   "cell_type": "code",
   "execution_count": 115,
   "metadata": {},
   "outputs": [
    {
     "name": "stdout",
     "output_type": "stream",
     "text": [
      "J_3 -1.85\n"
     ]
    }
   ],
   "source": [
    "EPS = np.zeros((3, 3, 3), dtype='f')\n",
    "EPS[(0, 1, 2), (1, 2, 0), (2, 0, 1)] = 1\n",
    "EPS[(2, 1, 0), (1, 0, 2), (0, 2, 1)] = -1\n",
    "J_3 = np.einsum('ijk,i,j,k',EPS,epsilon_d[:,0],epsilon_d[:,1],epsilon_d[:,2],)\n",
    "print 'J_3', J_3"
   ]
  }
 ],
 "metadata": {
  "kernelspec": {
   "display_name": "Python 2",
   "language": "python",
   "name": "python2"
  },
  "language_info": {
   "codemirror_mode": {
    "name": "ipython",
    "version": 2
   },
   "file_extension": ".py",
   "mimetype": "text/x-python",
   "name": "python",
   "nbconvert_exporter": "python",
   "pygments_lexer": "ipython2",
   "version": "2.7.11"
  }
 },
 "nbformat": 4,
 "nbformat_minor": 2
}
