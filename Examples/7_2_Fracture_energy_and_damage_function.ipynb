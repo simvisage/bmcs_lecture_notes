{
 "cells": [
  {
   "attachments": {
    "rwth_imb_logo.png": {
     "image/png": "[encoded data removed]"
    }
   },
   "cell_type": "markdown",
   "metadata": {},
   "source": [
    "![rwth_imb_logo.png](attachment:rwth_imb_logo.png)"
   ]
  },
  {
   "cell_type": "markdown",
   "metadata": {},
   "source": [
    "[Previous notebook: 7_1_mesh_sensitivity](./7_1_mesh_sensitivity.ipynb)"
   ]
  },
  {
   "cell_type": "markdown",
   "metadata": {},
   "source": [
    "[Next notebook: 8_1_Mesh_bias_for_discretized_bar_with_linear_softening](./8_1_Mesh_bias_for_discretized_bar_with_linear_softening.ipynb)"
   ]
  },
  {
   "cell_type": "markdown",
   "metadata": {},
   "source": [
    "# 7.2 Fracture energy and damage function"
   ]
  },
  {
   "cell_type": "code",
   "execution_count": null,
   "metadata": {},
   "outputs": [],
   "source": [
    "%reset -f\n",
    "%matplotlib inline\n",
    "import sympy as sp\n",
    "from sympy.plotting import plot as splot\n",
    "sp.init_printing()"
   ]
  },
  {
   "cell_type": "markdown",
   "metadata": {},
   "source": [
    "## Introduce the varialbes"
   ]
  },
  {
   "cell_type": "code",
   "execution_count": null,
   "metadata": {},
   "outputs": [],
   "source": [
    "epsilon, epsilon_0, epsilon_f = sp.symbols('epsilon, epsilon_0, epsilon_f')\n",
    "E_c, G_f = sp.symbols('E_c, G_f')\n",
    "L_s, w = sp.symbols('L_s, w')\n",
    "omega = sp.symbols('omega')\n",
    "c_1, c_2 = sp.symbols('c_1,c_2', positive=True)\n",
    "#f_t = sp.symbols('f_t') \n",
    "f_t = E_c * epsilon_0"
   ]
  },
  {
   "cell_type": "code",
   "execution_count": null,
   "metadata": {},
   "outputs": [],
   "source": [
    "data = dict(E_c=28000, L_s=10.0, G_f=0.44, epsilon_0=3.0/28000)\n",
    "data_girder = dict(E_c=28000, L_s=1.0, G_f=0.08, epsilon_0=3.0/28000)"
   ]
  },
  {
   "cell_type": "markdown",
   "metadata": {},
   "source": [
    "### Softening function in terms of crack opening\n",
    "Let's assume the softenig to follow an exponential function \n",
    "\\begin{align}\n",
    "f_{cw} = c_1 \\exp(-c_2 w)\n",
    "\\end{align}\n",
    "with two unknown parameters $c_1$ and $c_2$"
   ]
  },
  {
   "cell_type": "code",
   "execution_count": null,
   "metadata": {},
   "outputs": [],
   "source": [
    "f_cw = c_1 * sp.exp(-c_2*w)\n",
    "f_cw"
   ]
  },
  {
   "cell_type": "markdown",
   "metadata": {},
   "source": [
    "To give the parametrers $c_1$ and $c_2$ let us consider two limiting situations:\n",
    " - The onset of softening starts level the matrix strength $f_t$ corresponding to zero crack opening $w=0$\n",
    " - The energy available for dissipation during the cracking has been totally consumed at the large crack opening $w=\\infty$.\n",
    " \n",
    "The first condition directly renders"
   ]
  },
  {
   "cell_type": "code",
   "execution_count": null,
   "metadata": {},
   "outputs": [],
   "source": [
    "c1_subs = sp.solve( f_cw.subs({w:0}) - f_t, c_1 )[0]\n",
    "c1_subs"
   ]
  },
  {
   "cell_type": "markdown",
   "metadata": {},
   "source": [
    "The second condition is derived by evaluating the fracture energy. This can be done by integrating the softening law in the range of \n",
    "$w \\in (0, \\infty)$. The resulting equation is set equal to the fracture energy G_f and the parameter $c_2$ is resolved "
   ]
  },
  {
   "cell_type": "code",
   "execution_count": null,
   "metadata": {},
   "outputs": [],
   "source": [
    "int_f_cw = sp.integrate(f_cw.subs({c_1:c1_subs}), (w,0,sp.oo))\n",
    "c2_subs = sp.solve(int_f_cw - G_f, c_2)[0]\n",
    "c2_subs"
   ]
  },
  {
   "cell_type": "markdown",
   "metadata": {},
   "source": [
    "By substituting for $c1$ and $c2$ into the the softening law we obtain "
   ]
  },
  {
   "cell_type": "code",
   "execution_count": null,
   "metadata": {},
   "outputs": [],
   "source": [
    "f_w = f_cw.subs({c_1 : c1_subs, c_2 : c2_subs})\n",
    "f_w"
   ]
  },
  {
   "cell_type": "markdown",
   "metadata": {},
   "source": [
    "Substitute the data parameters into this function and plot the softenig law for $w \\in (0,1)$ "
   ]
  },
  {
   "cell_type": "code",
   "execution_count": null,
   "metadata": {},
   "outputs": [],
   "source": [
    "splot(f_w.subs(data),(w,0,1));"
   ]
  },
  {
   "cell_type": "markdown",
   "metadata": {},
   "source": [
    "## Fracture energy - energy needed to produce stress free unit surface"
   ]
  },
  {
   "cell_type": "markdown",
   "metadata": {},
   "source": [
    "Lst us now verify that the fracture energy gets recovered when quantifying the surface area below the softening law, first symbolically:"
   ]
  },
  {
   "cell_type": "code",
   "execution_count": null,
   "metadata": {},
   "outputs": [],
   "source": [
    "int_G_f = sp.integrate(f_w,(w,0,w))\n",
    "sp.limit(int_G_f,w,sp.oo)"
   ]
  },
  {
   "cell_type": "markdown",
   "metadata": {},
   "source": [
    "Technical sympy remark - in the first expression, we could set the upper limit of integration range to infinty, i.e. sp.oo. However, because sympy must consider the values of other variables included in the expression, i.e. $E$, $G_f$ there is not a single. Indeed, for negative values of $G_f$ the solution is different. For this reason, we evaluated an indefinite integral by setting the upper limit again to $w$ and then evaluated the limit of the function for $w \\rightarrow \\infty$.   "
   ]
  },
  {
   "cell_type": "markdown",
   "metadata": {},
   "source": [
    "### Verify the amount of fracture energy\n",
    "Let us no substitute the data in to the integral expression and evaluate it for a large value of $w$ to check if the input value of $G_f$ is the same as the value of the integral."
   ]
  },
  {
   "cell_type": "code",
   "execution_count": null,
   "metadata": {},
   "outputs": [],
   "source": [
    "int_G_f.subs(data).subs({w:100})"
   ]
  },
  {
   "cell_type": "markdown",
   "metadata": {},
   "source": [
    "## Transform the crack opening law to strain-softening law\n",
    "By substituting the crack opening with displacement corresponding to a fracture strain expressed as\n",
    "\\begin{align}\n",
    "\\varepsilon_{\\mathrm{f}} = \\varepsilon - \\varepsilon_0\n",
    "\\end{align}\n",
    "multiplied by the length of the softening zone we obtain the softening law $\\phi$ as"
   ]
  },
  {
   "cell_type": "code",
   "execution_count": null,
   "metadata": {},
   "outputs": [],
   "source": [
    "phi_eps = f_w.subs({w: (epsilon-epsilon_0)*L_s} )\n",
    "phi_eps"
   ]
  },
  {
   "cell_type": "code",
   "execution_count": null,
   "metadata": {},
   "outputs": [],
   "source": [
    "data"
   ]
  },
  {
   "cell_type": "code",
   "execution_count": null,
   "metadata": {},
   "outputs": [],
   "source": [
    "splot(phi_eps.subs(data), (epsilon,data['epsilon_0'],0.1), axis_center='auto');"
   ]
  },
  {
   "cell_type": "markdown",
   "metadata": {},
   "source": [
    "### Define damage function as piecewise to include the elastic range\n",
    "The damage function can be assembled in the form\n",
    "\\begin{align}\n",
    "\\omega(\\varepsilon) = \\left\\{ \n",
    "\\begin{array}{ll}\n",
    "0  &   \\varepsilon \\le \\varepsilon_0 \\\\\n",
    "1 - \\displaystyle{\\frac{ \\phi(\\varepsilon - \\varepsilon_0) }{E \\varepsilon }}\n",
    " &   \\varepsilon > \\varepsilon_0\n",
    "\\end{array}\n",
    "\\right.\n",
    "\\end{align}"
   ]
  },
  {
   "cell_type": "code",
   "execution_count": null,
   "metadata": {},
   "outputs": [],
   "source": [
    "omega_eps = sp.Piecewise(\n",
    "    (0, epsilon<epsilon_0),\n",
    "    (1 - phi_eps/E_c/epsilon, epsilon>=epsilon_0)\n",
    ")\n",
    "omega_eps"
   ]
  },
  {
   "cell_type": "code",
   "execution_count": null,
   "metadata": {},
   "outputs": [],
   "source": [
    "splot(omega_eps.subs(data), (epsilon,1e-8,0.002));"
   ]
  },
  {
   "cell_type": "markdown",
   "metadata": {},
   "source": [
    "### Show the monotonic stress-strain response\n",
    "The derived damage function defined in terms of the strain allows us to use the standard format of damage model to obtain the stress-strain curve. "
   ]
  },
  {
   "cell_type": "code",
   "execution_count": null,
   "metadata": {},
   "outputs": [],
   "source": [
    "sig_eps = (1 - omega_eps) * E_c * epsilon\n",
    "sig_eps"
   ]
  },
  {
   "cell_type": "markdown",
   "metadata": {},
   "source": [
    "Given a data dictionary below let us plot the stress-strain curve"
   ]
  },
  {
   "cell_type": "code",
   "execution_count": null,
   "metadata": {
    "scrolled": true
   },
   "outputs": [],
   "source": [
    "data = dict(E_c=28000, L_s=0.1, G_f=0.044, epsilon_0=3.0/28000)\n",
    "splot(sig_eps.subs(data), (epsilon,1e-8,0.1));"
   ]
  },
  {
   "cell_type": "markdown",
   "metadata": {},
   "source": [
    " - Question 1 - how to make the response of a single material point more brittle / more ductile?\n",
    " - Question 2 - what is the unit of fracture energy?"
   ]
  },
  {
   "cell_type": "code",
   "execution_count": null,
   "metadata": {},
   "outputs": [],
   "source": [
    "data1 = dict(E_c=28000, L_s=1, G_f=0.1, epsilon_0=3.0/28000)\n",
    "c1 = splot(sig_eps.subs(data1), (epsilon,1e-8,0.1), line_color=\"red\");"
   ]
  },
  {
   "cell_type": "code",
   "execution_count": null,
   "metadata": {},
   "outputs": [],
   "source": [
    "data2 = dict(E_c=28000, L_s=3, G_f=0.1, epsilon_0=3.0/28000)\n",
    "c2 = splot(sig_eps.subs(data2), (epsilon,1e-8,0.1), line_color=\"green\")\n",
    "c1.extend(c2)\n",
    "c1.show()"
   ]
  },
  {
   "cell_type": "markdown",
   "metadata": {},
   "source": [
    "## Verify the amount of energy dissipated in the softenig zone\n",
    "The damage function represents the deterioration of a unit volume of material. By integrating the stress-strain response for $\\varepsilon\\in(0,\\infty)$ of a unit material volume we obtain the released specific energy with the unit [Jm$^{-3}$], i.e. [Nm$^{-2}$]. Thus, \n",
    "given a material law $\\sigma(\\varepsilon)$ exhibiting softening we can evaluate the energy released per unit volume as \n",
    "\\begin{align}\n",
    "g_\\mathrm{F} = \\int_0^\\infty \\sigma( \\varepsilon ) \\; \\mathrm{d}\\varepsilon.\n",
    "\\end{align}\n",
    "If the material behavior prescribed by the function $\\sigma(\\varepsilon)$ affects a volume $V_\\mathrm{c}$, the total energy released within this is obtained as\n",
    "\\begin{align}\n",
    "\\label{eq:int_G_f_eps}\n",
    "G_\\mathrm{F} = \n",
    "\\int_{V_{\\mathrm{c}}}\n",
    "g_\\mathrm{F} \n",
    "\\; \\mathrm{d}V\n",
    "\\end{align}\n",
    "Thus, if we change the volume of the softening region $V_{\\mathrm{c}}$, we obtain different response. This fact poses problems for numerical calculation using finite elements. Indeed, if we use a material model exhibiting softening in a finite element code, we obtain different results by changing the finte element mesh.\n",
    "\n",
    "However, the fineness of the mesh is only a numerical aspect and should not affect the physical behavior of the structure. Therefore, we want to avoid such behavior and obtain mesh-independent results. \n",
    "\n",
    "The damage function obtained from the softening law derived above is very suitable to demonstrate the techniques that are used to avoid the mesh dependency. It explicitly contains the material inherent fracture energy $G_\\mathrm{F}$. At the same time, it is able to adjust this energy to the prescribed length of softenig zone $L_\\mathrm{s}$. When we include this damage function into the volume integral above we recover the value of $G_\\mathrm{F}$ independently on $L_\\mathrm{s}$.\n",
    "\n",
    "Let us provide an example using the derived, damage fuction. The specific released energy is expressed as"
   ]
  },
  {
   "cell_type": "code",
   "execution_count": null,
   "metadata": {},
   "outputs": [],
   "source": [
    "int_eps_g_f = sp.integrate(sig_eps,(epsilon,0,epsilon))\n",
    "int_eps_g_f"
   ]
  },
  {
   "cell_type": "markdown",
   "metadata": {},
   "source": [
    "As the strain and stress is constant within the softening volume, we can multiply the volume integral by the length of the softening zone and integrate for the strain history. By substituing large value of $varepsilon \\rightarrow \\infty$ into the expression for specific energy we obtain the total energy release. \n",
    "\n",
    "Taking the data set data1 with the length of the softening zone $L_\\mathrm{s} = 1$ mm we obtain."
   ]
  },
  {
   "cell_type": "code",
   "execution_count": null,
   "metadata": {},
   "outputs": [],
   "source": [
    "int_eps_g_f1 = sp.integrate((sig_eps*L_s).subs(data1),(epsilon,0,epsilon))\n",
    "int_g_f1 = int_eps_g_f1.subs({epsilon:1000})\n",
    "int_g_f1"
   ]
  },
  {
   "cell_type": "markdown",
   "metadata": {},
   "source": [
    "Apparently, this value agrees with the input value given in data set data1.\n",
    "\n",
    "Let's perform the same evaluation for the data set data2 with $L_\\mathrm{s} = 3$ mm."
   ]
  },
  {
   "cell_type": "code",
   "execution_count": null,
   "metadata": {},
   "outputs": [],
   "source": [
    "int_eps_g_f2 = sp.integrate((sig_eps*L_s).subs(data2),(epsilon,0,epsilon))\n",
    "int_g_f2 = int_eps_g_f2.subs({epsilon:1000})\n",
    "int_g_f2"
   ]
  },
  {
   "cell_type": "markdown",
   "metadata": {},
   "source": [
    "## Generalization for arbitrary softening functions\n",
    "The given example demonstrates the technique called mesh-adjusted softening function. The principle is to scale the stress strain curve depending on the size of the element."
   ]
  }
 ],
 "metadata": {
  "kernelspec": {
   "display_name": "Python 3",
   "language": "python",
   "name": "python3"
  },
  "language_info": {
   "codemirror_mode": {
    "name": "ipython",
    "version": 3
   },
   "file_extension": ".py",
   "mimetype": "text/x-python",
   "name": "python",
   "nbconvert_exporter": "python",
   "pygments_lexer": "ipython3",
   "version": "3.7.3"
  }
 },
 "nbformat": 4,
 "nbformat_minor": 2
}
