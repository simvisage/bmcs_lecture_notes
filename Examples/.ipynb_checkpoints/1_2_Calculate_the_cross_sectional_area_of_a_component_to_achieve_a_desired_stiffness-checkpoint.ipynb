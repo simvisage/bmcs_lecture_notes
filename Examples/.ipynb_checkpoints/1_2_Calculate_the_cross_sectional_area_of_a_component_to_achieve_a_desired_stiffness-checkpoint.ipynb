{
 "cells": [
  {
   "cell_type": "markdown",
   "metadata": {
    "deletable": true,
    "editable": true
   },
   "source": [
    "![rwth_imb_logo.png](attachment:rwth_imb_logo.png)"
   ]
  },
  {
   "cell_type": "markdown",
   "metadata": {
    "deletable": true,
    "editable": true
   },
   "source": [
    "[Next notebook: 1_1_Calculate_the_elastic_stiffness_of_the_composite\n",
    "](./1_1_Calculate_the_elastic_stiffness_of_the_composite.ipynb)"
   ]
  },
  {
   "cell_type": "markdown",
   "metadata": {
    "deletable": true,
    "editable": true
   },
   "source": [
    "[Next notebook: 2_1_pullout_from_rigid_matrix](./2_1_pullout_from_rigid_matrix.ipynb)"
   ]
  },
  {
   "cell_type": "markdown",
   "metadata": {
    "deletable": true,
    "editable": true
   },
   "source": [
    "# Example 1.2 - Calculate the cross sectional area of a component to achieve a desired stiffness"
   ]
  },
  {
   "cell_type": "code",
   "execution_count": 1,
   "metadata": {
    "collapsed": false,
    "deletable": true,
    "editable": true
   },
   "outputs": [
    {
     "name": "stdout",
     "output_type": "stream",
     "text": [
      "E_composite 45.0 GPa\n"
     ]
    }
   ],
   "source": [
    "A_concrete = 50*50 # [cm**2]\n",
    "E_concrete = 28 # [GPa]\n",
    "A_carbon = 0.08*A_concrete #[cm**2]\n",
    "E_carbon = 200 # [GPa]\n",
    "A_glass = 0.184*A_concrete # [cm**2]\n",
    "E_glass = 70 # [GPa]\n",
    "\n",
    "A_composite = A_concrete + A_carbon + A_glass\n",
    "E_composite = ((E_concrete*A_concrete + E_carbon*A_carbon + E_glass*A_glass) / A_composite)\n",
    "\n",
    "print( 'E_composite' , E_composite , 'GPa')"
   ]
  }
 ],
 "metadata": {
  "kernelspec": {
   "display_name": "Python 3",
   "language": "python",
   "name": "python3"
  },
  "language_info": {
   "codemirror_mode": {
    "name": "ipython",
    "version": 3
   },
   "file_extension": ".py",
   "mimetype": "text/x-python",
   "name": "python",
   "nbconvert_exporter": "python",
   "pygments_lexer": "ipython3",
   "version": "3.5.2"
  }
 },
 "nbformat": 4,
 "nbformat_minor": 2
}
