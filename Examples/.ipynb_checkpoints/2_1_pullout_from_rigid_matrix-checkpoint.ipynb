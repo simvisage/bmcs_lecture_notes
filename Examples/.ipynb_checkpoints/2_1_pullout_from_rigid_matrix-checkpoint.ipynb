{
 "cells": [
  {
   "cell_type": "markdown",
   "metadata": {
    "deletable": true,
    "editable": true
   },
   "source": [
    "![rwth_imb_logo.png](attachment:rwth_imb_logo.png)"
   ]
  },
  {
   "cell_type": "markdown",
   "metadata": {
    "deletable": true,
    "editable": true
   },
   "source": [
    "[Previous notebook: 1_2_Calculate_the_cross_sectional_area_of_a_component_to_achieve_a_desired_stiffness](./1_2_Calculate_the_cross_sectional_area_of_a_component_to_achieve_a_desired_stiffness.ipynb)\n",
    "\n",
    "[Next notebook: 2_2_pullout_from_rigid_matrix_with_free_length](./2_2_pullout_from_rigid_matrix_with_free_length.ipynb)"
   ]
  },
  {
   "cell_type": "markdown",
   "metadata": {
    "deletable": true,
    "editable": true
   },
   "source": [
    "# Example 2.1: Pullout from rigid matrix\n",
    "This notebook explains the derivation of the pullout model and provides also its executable form.\n",
    "\n",
    "## BC1 and no free length\n",
    "This example shows the analytically solved model - the simplest possible configuration of the pullout test."
   ]
  },
  {
   "cell_type": "code",
   "execution_count": 25,
   "metadata": {
    "collapsed": false,
    "deletable": true,
    "editable": true
   },
   "outputs": [],
   "source": [
    "import sympy as sp\n",
    "import numpy as np\n",
    "from IPython.display import display\n",
    "from sympy.plotting import plot as splot, plot3d as splot3d\n",
    "sp.init_printing()"
   ]
  },
  {
   "cell_type": "markdown",
   "metadata": {
    "deletable": true,
    "editable": true
   },
   "source": [
    "## Variables involved in the boundary value problem\n",
    "#### Geometrical parameters\n",
    "-  $A_\\mathrm{f}$ | Cross section area modulus of the reinforcement\n",
    "-  $p$: Perimeter of the reinforcement\n",
    "-  $L_\\mathrm{f}$: Free length of the pulled-out bar\n",
    "\n",
    "#### Coordinate variable\n",
    "-  $x$: Longitudinal coordinate\n",
    "\n",
    "#### Material parameters\n",
    "-  $E_\\mathrm{f}$: Young's modulus of the reinforcement\n",
    "-  $\\tau$: Frictional bond stress\n",
    "\n",
    "#### Control parameter\n",
    "-  $P, w$: Pullout force, pullout displacement\n",
    "\n",
    "#### State parameter\n",
    "-  $a$: Length of the debonded zone\n",
    "\n",
    "#### Integration constants\n",
    "-  $C,D$: Integration constants to be resolved through boundary and continuity conditions"
   ]
  },
  {
   "cell_type": "code",
   "execution_count": 26,
   "metadata": {
    "collapsed": true,
    "deletable": true,
    "editable": true
   },
   "outputs": [],
   "source": [
    "E_f, A_f, tau, p = sp.symbols('E_f, A_f, tau, p')\n",
    "C, D = sp.symbols('C, D')\n",
    "P, w = sp.symbols('P, w')\n",
    "x, a, L_b = sp.symbols('x, a, L_b')"
   ]
  },
  {
   "cell_type": "markdown",
   "metadata": {
    "deletable": true,
    "editable": true
   },
   "source": [
    "## Embedded length: equilibrium, elasticity and compatibility \n",
    "In the halfspace $x \\in (-\\infty, 0)$ the governing equations take the folowing form:<br>\n",
    "__Equilibrium__: The equilibrium equation along the free length of the bar introduces the equivalence between the normal force in the reinforcement $\\sigma_\\mathrm{f} A_\\mathrm{f}$ and and the bond intensity within an ifinitesimal element $\\mathrm{d}x$\n",
    "\\begin{align}\n",
    "\\frac{\\partial \\sigma_\\mathrm{f}}{\\partial x} &= \\frac{p \\tau}{A_\\mathrm{f}}.\n",
    "\\end{align}\n",
    "By integrating this equation we obtain the stress as an unknown constant\n",
    "\\begin{align}\n",
    "\\sigma_\\mathrm{f}(x) &=  \\frac{p \\tau}{A_\\mathrm{f}} x + C.\n",
    "\\end{align}\n",
    "__Elasticity__: Assuming linear elastic behavior with the Young's modulus $E_\\mathrm{f}$ we obtain the strain $\\varepsilon$ as\n",
    "\\begin{align}\n",
    "\\varepsilon_\\mathrm{f}(x) = \\frac{1}{E_\\mathrm{f}} \\left(\\frac{p \\tau}{A_\\mathrm{f}} x + C \\right).\n",
    "\\end{align}\n",
    "__Kinematics__: The displacement of the bar within the free length is obtained as an integral\n",
    "\\begin{align}\n",
    "u_\\mathrm{f}(x) = \n",
    "\\frac{p \\tau x^{2}}{2 A_\\mathrm{f} E_\\mathrm{f}} + \\frac{C x}{E_{\\mathrm{f}}} + D \n",
    "\\end{align}"
   ]
  },
  {
   "cell_type": "code",
   "execution_count": 28,
   "metadata": {
    "collapsed": false,
    "deletable": true,
    "editable": true
   },
   "outputs": [
    {
     "data": {
      "image/png": "[encoded data removed]",
      "text/latex": [
       "$$\\left ( C + \\frac{p \\tau}{A_{f}} x, \\quad \\frac{1}{E_{f}} \\left(C + \\frac{p \\tau}{A_{f}} x\\right), \\quad \\frac{C x}{E_{f}} + D + \\frac{p \\tau x^{2}}{2 A_{f} E_{f}}\\right )$$"
      ],
      "text/plain": [
       "⎛               p⋅τ⋅x                     ⎞\n",
       "⎜           C + ─────                   2 ⎟\n",
       "⎜    p⋅τ⋅x       A_f   C⋅x         p⋅τ⋅x  ⎟\n",
       "⎜C + ─────, ─────────, ─── + D + ─────────⎟\n",
       "⎝     A_f      E_f     E_f       2⋅A_f⋅E_f⎠"
      ]
     },
     "execution_count": 28,
     "metadata": {},
     "output_type": "execute_result"
    }
   ],
   "source": [
    "d_sig_f = p * tau / A_f\n",
    "sig_f = sp.integrate(d_sig_f, x) + C\n",
    "eps_f = sig_f / E_f\n",
    "u_f = sp.integrate(eps_f, x) + D\n",
    "sig_f, eps_f, u_f # check"
   ]
  },
  {
   "cell_type": "markdown",
   "metadata": {
    "deletable": true,
    "editable": true
   },
   "source": [
    "### Resolving for integration constants (step 1)\n",
    "__Condition 1__: Stress in the free length must be equal to $\\sigma(0) = P/A_\\mathrm{f}$.<br> "
   ]
  },
  {
   "cell_type": "code",
   "execution_count": 29,
   "metadata": {
    "collapsed": false,
    "deletable": true,
    "editable": true
   },
   "outputs": [
    {
     "data": {
      "image/png": "[encoded data removed]",
      "text/latex": [
       "$$\\left \\{ C : \\frac{P}{A_{f}}\\right \\}$$"
      ],
      "text/plain": [
       "⎧    P ⎫\n",
       "⎨C: ───⎬\n",
       "⎩   A_f⎭"
      ]
     },
     "execution_count": 29,
     "metadata": {},
     "output_type": "execute_result"
    }
   ],
   "source": [
    "eq_C = {P - sig_f.subs({x:0}) * A_f}\n",
    "C_subs = sp.solve(eq_C,{C})\n",
    "C_subs # display the result"
   ]
  },
  {
   "cell_type": "markdown",
   "metadata": {
    "deletable": true,
    "editable": true
   },
   "source": [
    "### Resolving for integration constants (step 2)\n",
    "The solution for the integration constant $D$ requires a second thought. Can we say something about how does the displacement approach zero within the embedded length? \n",
    "\n",
    "__Condition 2__: We can postulate, that at some unkonwn distance $a$, the slip between the reinforcement and the matrix will be zero, i.e. $u_\\mathrm{f}(a) = 0$."
   ]
  },
  {
   "cell_type": "code",
   "execution_count": 30,
   "metadata": {
    "collapsed": false,
    "deletable": true,
    "editable": true
   },
   "outputs": [
    {
     "data": {
      "image/png": "[encoded data removed]",
      "text/latex": [
       "$$\\left \\{ D : - \\frac{a}{2 A_{f} E_{f}} \\left(2 P + a p \\tau\\right)\\right \\}$$"
      ],
      "text/plain": [
       "⎧   -a⋅(2⋅P + a⋅p⋅τ) ⎫\n",
       "⎨D: ─────────────────⎬\n",
       "⎩       2⋅A_f⋅E_f    ⎭"
      ]
     },
     "execution_count": 30,
     "metadata": {},
     "output_type": "execute_result"
    }
   ],
   "source": [
    "eqns_D = {u_f.subs(C_subs).subs({x:a})}\n",
    "D_subs = sp.solve(eqns_D,{D})\n",
    "D_subs"
   ]
  },
  {
   "cell_type": "markdown",
   "metadata": {
    "deletable": true,
    "editable": true
   },
   "source": [
    "However, this postulate does not solve the problem. This additional condition has introduced an additional uknown parameter $a$ so that the problem is still not solvable and another boundary or continuity condition needs to be found.\n",
    "\n",
    "__Condition 3__: We futher postulate, that also the strain $\\varepsilon$ vanishes at the same distance $a$ as displacement reaches zero. i.e. $\\varepsilon_\\mathrm{f}(a) = 0$."
   ]
  },
  {
   "cell_type": "code",
   "execution_count": 31,
   "metadata": {
    "collapsed": false,
    "deletable": true,
    "editable": true
   },
   "outputs": [
    {
     "data": {
      "image/png": "[encoded data removed]",
      "text/latex": [
       "$$\\left \\{ a : - \\frac{P}{p \\tau}\\right \\}$$"
      ],
      "text/plain": [
       "⎧   -P ⎫\n",
       "⎨a: ───⎬\n",
       "⎩   p⋅τ⎭"
      ]
     },
     "execution_count": 31,
     "metadata": {},
     "output_type": "execute_result"
    }
   ],
   "source": [
    "eqns_a = {eps_f.subs(C_subs).subs(D_subs).subs({x:a})}\n",
    "a_subs = sp.solve(eqns_a,{a})\n",
    "a_subs"
   ]
  },
  {
   "cell_type": "markdown",
   "metadata": {
    "deletable": true,
    "editable": true
   },
   "source": [
    "Now all the unknown parameters are resolved. Lets put them all into a single dictionary called var_subs for convenience to avoid long substitution expressions to derive $u_\\mathrm{f}$, $\\varepsilon_\\mathrm{f}$ and $\\sigma_\\mathrm{f}$."
   ]
  },
  {
   "cell_type": "code",
   "execution_count": 32,
   "metadata": {
    "collapsed": false,
    "deletable": true,
    "editable": true
   },
   "outputs": [
    {
     "data": {
      "image/png": "[encoded data removed]",
      "text/latex": [
       "$$\\left \\{ C : \\frac{P}{A_{f}}, \\quad D : - \\frac{a}{2 A_{f} E_{f}} \\left(2 P + a p \\tau\\right), \\quad a : - \\frac{P}{p \\tau}\\right \\}$$"
      ],
      "text/plain": [
       "⎧    P      -a⋅(2⋅P + a⋅p⋅τ)      -P ⎫\n",
       "⎨C: ───, D: ─────────────────, a: ───⎬\n",
       "⎩   A_f         2⋅A_f⋅E_f         p⋅τ⎭"
      ]
     },
     "execution_count": 32,
     "metadata": {},
     "output_type": "execute_result"
    }
   ],
   "source": [
    "var_subs = {}\n",
    "[var_subs.update(var) for var in [C_subs,D_subs,a_subs]]\n",
    "var_subs"
   ]
  },
  {
   "cell_type": "markdown",
   "metadata": {
    "deletable": true,
    "editable": true
   },
   "source": [
    "With the known values of integration parameters we can resolve the sought displacement fields and plot it "
   ]
  },
  {
   "cell_type": "code",
   "execution_count": 33,
   "metadata": {
    "collapsed": false,
    "deletable": true,
    "editable": true
   },
   "outputs": [
    {
     "data": {
      "image/png": "[encoded data removed]",
      "text/latex": [
       "$$\\frac{P^{2}}{2 A_{f} E_{f} p \\tau} + \\frac{P x}{A_{f} E_{f}} + \\frac{p \\tau x^{2}}{2 A_{f} E_{f}}$$"
      ],
      "text/plain": [
       "       2                         2 \n",
       "      P           P⋅x       p⋅τ⋅x  \n",
       "───────────── + ─────── + ─────────\n",
       "2⋅A_f⋅E_f⋅p⋅τ   A_f⋅E_f   2⋅A_f⋅E_f"
      ]
     },
     "execution_count": 33,
     "metadata": {},
     "output_type": "execute_result"
    }
   ],
   "source": [
    "u_f_x = u_f.subs(var_subs)\n",
    "u_f_x"
   ]
  },
  {
   "cell_type": "markdown",
   "metadata": {
    "deletable": true,
    "editable": true
   },
   "source": [
    "Substitute for all the material and geometry parameters and the load P the value 1 and plot the curve"
   ]
  },
  {
   "cell_type": "code",
   "execution_count": 34,
   "metadata": {
    "collapsed": false,
    "deletable": true,
    "editable": true
   },
   "outputs": [
    {
     "data": {
      "image/png": "[encoded data removed]",
      "text/plain": [
       "<matplotlib.figure.Figure at 0x7f79ceb48208>"
      ]
     },
     "metadata": {},
     "output_type": "display_data"
    },
    {
     "data": {
      "text/plain": [
       "<sympy.plotting.plot.Plot at 0x7f79ceb48c18>"
      ]
     },
     "execution_count": 34,
     "metadata": {},
     "output_type": "execute_result"
    }
   ],
   "source": [
    "data_f = dict(L_b=1, p = 1, E_f = 1, A_f = 1, tau = 1)\n",
    "splot( u_f_x.subs(data_f).subs({P:1}), (x,-2,0) )"
   ]
  },
  {
   "cell_type": "markdown",
   "metadata": {
    "deletable": true,
    "editable": true
   },
   "source": [
    "Using the Heaviside step function $\\theta(x)$ we can conveniently obtain a single function covering the domain of $x$ piece by piece.\n",
    "\\begin{align}\n",
    "  u_\\mathrm{fa} & = \\left\\{\n",
    "  \\begin{array}{ll}\n",
    "  u_\\mathrm{f}(x) & \\iff x < 0 \\land x > a, \\; \\mathrm{where} \\; a = -\\frac{P}{p\\tau}, \\\\\n",
    "  0      & \\mathrm{otherwise}\n",
    "  \\end{array}\n",
    "  \\right.\n",
    "\\end{align}\n",
    "Using the Heaviside function, we can write this in a more compact way as folows\n",
    "\\begin{align}\n",
    "  u_\\mathrm{fa} & = u_\\mathrm{f} \\, \\theta(-x) \\, \\theta(x - a)\n",
    "\\end{align}"
   ]
  },
  {
   "cell_type": "code",
   "execution_count": 35,
   "metadata": {
    "collapsed": false,
    "deletable": true,
    "editable": true
   },
   "outputs": [
    {
     "data": {
      "image/png": "[encoded data removed]",
      "text/plain": [
       "<matplotlib.figure.Figure at 0x7f79ce9bdb00>"
      ]
     },
     "metadata": {},
     "output_type": "display_data"
    },
    {
     "data": {
      "text/plain": [
       "<sympy.plotting.plot.Plot at 0x7f79ce9bd160>"
      ]
     },
     "execution_count": 35,
     "metadata": {},
     "output_type": "execute_result"
    }
   ],
   "source": [
    "u_fa_x = u_f_x * sp.Heaviside(x-var_subs[a])\n",
    "splot(u_fa_x.subs(data_f).subs({P:1}), (x,-2,0) )"
   ]
  },
  {
   "cell_type": "code",
   "execution_count": 36,
   "metadata": {
    "collapsed": true,
    "deletable": true,
    "editable": true
   },
   "outputs": [],
   "source": [
    "eps_fa_x = sp.diff(u_fa_x,x)\n",
    "sig_fa_x = 1 / E_f * eps_fa_x"
   ]
  },
  {
   "cell_type": "markdown",
   "metadata": {
    "deletable": true,
    "editable": true
   },
   "source": [
    "## Problem solved - lets present the results\n",
    "Define concrete values of the model parameters "
   ]
  },
  {
   "cell_type": "code",
   "execution_count": 37,
   "metadata": {
    "collapsed": true,
    "deletable": true,
    "editable": true
   },
   "outputs": [],
   "source": [
    "u_fa_x_data = u_fa_x.subs(data_f)\n",
    "eps_fa_x_data = eps_fa_x.subs(data_f)\n",
    "sig_fa_x_data = sig_fa_x.subs(data_f)"
   ]
  },
  {
   "cell_type": "code",
   "execution_count": 38,
   "metadata": {
    "collapsed": false,
    "deletable": true,
    "editable": true
   },
   "outputs": [
    {
     "data": {
      "image/png": "[encoded data removed]",
      "text/plain": [
       "<matplotlib.figure.Figure at 0x7f79ceb13438>"
      ]
     },
     "metadata": {},
     "output_type": "display_data"
    },
    {
     "data": {
      "image/png": "[encoded data removed]",
      "text/plain": [
       "<matplotlib.figure.Figure at 0x7f79ce8d7400>"
      ]
     },
     "metadata": {},
     "output_type": "display_data"
    },
    {
     "data": {
      "image/png": "[encoded data removed]",
      "text/plain": [
       "<matplotlib.figure.Figure at 0x7f79ce906860>"
      ]
     },
     "metadata": {},
     "output_type": "display_data"
    },
    {
     "data": {
      "text/plain": [
       "<sympy.plotting.plot.Plot at 0x7f79ce7a0438>"
      ]
     },
     "execution_count": 38,
     "metadata": {},
     "output_type": "execute_result"
    }
   ],
   "source": [
    "P_levels = np.linspace(0,1,8)\n",
    "u_f_list = [u_fa_x_data.subs({P: Pl}) for Pl in P_levels] + [(x,-1,0)]\n",
    "splot(*u_f_list, line_color='red')\n",
    "eps_f_list = [eps_fa_x_data.subs({P: Pl}) for Pl in P_levels] + [(x,-1,0)]\n",
    "splot(*eps_f_list, line_color='green')\n",
    "sig_f_list = [sig_fa_x_data.subs({P: Pl}) for Pl in P_levels] + [(x,-1,0)]\n",
    "splot(*sig_f_list, line_color='blue')"
   ]
  },
  {
   "cell_type": "code",
   "execution_count": 39,
   "metadata": {
    "collapsed": false,
    "deletable": true,
    "editable": true,
    "scrolled": true
   },
   "outputs": [
    {
     "data": {
      "image/png": "[encoded data removed]",
      "text/latex": [
       "$$\\left ( - \\sqrt{2} \\sqrt{A_{f} E_{f} p \\tau w}, \\quad \\sqrt{2} \\sqrt{A_{f} E_{f} p \\tau w}\\right )$$"
      ],
      "text/plain": [
       "⎛      _______________       _______________⎞\n",
       "⎝-√2⋅╲╱ A_f⋅E_f⋅p⋅τ⋅w , √2⋅╲╱ A_f⋅E_f⋅p⋅τ⋅w ⎠"
      ]
     },
     "execution_count": 39,
     "metadata": {},
     "output_type": "execute_result"
    }
   ],
   "source": [
    "P_push, P_pull = sp.solve(u_f_x.subs({x:0})-w, P)\n",
    "sp.simplify(P_push), sp.simplify(P_pull)"
   ]
  },
  {
   "cell_type": "code",
   "execution_count": 40,
   "metadata": {
    "collapsed": false,
    "deletable": true,
    "editable": true
   },
   "outputs": [
    {
     "data": {
      "image/png": "[encoded data removed]",
      "text/latex": [
       "$$\\left ( - \\sqrt{2} \\sqrt{w}, \\quad \\sqrt{2} \\sqrt{w}\\right )$$"
      ],
      "text/plain": [
       "(-√2⋅√w, √2⋅√w)"
      ]
     },
     "execution_count": 40,
     "metadata": {},
     "output_type": "execute_result"
    }
   ],
   "source": [
    "PW_push = P_push.subs(data_f)\n",
    "PW_pull = P_pull.subs(data_f)\n",
    "PW_push, PW_pull"
   ]
  },
  {
   "cell_type": "code",
   "execution_count": 41,
   "metadata": {
    "collapsed": false,
    "deletable": true,
    "editable": true
   },
   "outputs": [
    {
     "data": {
      "image/png": "[encoded data removed]",
      "text/plain": [
       "<matplotlib.figure.Figure at 0x7f79ce987630>"
      ]
     },
     "metadata": {},
     "output_type": "display_data"
    },
    {
     "data": {
      "text/plain": [
       "<sympy.plotting.plot.Plot at 0x7f79ceb87a20>"
      ]
     },
     "execution_count": 41,
     "metadata": {},
     "output_type": "execute_result"
    }
   ],
   "source": [
    "splot(PW_push, PW_pull, (w,0,1), line_color='green')"
   ]
  },
  {
   "cell_type": "markdown",
   "metadata": {
    "deletable": true,
    "editable": true
   },
   "source": [
    "\n"
   ]
  },
  {
   "cell_type": "markdown",
   "metadata": {
    "deletable": true,
    "editable": true
   },
   "source": [
    "## Introduce finite embedded length"
   ]
  },
  {
   "cell_type": "code",
   "execution_count": 19,
   "metadata": {
    "collapsed": false,
    "deletable": true,
    "editable": true
   },
   "outputs": [
    {
     "data": {
      "image/png": "[encoded data removed]",
      "text/latex": [
       "$$\\frac{L_{b}^{2} p \\tau}{2 A_{f} E_{f}}$$"
      ],
      "text/plain": [
       "    2    \n",
       " L_b ⋅p⋅τ\n",
       "─────────\n",
       "2⋅A_f⋅E_f"
      ]
     },
     "execution_count": 19,
     "metadata": {},
     "output_type": "execute_result"
    }
   ],
   "source": [
    "P_max = sp.solve(var_subs[a] + L_b, P)[0]\n",
    "w_argmax = sp.solve(P_max - P_pull, w)[0]\n",
    "w_argmax"
   ]
  },
  {
   "cell_type": "code",
   "execution_count": 20,
   "metadata": {
    "collapsed": false,
    "deletable": true,
    "editable": true
   },
   "outputs": [
    {
     "data": {
      "image/png": "[encoded data removed]",
      "text/latex": [
       "$$\\sqrt{2} \\sqrt{w} \\theta\\left(- w + \\frac{1}{2}\\right) + \\theta\\left(w - \\frac{1}{2}\\right)$$"
      ],
      "text/plain": [
       "√2⋅√w⋅Heaviside(-w + 1/2) + Heaviside(w - 1/2)"
      ]
     },
     "execution_count": 20,
     "metadata": {},
     "output_type": "execute_result"
    }
   ],
   "source": [
    "P_pull_Lb = sp.Heaviside(w_argmax - w) * P_pull + sp.Heaviside(w - w_argmax) * P_max\n",
    "PW_pull_Lb = P_pull_Lb.subs(data_f)\n",
    "PW_pull_Lb"
   ]
  },
  {
   "cell_type": "code",
   "execution_count": 21,
   "metadata": {
    "collapsed": false,
    "deletable": true,
    "editable": true
   },
   "outputs": [
    {
     "data": {
      "image/png": "[encoded data removed]",
      "text/plain": [
       "<matplotlib.figure.Figure at 0x7f79cf254208>"
      ]
     },
     "metadata": {},
     "output_type": "display_data"
    },
    {
     "data": {
      "text/plain": [
       "<sympy.plotting.plot.Plot at 0x7f79ce99c320>"
      ]
     },
     "execution_count": 21,
     "metadata": {},
     "output_type": "execute_result"
    }
   ],
   "source": [
    "splot(PW_pull_Lb, (w,0,1), line_color='green')"
   ]
  },
  {
   "cell_type": "markdown",
   "metadata": {
    "deletable": true,
    "editable": true
   },
   "source": [
    "## BC3: Clamp the reinforcement"
   ]
  },
  {
   "cell_type": "code",
   "execution_count": 22,
   "metadata": {
    "collapsed": false,
    "deletable": true,
    "editable": true
   },
   "outputs": [
    {
     "data": {
      "image/png": "[encoded data removed]",
      "text/latex": [
       "$$\\frac{A_{f} E_{f} \\sqrt{L_{b}^{2} p^{2} \\tau^{2}}}{L_{b}^{2} p \\tau}$$"
      ],
      "text/plain": [
       "           ____________\n",
       "          ╱    2  2  2 \n",
       "A_f⋅E_f⋅╲╱  L_b ⋅p ⋅τ  \n",
       "───────────────────────\n",
       "           2           \n",
       "        L_b ⋅p⋅τ       "
      ]
     },
     "execution_count": 22,
     "metadata": {},
     "output_type": "execute_result"
    }
   ],
   "source": [
    "d_P_dw = sp.diff(P_pull,w)\n",
    "K_c = d_P_dw.subs({w:w_argmax})\n",
    "sp.simplify(K_c)"
   ]
  },
  {
   "cell_type": "code",
   "execution_count": 23,
   "metadata": {
    "collapsed": false,
    "deletable": true,
    "editable": true
   },
   "outputs": [
    {
     "data": {
      "image/png": "[encoded data removed]",
      "text/latex": [
       "$$\\sqrt{2} \\sqrt{w} \\theta\\left(- w + \\frac{1}{2}\\right) + \\left(w + \\frac{1}{2}\\right) \\theta\\left(w - \\frac{1}{2}\\right)$$"
      ],
      "text/plain": [
       "√2⋅√w⋅Heaviside(-w + 1/2) + (w + 1/2)⋅Heaviside(w - 1/2)"
      ]
     },
     "execution_count": 23,
     "metadata": {},
     "output_type": "execute_result"
    }
   ],
   "source": [
    "P_pull_clamped = (sp.Heaviside(w_argmax - w) * P_pull + \n",
    "       sp.Heaviside(w - w_argmax) * (P_max + K_c * (w - w_argmax)))\n",
    "PW_pull_clamped = P_pull_clamped.subs(data_f)\n",
    "PW_pull_clamped"
   ]
  },
  {
   "cell_type": "code",
   "execution_count": 24,
   "metadata": {
    "collapsed": false,
    "deletable": true,
    "editable": true,
    "scrolled": true
   },
   "outputs": [
    {
     "data": {
      "image/png": "[encoded data removed]",
      "text/plain": [
       "<matplotlib.figure.Figure at 0x7f79ce947710>"
      ]
     },
     "metadata": {},
     "output_type": "display_data"
    },
    {
     "data": {
      "text/plain": [
       "<sympy.plotting.plot.Plot at 0x7f79ce997cc0>"
      ]
     },
     "execution_count": 24,
     "metadata": {},
     "output_type": "execute_result"
    }
   ],
   "source": [
    "splot(PW_pull_clamped, (w,0,1), line_color='green')"
   ]
  }
 ],
 "metadata": {
  "kernelspec": {
   "display_name": "Python 3",
   "language": "python",
   "name": "python3"
  },
  "language_info": {
   "codemirror_mode": {
    "name": "ipython",
    "version": 3
   },
   "file_extension": ".py",
   "mimetype": "text/x-python",
   "name": "python",
   "nbconvert_exporter": "python",
   "pygments_lexer": "ipython3",
   "version": "3.5.2"
  }
 },
 "nbformat": 4,
 "nbformat_minor": 1
}
