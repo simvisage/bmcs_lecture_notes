{
 "cells": [
  {
   "cell_type": "markdown",
   "metadata": {
    "deletable": true,
    "editable": true
   },
   "source": [
    "![rwth_imb_logo.png](attachment:rwth_imb_logo.png)"
   ]
  },
  {
   "cell_type": "markdown",
   "metadata": {
    "deletable": true,
    "editable": true
   },
   "source": [
    "[Back to the list](./List.ipynb)"
   ]
  },
  {
   "cell_type": "markdown",
   "metadata": {
    "deletable": true,
    "editable": true
   },
   "source": [
    "[Next notebook: 1_2_Calculate_the_cross_sectional_area_of_a_component_to_achieve_a_desired_stiffness](./1_2_Calculate_the_cross_sectional_area_of_a_component_to_achieve_a_desired_stiffness.ipynb)"
   ]
  },
  {
   "cell_type": "markdown",
   "metadata": {
    "deletable": true,
    "editable": true
   },
   "source": [
    "# Example 1.1 - Calculate the elastic stiffness of the composite"
   ]
  },
  {
   "cell_type": "code",
   "execution_count": 1,
   "metadata": {
    "collapsed": false,
    "deletable": true,
    "editable": true
   },
   "outputs": [
    {
     "name": "stdout",
     "output_type": "stream",
     "text": [
      "E_composite 37082.18859138533 MPa\n"
     ]
    }
   ],
   "source": [
    "A_roving = 1.84 # [mm**2] \n",
    "n_layers = 6 # - \n",
    "spacing = 25.77 # [mm] \n",
    "thickness = 10 # [mm] \n",
    "width = 100 # [mm] \n",
    "E_carbon = 240000 # [MPa] \n",
    "E_concrete = 28000 # [MPa]\n",
    "\n",
    "A_composite = width * thickness \n",
    "n_rovings = width / spacing \n",
    "A_layer = n_rovings * A_roving \n",
    "A_carbon = n_layers * A_layer \n",
    "A_concrete = A_composite - A_carbon \n",
    "E_composite = (E_carbon * A_carbon + E_concrete * A_concrete) / (A_composite)\n",
    "\n",
    "print ('E_composite', E_composite , 'MPa') "
   ]
  },
  {
   "cell_type": "code",
   "execution_count": 2,
   "metadata": {
    "collapsed": true,
    "deletable": true,
    "editable": true
   },
   "outputs": [],
   "source": [
    "from IPython.display import HTML"
   ]
  },
  {
   "cell_type": "code",
   "execution_count": 3,
   "metadata": {
    "collapsed": false,
    "deletable": true,
    "editable": true
   },
   "outputs": [
    {
     "data": {
      "text/html": [
       "<audio controls>\n",
       "  <source src=\"./audio/piano2.wav\">\n",
       "</audio>\n"
      ],
      "text/plain": [
       "<IPython.core.display.HTML object>"
      ]
     },
     "metadata": {},
     "output_type": "display_data"
    }
   ],
   "source": [
    "%%HTML\n",
    "<audio controls>\n",
    "  <source src=\"./audio/piano2.wav\">\n",
    "</audio>"
   ]
  }
 ],
 "metadata": {
  "kernelspec": {
   "display_name": "Python 3",
   "language": "python",
   "name": "python3"
  },
  "language_info": {
   "codemirror_mode": {
    "name": "ipython",
    "version": 3
   },
   "file_extension": ".py",
   "mimetype": "text/x-python",
   "name": "python",
   "nbconvert_exporter": "python",
   "pygments_lexer": "ipython3",
   "version": "3.5.2"
  }
 },
 "nbformat": 4,
 "nbformat_minor": 2
}
