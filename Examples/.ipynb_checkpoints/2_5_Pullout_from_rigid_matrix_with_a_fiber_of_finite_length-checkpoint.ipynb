{
 "cells": [
  {
   "cell_type": "markdown",
   "metadata": {
    "deletable": true,
    "editable": true
   },
   "source": [
    "# Example 2.5: Pullout from rigid matrix\n",
    "## BC1 and no free length\n",
    "This example shows the analytically solved model - the simplest possible configuration "
   ]
  },
  {
   "cell_type": "code",
   "execution_count": 1,
   "metadata": {
    "collapsed": false,
    "deletable": true,
    "editable": true
   },
   "outputs": [],
   "source": [
    "import sympy as sp\n",
    "import numpy as np\n",
    "from IPython.display import display\n",
    "from sympy.plotting import plot as splot, plot3d as splot3d\n",
    "sp.init_printing()"
   ]
  },
  {
   "cell_type": "markdown",
   "metadata": {
    "deletable": true,
    "editable": true
   },
   "source": [
    "## Variables involved in the boundary value problem\n",
    "#### Geometrical parameters\n",
    "-  $A_\\mathrm{f}$ | Cross section area modulus of the reinforcement\n",
    "-  $p$: Perimeter of the reinforcement\n",
    "-  $L_\\mathrm{f}$: Free length of the pulled-out bar\n",
    "\n",
    "#### Coordinate variable\n",
    "-  $x$: Longitudinal coordinate\n",
    "\n",
    "#### Material parameters\n",
    "-  $E_\\mathrm{f}$: Young's modulus of the reinforcement\n",
    "-  $\\tau$: Frictional bond stress\n",
    "\n",
    "#### Control parameter\n",
    "-  $P, w$: Pullout force, pullout displacement\n",
    "\n",
    "#### State parameter\n",
    "-  $a$: Length of the debonded zone\n",
    "\n",
    "#### Integration constants\n",
    "-  $C,D$: Integration constants to be resolved through boundary and continuity conditions"
   ]
  },
  {
   "cell_type": "code",
   "execution_count": 2,
   "metadata": {
    "collapsed": false,
    "deletable": true,
    "editable": true
   },
   "outputs": [],
   "source": [
    "E_f, A_f, tau, p = sp.symbols('E_f, A_f, tau, p')\n",
    "C, D = sp.symbols('C, D')\n",
    "P, w = sp.symbols('P, w')\n",
    "x, a, b, L_b = sp.symbols('x, a, b, L_b')"
   ]
  },
  {
   "cell_type": "markdown",
   "metadata": {
    "deletable": true,
    "editable": true
   },
   "source": [
    "## Embedded length: equilibrium, elasticity and compatibility \n",
    "In the halfspace $x \\in (-\\infty, 0)$ the governing equations take the folowing form:<br>\n",
    "__Equilibrium__: The equilibrium equation along the free length of the bar introduces the equivalence between the normal force in the reinforcement $\\sigma_\\mathrm{f} A_\\mathrm{f}$ and and the bond intensity within an ifinitesimal element $\\mathrm{d}x$\n",
    "\\begin{align}\n",
    "\\frac{\\partial \\sigma_\\mathrm{f}}{\\partial x} &= \\frac{p \\tau}{A_\\mathrm{f}}.\n",
    "\\end{align}\n",
    "By integrating this equation we obtain the stress as an unknown constant\n",
    "\\begin{align}\n",
    "\\sigma_\\mathrm{f}(x) &=  \\frac{p \\tau}{A_\\mathrm{f}} x + C.\n",
    "\\end{align}\n",
    "__Elasticity__: Assuming linear elastic behavior with the Young's modulus $E_\\mathrm{f}$ we obtain the strain $\\varepsilon$ as\n",
    "\\begin{align}\n",
    "\\varepsilon_\\mathrm{f}(x) = \\frac{1}{E_\\mathrm{f}} \\left(\\frac{p \\tau}{A_\\mathrm{f}} x + C \\right).\n",
    "\\end{align}\n",
    "__Kinematics__: The displacement of the bar within the free length is obtained as an integral\n",
    "\\begin{align}\n",
    "u_\\mathrm{f}(x) = \n",
    "\\frac{p \\tau x^{2}}{2 A_\\mathrm{f} E_\\mathrm{f}} + \\frac{C x}{E_{\\mathrm{f}}} + D \n",
    "\\end{align}"
   ]
  },
  {
   "cell_type": "code",
   "execution_count": 3,
   "metadata": {
    "collapsed": false,
    "deletable": true,
    "editable": true
   },
   "outputs": [
    {
     "data": {
      "image/png": "[encoded data removed]",
      "text/latex": [
       "$$\\left ( C + \\frac{p \\tau}{A_{f}} x, \\quad \\frac{1}{E_{f}} \\left(C + \\frac{p \\tau}{A_{f}} x\\right), \\quad \\frac{C x}{E_{f}} + D + \\frac{p \\tau x^{2}}{2 A_{f} E_{f}}\\right )$$"
      ],
      "text/plain": [
       "⎛               p⋅τ⋅x                     ⎞\n",
       "⎜           C + ─────                   2 ⎟\n",
       "⎜    p⋅τ⋅x       A_f   C⋅x         p⋅τ⋅x  ⎟\n",
       "⎜C + ─────, ─────────, ─── + D + ─────────⎟\n",
       "⎝     A_f      E_f     E_f       2⋅A_f⋅E_f⎠"
      ]
     },
     "execution_count": 3,
     "metadata": {},
     "output_type": "execute_result"
    }
   ],
   "source": [
    "d_sig_f = p * tau / A_f\n",
    "sig_f = sp.integrate(d_sig_f, x) + C\n",
    "eps_f = sig_f / E_f\n",
    "u_f = sp.integrate(eps_f, x) + D\n",
    "sig_f, eps_f, u_f # check"
   ]
  },
  {
   "cell_type": "markdown",
   "metadata": {
    "deletable": true,
    "editable": true
   },
   "source": [
    "## Phase 1: Debonding from the loaded end"
   ]
  },
  {
   "cell_type": "markdown",
   "metadata": {
    "deletable": true,
    "editable": true
   },
   "source": [
    "### Resolving for integration constants (step 1)\n",
    "__Condition 1__: Stress in the free length must be equal to $\\sigma(0) = P/A_\\mathrm{f}$.<br> "
   ]
  },
  {
   "cell_type": "code",
   "execution_count": 4,
   "metadata": {
    "collapsed": false,
    "deletable": true,
    "editable": true
   },
   "outputs": [
    {
     "data": {
      "image/png": "[encoded data removed]",
      "text/latex": [
       "$$\\left \\{ C : \\frac{P}{A_{f}}\\right \\}$$"
      ],
      "text/plain": [
       "⎧    P ⎫\n",
       "⎨C: ───⎬\n",
       "⎩   A_f⎭"
      ]
     },
     "execution_count": 4,
     "metadata": {},
     "output_type": "execute_result"
    }
   ],
   "source": [
    "eq_C = {P - sig_f.subs({x:0}) * A_f}\n",
    "C_subs = sp.solve(eq_C,{C})\n",
    "C_subs # display the result"
   ]
  },
  {
   "cell_type": "markdown",
   "metadata": {
    "deletable": true,
    "editable": true
   },
   "source": [
    "### Resolving for integration constants (step 2)\n",
    "The solution for the integration constant $D$ requires a second thought. Can we say something about how does the displacement approach zero within the embedded length? \n",
    "\n",
    "__Condition 2__: We can postulate, that at some unkonwn distance $a$, the slip between the reinforcement and the matrix will be zero, i.e. $u_\\mathrm{f}(a) = 0$."
   ]
  },
  {
   "cell_type": "code",
   "execution_count": 5,
   "metadata": {
    "collapsed": false,
    "deletable": true,
    "editable": true
   },
   "outputs": [
    {
     "data": {
      "image/png": "[encoded data removed]",
      "text/latex": [
       "$$\\left \\{ D : - \\frac{a}{2 A_{f} E_{f}} \\left(2 P + a p \\tau\\right)\\right \\}$$"
      ],
      "text/plain": [
       "⎧   -a⋅(2⋅P + a⋅p⋅τ) ⎫\n",
       "⎨D: ─────────────────⎬\n",
       "⎩       2⋅A_f⋅E_f    ⎭"
      ]
     },
     "execution_count": 5,
     "metadata": {},
     "output_type": "execute_result"
    }
   ],
   "source": [
    "eqns_D = {u_f.subs(C_subs).subs({x:a})}\n",
    "D_subs = sp.solve(eqns_D,{D})\n",
    "D_subs"
   ]
  },
  {
   "cell_type": "markdown",
   "metadata": {
    "deletable": true,
    "editable": true
   },
   "source": [
    "However, this postulate does not solve the problem. This additional condition has introduced an additional uknown parameter $a$ so that the problem is still not solvable and another boundary or continuity condition needs to be found.\n",
    "\n",
    "__Condition 3__: We futher postulate, that also the strain $\\varepsilon$ vanishes at the same distance $a$ as displacement reaches zero. i.e. $\\varepsilon_\\mathrm{f}(a) = 0$."
   ]
  },
  {
   "cell_type": "code",
   "execution_count": 6,
   "metadata": {
    "collapsed": false,
    "deletable": true,
    "editable": true
   },
   "outputs": [
    {
     "data": {
      "image/png": "[encoded data removed]",
      "text/latex": [
       "$$\\left \\{ a : - \\frac{P}{p \\tau}\\right \\}$$"
      ],
      "text/plain": [
       "⎧   -P ⎫\n",
       "⎨a: ───⎬\n",
       "⎩   p⋅τ⎭"
      ]
     },
     "execution_count": 6,
     "metadata": {},
     "output_type": "execute_result"
    }
   ],
   "source": [
    "eqns_a = {eps_f.subs(C_subs).subs(D_subs).subs({x:a})}\n",
    "a_subs = sp.solve(eqns_a,{a})\n",
    "a_subs"
   ]
  },
  {
   "cell_type": "markdown",
   "metadata": {
    "deletable": true,
    "editable": true
   },
   "source": [
    "With the known values of integration parameters we can resolve the sought displacement fields and plot it "
   ]
  },
  {
   "cell_type": "code",
   "execution_count": 7,
   "metadata": {
    "collapsed": false,
    "deletable": true,
    "editable": true
   },
   "outputs": [
    {
     "data": {
      "image/png": "[encoded data removed]",
      "text/latex": [
       "$$\\frac{P^{2}}{2 A_{f} E_{f} p \\tau} + \\frac{P x}{A_{f} E_{f}} + \\frac{p \\tau x^{2}}{2 A_{f} E_{f}}$$"
      ],
      "text/plain": [
       "       2                         2 \n",
       "      P           P⋅x       p⋅τ⋅x  \n",
       "───────────── + ─────── + ─────────\n",
       "2⋅A_f⋅E_f⋅p⋅τ   A_f⋅E_f   2⋅A_f⋅E_f"
      ]
     },
     "execution_count": 7,
     "metadata": {},
     "output_type": "execute_result"
    }
   ],
   "source": [
    "u_f_x1 = u_f.subs(C_subs).subs(D_subs).subs(a_subs)\n",
    "u_f_x1"
   ]
  },
  {
   "cell_type": "markdown",
   "metadata": {
    "deletable": true,
    "editable": true
   },
   "source": [
    "Substitute for all the material and geometry parameters and the load P the value 1 and plot the curve"
   ]
  },
  {
   "cell_type": "markdown",
   "metadata": {
    "deletable": true,
    "editable": true
   },
   "source": [
    "Using the Heaviside step function $\\theta(x)$ we can conveniently obtain a single function covering the domain of $x$ piece by piece.\n",
    "\\begin{align}\n",
    "  u_\\mathrm{fa} & = \\left\\{\n",
    "  \\begin{array}{ll}\n",
    "  u_\\mathrm{f}(x) & \\iff x < 0 \\land x > a, \\; \\mathrm{where} \\; a = -\\frac{P}{p\\tau}, \\\\\n",
    "  0      & \\mathrm{otherwise}\n",
    "  \\end{array}\n",
    "  \\right.\n",
    "\\end{align}\n",
    "Using the Heaviside function, we can write this in a more compact way as folows\n",
    "\\begin{align}\n",
    "  u_\\mathrm{fa} & = u_\\mathrm{f} \\, \\theta(-x) \\, \\theta(x - a)\n",
    "\\end{align}"
   ]
  },
  {
   "cell_type": "code",
   "execution_count": 8,
   "metadata": {
    "collapsed": false,
    "deletable": true,
    "editable": true
   },
   "outputs": [
    {
     "data": {
      "image/png": "[encoded data removed]",
      "text/latex": [
       "$$\\left(\\frac{P^{2}}{2 A_{f} E_{f} p \\tau} + \\frac{P x}{A_{f} E_{f}} + \\frac{p \\tau x^{2}}{2 A_{f} E_{f}}\\right) \\theta\\left(\\frac{P}{p \\tau} + x\\right)$$"
      ],
      "text/plain": [
       "⎛       2                         2 ⎞                   \n",
       "⎜      P           P⋅x       p⋅τ⋅x  ⎟          ⎛ P     ⎞\n",
       "⎜───────────── + ─────── + ─────────⎟⋅Heaviside⎜─── + x⎟\n",
       "⎝2⋅A_f⋅E_f⋅p⋅τ   A_f⋅E_f   2⋅A_f⋅E_f⎠          ⎝p⋅τ    ⎠"
      ]
     },
     "execution_count": 8,
     "metadata": {},
     "output_type": "execute_result"
    }
   ],
   "source": [
    "u_fa_x = u_f_x1 * sp.Heaviside(x-a_subs[a])\n",
    "u_fa_x"
   ]
  },
  {
   "cell_type": "code",
   "execution_count": 9,
   "metadata": {
    "collapsed": false,
    "deletable": true,
    "editable": true
   },
   "outputs": [],
   "source": [
    "eps_fa_x = sp.diff(u_fa_x,x)\n",
    "sig_fa_x = 1 / E_f * eps_fa_x"
   ]
  },
  {
   "cell_type": "markdown",
   "metadata": {
    "deletable": true,
    "editable": true
   },
   "source": [
    "## Differential equation solved\n",
    "### Check the results for selected model parameters"
   ]
  },
  {
   "cell_type": "code",
   "execution_count": 10,
   "metadata": {
    "collapsed": false,
    "deletable": true,
    "editable": true
   },
   "outputs": [
    {
     "data": {
      "image/png": "[encoded data removed]",
      "text/latex": [
       "$$\\left ( 1, \\quad -2, \\quad 3.14, \\quad 0.785, \\quad 210000\\right )$$"
      ],
      "text/plain": [
       "(1, -2, 3.14, 0.785, 210000)"
      ]
     },
     "execution_count": 10,
     "metadata": {},
     "output_type": "execute_result"
    }
   ],
   "source": [
    "ds_ = 1\n",
    "L_b_ = -2*ds_\n",
    "tau_ = 30.\n",
    "p_ = 3.14 * ds_\n",
    "A_f_ = (ds_/2)**2 * 3.14\n",
    "E_f_ = 210000 # [MPa] \n",
    "data_f = dict(L_b=L_b_, p = p_, E_f = E_f_, A_f = A_f_, tau = tau_)\n",
    "ds_, L_b_, p_, A_f_, E_f_"
   ]
  },
  {
   "cell_type": "code",
   "execution_count": 11,
   "metadata": {
    "collapsed": true,
    "deletable": true,
    "editable": true
   },
   "outputs": [],
   "source": [
    "u_fa_x_data = u_fa_x.subs(data_f)\n",
    "eps_fa_x_data = eps_fa_x.subs(data_f)\n",
    "sig_fa_x_data = sig_fa_x.subs(data_f)"
   ]
  },
  {
   "cell_type": "markdown",
   "metadata": {
    "deletable": true,
    "editable": true
   },
   "source": [
    "### Plot the fields $u$, $\\varepsilon$, $\\sigma$ for increasing load levels "
   ]
  },
  {
   "cell_type": "code",
   "execution_count": 12,
   "metadata": {
    "collapsed": false,
    "deletable": true,
    "editable": true
   },
   "outputs": [
    {
     "data": {
      "text/plain": [
       "<matplotlib.figure.Figure at 0x7f962daab780>"
      ]
     },
     "metadata": {},
     "output_type": "display_data"
    },
    {
     "data": {
      "text/plain": [
       "<matplotlib.figure.Figure at 0x7f961edf4e48>"
      ]
     },
     "metadata": {},
     "output_type": "display_data"
    },
    {
     "data": {
      "text/plain": [
       "<matplotlib.figure.Figure at 0x7f961ee16828>"
      ]
     },
     "metadata": {},
     "output_type": "display_data"
    },
    {
     "data": {
      "text/plain": [
       "<sympy.plotting.plot.Plot at 0x7f961ee16860>"
      ]
     },
     "execution_count": 12,
     "metadata": {},
     "output_type": "execute_result"
    }
   ],
   "source": [
    "P_levels = np.linspace(0,30,8)\n",
    "u_f_list = [u_fa_x_data.subs({P: Pl}) for Pl in P_levels] + [(x,L_b_,0)]\n",
    "splot(*u_f_list, line_color='red')\n",
    "eps_f_list = [eps_fa_x_data.subs({P: Pl}) for Pl in P_levels] + [(x,L_b_,0)]\n",
    "splot(*eps_f_list, line_color='green')\n",
    "sig_f_list = [sig_fa_x_data.subs({P: Pl}) for Pl in P_levels] + [(x,L_b_,0)]\n",
    "splot(*sig_f_list, line_color='blue')"
   ]
  },
  {
   "cell_type": "markdown",
   "metadata": {
    "deletable": true,
    "editable": true
   },
   "source": [
    "## Relate the slip at the loaded end with to the load"
   ]
  },
  {
   "cell_type": "code",
   "execution_count": 13,
   "metadata": {
    "collapsed": false,
    "deletable": true,
    "editable": true,
    "scrolled": true
   },
   "outputs": [
    {
     "data": {
      "image/png": "[encoded data removed]",
      "text/latex": [
       "$$\\sqrt{2} \\sqrt{A_{f}} \\sqrt{E_{f}} \\sqrt{p} \\sqrt{\\tau} \\sqrt{w}$$"
      ],
      "text/plain": [
       "     _____   _____         \n",
       "√2⋅╲╱ A_f ⋅╲╱ E_f ⋅√p⋅√τ⋅√w"
      ]
     },
     "execution_count": 13,
     "metadata": {},
     "output_type": "execute_result"
    }
   ],
   "source": [
    "P_pull1 = sp.solve(u_fa_x.subs({x:0})-w, P)[0]\n",
    "sp.simplify(P_pull1)"
   ]
  },
  {
   "cell_type": "code",
   "execution_count": 14,
   "metadata": {
    "collapsed": false,
    "deletable": true,
    "editable": true
   },
   "outputs": [
    {
     "data": {
      "image/png": "[encoded data removed]",
      "text/latex": [
       "$$859.924415283111 \\sqrt{42} \\sqrt{w}$$"
      ],
      "text/plain": [
       "859.924415283111⋅√42⋅√w"
      ]
     },
     "execution_count": 14,
     "metadata": {},
     "output_type": "execute_result"
    }
   ],
   "source": [
    "PW_pull1 = P_pull1.subs(data_f)\n",
    "PW_pull1"
   ]
  },
  {
   "cell_type": "markdown",
   "metadata": {
    "deletable": true,
    "editable": true
   },
   "source": [
    "### Plot the pullout curve\n",
    "Note that this curve describes the pullout from an infinitely long bond zone"
   ]
  },
  {
   "cell_type": "code",
   "execution_count": 15,
   "metadata": {
    "collapsed": false,
    "deletable": true,
    "editable": true
   },
   "outputs": [
    {
     "data": {
      "image/png": "[encoded data removed]",
      "text/plain": [
       "<matplotlib.figure.Figure at 0x7f961ece8ef0>"
      ]
     },
     "metadata": {},
     "output_type": "display_data"
    },
    {
     "data": {
      "text/plain": [
       "<sympy.plotting.plot.Plot at 0x7f961ece8048>"
      ]
     },
     "execution_count": 15,
     "metadata": {},
     "output_type": "execute_result"
    }
   ],
   "source": [
    "splot(PW_pull1, (w,0,1), line_color='green')"
   ]
  },
  {
   "cell_type": "markdown",
   "metadata": {
    "deletable": true,
    "editable": true
   },
   "source": [
    "## Introduce finite embedded length\n",
    "Find the value of load at which the debonded zone $a$ reaches the finite length of the specimen defined by the position $L_b$\n",
    "\\begin{align}\n",
    "L_\\mathrm{b} = a\n",
    "\\end{align}"
   ]
  },
  {
   "cell_type": "code",
   "execution_count": 16,
   "metadata": {
    "collapsed": false,
    "deletable": true,
    "editable": true
   },
   "outputs": [
    {
     "data": {
      "image/png": "[encoded data removed]",
      "text/latex": [
       "$$L_{b} - \\frac{P}{p \\tau}$$"
      ],
      "text/plain": [
       "       P \n",
       "L_b - ───\n",
       "      p⋅τ"
      ]
     },
     "execution_count": 16,
     "metadata": {},
     "output_type": "execute_result"
    }
   ],
   "source": [
    "L_b_condition = a_subs[a] + L_b\n",
    "L_b_condition # must equal to zero"
   ]
  },
  {
   "cell_type": "markdown",
   "metadata": {
    "deletable": true,
    "editable": true
   },
   "source": [
    "When the debonded zone reached the end $L_b$, the maximum force of the pullout  $P_\\max$ specimen has been attained, i.e."
   ]
  },
  {
   "cell_type": "code",
   "execution_count": 17,
   "metadata": {
    "collapsed": false,
    "deletable": true,
    "editable": true
   },
   "outputs": [
    {
     "data": {
      "image/png": "[encoded data removed]",
      "text/latex": [
       "$$- L_{b} p \\tau$$"
      ],
      "text/plain": [
       "-L_b⋅p⋅τ"
      ]
     },
     "execution_count": 17,
     "metadata": {},
     "output_type": "execute_result"
    }
   ],
   "source": [
    "P_max = -sp.solve(L_b_condition, P)[0]\n",
    "P_max"
   ]
  },
  {
   "cell_type": "markdown",
   "metadata": {
    "deletable": true,
    "editable": true
   },
   "source": [
    "Take the original pullout curve, set it equal to $P_\\max$ and resolve for the pullout displacement $w$\n",
    "\\begin{align}\n",
    "P(w) = P_\\max \\implies w\n",
    "\\end{align}"
   ]
  },
  {
   "cell_type": "code",
   "execution_count": 18,
   "metadata": {
    "collapsed": false,
    "deletable": true,
    "editable": true
   },
   "outputs": [
    {
     "data": {
      "image/png": "[encoded data removed]",
      "text/latex": [
       "$$\\frac{L_{b}^{2} p \\tau}{2 A_{f} E_{f}}$$"
      ],
      "text/plain": [
       "    2    \n",
       " L_b ⋅p⋅τ\n",
       "─────────\n",
       "2⋅A_f⋅E_f"
      ]
     },
     "execution_count": 18,
     "metadata": {},
     "output_type": "execute_result"
    }
   ],
   "source": [
    "w_argmax = sp.solve(P_max + P_pull1, w)[0]\n",
    "w_argmax"
   ]
  },
  {
   "cell_type": "markdown",
   "metadata": {
    "deletable": true,
    "editable": true
   },
   "source": [
    "## Phase 2: pullout of the fiber\n",
    "Once the debonded zone reached the end of bond length, the pullout of the fiber starts. This leads to the shortening of the bond length and reduction of the effective contact area between the fiber and matrix. Let us denote the deminishing length of the fiber $b \\in (L_\\mathrm{b}, 0)$. This parameter plays a similar role as $a$ in Phase 1 but it is associated with different kinematic conditions. Let us show the three steps how to resolve the integration constants in this case."
   ]
  },
  {
   "cell_type": "markdown",
   "metadata": {
    "deletable": true,
    "editable": true
   },
   "source": [
    "__Condition 1__: Solve the differential equation of the slip displacement for the second phase by introducing different boundary conditions. The first condition applied in Phase 1 introduces equalibrium at the loaded end.\n",
    "\\begin{align}\n",
    "P = \\sigma(0)\n",
    "\\end{align}\n",
    "This condition is valid also in Phase 2 so that we can use `C_subs` further on."
   ]
  },
  {
   "cell_type": "markdown",
   "metadata": {
    "deletable": true,
    "editable": true
   },
   "source": [
    "__Condition 2__: The second condition introduces the kinematic requiement that at the unloaded end of the pulled out fiber, the stress and strain are zero, i.e. $\\varepsilon(b) = 0$. This condition directly delivers the value the effective bond length $b$"
   ]
  },
  {
   "cell_type": "code",
   "execution_count": 19,
   "metadata": {
    "collapsed": false,
    "deletable": true,
    "editable": true
   },
   "outputs": [
    {
     "data": {
      "image/png": "[encoded data removed]",
      "text/latex": [
       "$$\\left \\{ b : - \\frac{P}{p \\tau}\\right \\}$$"
      ],
      "text/plain": [
       "⎧   -P ⎫\n",
       "⎨b: ───⎬\n",
       "⎩   p⋅τ⎭"
      ]
     },
     "execution_count": 19,
     "metadata": {},
     "output_type": "execute_result"
    }
   ],
   "source": [
    "b_subs = sp.solve({eps_f.subs(C_subs).subs({x:b})},{b})\n",
    "b_subs"
   ]
  },
  {
   "cell_type": "markdown",
   "metadata": {
    "deletable": true,
    "editable": true
   },
   "source": [
    "__Condition 3__: Finally, the displacement at the end of the pulled out fiber that is representing the slip at the unloaded end $b$ must be equal to the distance from the end of the bond zone $L_\\mathrm{b}$, i.e. \n",
    "\\begin{align}\n",
    "u_\\mathrm{f}(b) = b - L_b\n",
    "\\end{align}\n",
    "This condition delivers the integration constant $D$:"
   ]
  },
  {
   "cell_type": "code",
   "execution_count": 20,
   "metadata": {
    "collapsed": false,
    "deletable": true,
    "editable": true
   },
   "outputs": [
    {
     "data": {
      "image/png": "[encoded data removed]",
      "text/latex": [
       "$$\\left \\{ D : - L_{b} - \\frac{P}{p \\tau} + \\frac{P^{2}}{2 A_{f} E_{f} p \\tau}\\right \\}$$"
      ],
      "text/plain": [
       "⎧                       2     ⎫\n",
       "⎪           P          P      ⎪\n",
       "⎨D: -L_b - ─── + ─────────────⎬\n",
       "⎪          p⋅τ   2⋅A_f⋅E_f⋅p⋅τ⎪\n",
       "⎩                             ⎭"
      ]
     },
     "execution_count": 20,
     "metadata": {},
     "output_type": "execute_result"
    }
   ],
   "source": [
    "u_f_b = u_f.subs(C_subs).subs({x:b}) + L_b - b\n",
    "Db_subs = sp.solve({u_f_b.subs(C_subs).subs(b_subs)},{D})\n",
    "Db_subs"
   ]
  },
  {
   "cell_type": "markdown",
   "metadata": {
    "deletable": true,
    "editable": true
   },
   "source": [
    "__Displacement field of the second phase__: \n",
    "By substituting all parameters we obtain the solution in the form"
   ]
  },
  {
   "cell_type": "code",
   "execution_count": 21,
   "metadata": {
    "collapsed": false,
    "deletable": true,
    "editable": true
   },
   "outputs": [
    {
     "data": {
      "image/png": "[encoded data removed]",
      "text/latex": [
       "$$- L_{b} - \\frac{P}{p \\tau} + \\frac{P^{2}}{2 A_{f} E_{f} p \\tau} + \\frac{P x}{A_{f} E_{f}} + \\frac{p \\tau x^{2}}{2 A_{f} E_{f}}$$"
      ],
      "text/plain": [
       "                    2                         2 \n",
       "        P          P           P⋅x       p⋅τ⋅x  \n",
       "-L_b - ─── + ───────────── + ─────── + ─────────\n",
       "       p⋅τ   2⋅A_f⋅E_f⋅p⋅τ   A_f⋅E_f   2⋅A_f⋅E_f"
      ]
     },
     "execution_count": 21,
     "metadata": {},
     "output_type": "execute_result"
    }
   ],
   "source": [
    "u_f_x2 = u_f.subs(C_subs).subs(b_subs).subs(Db_subs)\n",
    "u_f_x2"
   ]
  },
  {
   "cell_type": "markdown",
   "metadata": {
    "deletable": true,
    "editable": true
   },
   "source": [
    "To cover the whole bond zone correctly, let us again use the Heaviside function to distinguish the part of effective bond and the part that is stress-free. This is done by prescribing that in the range $x \\in (L_\\mathrm{b}, b)$ the slip remains constant. Such an assumption automatically results in zero strain and stress in this pulled out region."
   ]
  },
  {
   "cell_type": "code",
   "execution_count": 22,
   "metadata": {
    "collapsed": false,
    "deletable": true,
    "editable": true
   },
   "outputs": [
    {
     "data": {
      "image/png": "[encoded data removed]",
      "text/latex": [
       "$$\\left(- L_{b} - \\frac{P}{p \\tau}\\right) \\theta\\left(- \\frac{P}{p \\tau} - x\\right) + \\left(- L_{b} - \\frac{P}{p \\tau} + \\frac{P^{2}}{2 A_{f} E_{f} p \\tau} + \\frac{P x}{A_{f} E_{f}} + \\frac{p \\tau x^{2}}{2 A_{f} E_{f}}\\right) \\theta\\left(\\frac{P}{p \\tau} + x\\right)$$"
      ],
      "text/plain": [
       "                                    ⎛                    2                    \n",
       "⎛        P ⎞          ⎛   P     ⎞   ⎜        P          P           P⋅x       \n",
       "⎜-L_b - ───⎟⋅Heaviside⎜- ─── - x⎟ + ⎜-L_b - ─── + ───────────── + ─────── + ──\n",
       "⎝       p⋅τ⎠          ⎝  p⋅τ    ⎠   ⎝       p⋅τ   2⋅A_f⋅E_f⋅p⋅τ   A_f⋅E_f   2⋅\n",
       "\n",
       "     2 ⎞                   \n",
       "p⋅τ⋅x  ⎟          ⎛ P     ⎞\n",
       "───────⎟⋅Heaviside⎜─── + x⎟\n",
       "A_f⋅E_f⎠          ⎝p⋅τ    ⎠"
      ]
     },
     "execution_count": 22,
     "metadata": {},
     "output_type": "execute_result"
    }
   ],
   "source": [
    "u_fb_x_ = u_f_x2 * sp.Heaviside(x-b) \\\n",
    "       + u_f_x2.subs({x:b}) * sp.Heaviside(b-x)\n",
    "u_fb_x = u_fb_x_.subs(b_subs)\n",
    "u_fb_x"
   ]
  },
  {
   "cell_type": "markdown",
   "metadata": {
    "deletable": true,
    "editable": true
   },
   "source": [
    "## Verify the obtained result \n",
    "Given the parameters specified above, let us plot the displacement field and check the its plausibility."
   ]
  },
  {
   "cell_type": "code",
   "execution_count": 23,
   "metadata": {
    "collapsed": false,
    "deletable": true,
    "editable": true
   },
   "outputs": [
    {
     "data": {
      "image/png": "[encoded data removed]",
      "text/plain": [
       "<matplotlib.figure.Figure at 0x7f961ec4e7b8>"
      ]
     },
     "metadata": {},
     "output_type": "display_data"
    },
    {
     "data": {
      "text/plain": [
       "<sympy.plotting.plot.Plot at 0x7f961ec4efd0>"
      ]
     },
     "execution_count": 23,
     "metadata": {},
     "output_type": "execute_result"
    }
   ],
   "source": [
    "splot(u_fb_x.subs(data_f).subs({P:40}), (x,L_b_,0) )"
   ]
  },
  {
   "cell_type": "markdown",
   "metadata": {
    "deletable": true,
    "editable": true
   },
   "source": [
    "### Pullout curve\n",
    "To obtain the pullout curve for the second phase, solve the euqation\n",
    "\\begin{align}\n",
    "w = u_\\mathrm{f}(0;P) \\implies P(w)\n",
    "\\end{align}"
   ]
  },
  {
   "cell_type": "code",
   "execution_count": 24,
   "metadata": {
    "collapsed": false,
    "deletable": true,
    "editable": true
   },
   "outputs": [
    {
     "data": {
      "image/png": "[encoded data removed]",
      "text/latex": [
       "$$- \\sqrt{A_{f}} \\sqrt{E_{f}} \\sqrt{A_{f} E_{f} + 2 L_{b} p \\tau + 2 p \\tau w} + A_{f} E_{f}$$"
      ],
      "text/plain": [
       "    _____   _____   _______________________________          \n",
       "- ╲╱ A_f ⋅╲╱ E_f ⋅╲╱ A_f⋅E_f + 2⋅L_b⋅p⋅τ + 2⋅p⋅τ⋅w  + A_f⋅E_f"
      ]
     },
     "execution_count": 24,
     "metadata": {},
     "output_type": "execute_result"
    }
   ],
   "source": [
    "P_pull2 = sp.solve(u_fb_x.subs({x:0})-w, P)[0]\n",
    "sp.simplify(P_pull2)"
   ]
  },
  {
   "cell_type": "markdown",
   "metadata": {
    "deletable": true,
    "editable": true
   },
   "source": [
    "### Final pullout displacement\n",
    "To cut plot the pullout curve at the zero final stress resolve the equation \n",
    "\\begin{align}\n",
    "P(w) = 0\n",
    "\\end[align}"
   ]
  },
  {
   "cell_type": "code",
   "execution_count": 25,
   "metadata": {
    "collapsed": false,
    "deletable": true,
    "editable": true
   },
   "outputs": [
    {
     "data": {
      "image/png": "[encoded data removed]",
      "text/latex": [
       "$$\\left [ \\left \\{ w : - L_{b}\\right \\}\\right ]$$"
      ],
      "text/plain": [
       "[{w: -L_b}]"
      ]
     },
     "execution_count": 25,
     "metadata": {},
     "output_type": "execute_result"
    }
   ],
   "source": [
    "sp.solve({P_pull2},{w})"
   ]
  },
  {
   "cell_type": "markdown",
   "metadata": {
    "deletable": true,
    "editable": true
   },
   "source": [
    "## Pull out with Phase 1 and Phase 2"
   ]
  },
  {
   "cell_type": "code",
   "execution_count": 26,
   "metadata": {
    "collapsed": false,
    "deletable": true,
    "editable": true
   },
   "outputs": [],
   "source": [
    "P_pull_Lb = (sp.Heaviside(w_argmax - w) * P_pull1\n",
    "             + sp.Heaviside(w - w_argmax) * P_pull2)"
   ]
  },
  {
   "cell_type": "code",
   "execution_count": 27,
   "metadata": {
    "collapsed": false,
    "deletable": true,
    "editable": true
   },
   "outputs": [
    {
     "data": {
      "image/png": "[encoded data removed]",
      "text/plain": [
       "<matplotlib.figure.Figure at 0x7f961eaa6710>"
      ]
     },
     "metadata": {},
     "output_type": "display_data"
    },
    {
     "data": {
      "text/plain": [
       "<sympy.plotting.plot.Plot at 0x7f961eb6e668>"
      ]
     },
     "execution_count": 27,
     "metadata": {},
     "output_type": "execute_result"
    }
   ],
   "source": [
    "splot(P_pull_Lb.subs(data_f), (w,0,-L_b_), line_color='green')"
   ]
  },
  {
   "cell_type": "code",
   "execution_count": 28,
   "metadata": {
    "collapsed": false,
    "deletable": true,
    "editable": true
   },
   "outputs": [],
   "source": [
    "d_f_paper = 0.2\n",
    "tau_paper = 7.69\n",
    "E_f_paper = 200000\n",
    "A_f_paper = np.pi * (d_f_paper/2)**2\n",
    "p_paper = np.pi * d_f_paper\n",
    "data_paper = {'A_f': A_f_paper, \n",
    "              'E_f': E_f_paper, \n",
    "              'p': p_paper, \n",
    "              'tau': tau_paper}"
   ]
  },
  {
   "cell_type": "code",
   "execution_count": 29,
   "metadata": {
    "collapsed": true,
    "deletable": true,
    "editable": true
   },
   "outputs": [],
   "source": [
    "L_b_paper = [13, 19.5, 30]\n",
    "colors = ['red', 'green', 'orange']"
   ]
  },
  {
   "cell_type": "code",
   "execution_count": 30,
   "metadata": {
    "collapsed": false,
    "deletable": true,
    "editable": true
   },
   "outputs": [
    {
     "name": "stdout",
     "output_type": "stream",
     "text": [
      "0.0162451250000000\n"
     ]
    },
    {
     "data": {
      "image/png": "[encoded data removed]",
      "text/plain": [
       "<matplotlib.figure.Figure at 0x7f961ee057f0>"
      ]
     },
     "metadata": {},
     "output_type": "display_data"
    },
    {
     "name": "stdout",
     "output_type": "stream",
     "text": [
      "0.0365515312500000\n"
     ]
    },
    {
     "data": {
      "image/png": "[encoded data removed]",
      "text/plain": [
       "<matplotlib.figure.Figure at 0x7f961f227ef0>"
      ]
     },
     "metadata": {},
     "output_type": "display_data"
    },
    {
     "name": "stdout",
     "output_type": "stream",
     "text": [
      "0.0865125000000000\n"
     ]
    },
    {
     "data": {
      "image/png": "[encoded data removed]",
      "text/plain": [
       "<matplotlib.figure.Figure at 0x7f961ea93da0>"
      ]
     },
     "metadata": {},
     "output_type": "display_data"
    }
   ],
   "source": [
    "p_plots = []\n",
    "for l_, c_ in zip( L_b_paper, colors):\n",
    "    L_b_f = l_ / 2\n",
    "    w_1 = w_argmax.subs(data_paper).subs({L_b: - L_b_f})\n",
    "    print(w_1)\n",
    "    p_pull_data = P_pull_Lb.subs(data_paper).subs({L_b : -L_b_f})\n",
    "    pl = splot(p_pull_data, (w,0,L_b_f), line_color=c_)\n",
    "    p_plots.append(pl)"
   ]
  },
  {
   "cell_type": "code",
   "execution_count": 31,
   "metadata": {
    "collapsed": false,
    "deletable": true,
    "editable": true
   },
   "outputs": [
    {
     "data": {
      "image/png": "[encoded data removed]",
      "text/plain": [
       "<matplotlib.figure.Figure at 0x7f961f58ab70>"
      ]
     },
     "metadata": {},
     "output_type": "display_data"
    }
   ],
   "source": [
    "p_plots[0].extend(p_plots[1])\n",
    "p_plots[0].extend(p_plots[2])\n",
    "p_plots[0].show()"
   ]
  }
 ],
 "metadata": {
  "kernelspec": {
   "display_name": "Python 3",
   "language": "python",
   "name": "python3"
  },
  "language_info": {
   "codemirror_mode": {
    "name": "ipython",
    "version": 3
   },
   "file_extension": ".py",
   "mimetype": "text/x-python",
   "name": "python",
   "nbconvert_exporter": "python",
   "pygments_lexer": "ipython3",
   "version": "3.5.2"
  }
 },
 "nbformat": 4,
 "nbformat_minor": 1
}
