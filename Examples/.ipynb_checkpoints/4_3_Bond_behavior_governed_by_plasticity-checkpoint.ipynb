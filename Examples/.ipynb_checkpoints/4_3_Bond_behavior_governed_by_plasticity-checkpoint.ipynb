{
 "cells": [
  {
   "attachments": {
    "rwth_imb_logo.png": {
     "image/png": "[encoded data removed]"
    }
   },
   "cell_type": "markdown",
   "metadata": {},
   "source": [
    "![rwth_imb_logo.png](attachment:rwth_imb_logo.png)"
   ]
  },
  {
   "cell_type": "markdown",
   "metadata": {},
   "source": [
    "[Previous notebook: 4_2_Bond_behavior_governed_by-damage](./4_2_Bond_behavior_governed_by-damage.ipynb)"
   ]
  },
  {
   "cell_type": "markdown",
   "metadata": {},
   "source": [
    "[Next notebook: 5_2_Pullout_FRP.pynb](./5_2_Pullout_FRP.pynb.ipynb)"
   ]
  },
  {
   "cell_type": "markdown",
   "metadata": {},
   "source": [
    "# 4.3 Bond behavior governed by plasticity\n",
    "Define a bond-slip law governed by plasticity and loading history using unloading."
   ]
  },
  {
   "cell_type": "code",
   "execution_count": null,
   "metadata": {},
   "outputs": [],
   "source": [
    "%reset -f\n",
    "%matplotlib inline\n",
    "import matplotlib.pyplot as plt\n",
    "from bmcs.bond_slip import BondSlipModel"
   ]
  },
  {
   "cell_type": "markdown",
   "metadata": {},
   "source": [
    "## Isotropic hardening"
   ]
  },
  {
   "cell_type": "markdown",
   "metadata": {},
   "source": [
    "### Construct an instance of bond-slip model and display its state"
   ]
  },
  {
   "cell_type": "code",
   "execution_count": null,
   "metadata": {},
   "outputs": [],
   "source": [
    "bsm = BondSlipModel(mats_eval_type = 'elasto-plasticity')\n",
    "bsm # display the state of bond-slip model"
   ]
  },
  {
   "cell_type": "markdown",
   "metadata": {},
   "source": [
    "### Define the parameters of the material model"
   ]
  },
  {
   "cell_type": "code",
   "execution_count": null,
   "metadata": {},
   "outputs": [],
   "source": [
    "bsm.mats_eval.trait_set(E_b = 20000.0,\n",
    "                        K = 500.0,\n",
    "                        gamma = 0.0,\n",
    "                        tau_bar = 5.0)\n",
    "bsm.mats_eval # display the values of material model parameters"
   ]
  },
  {
   "cell_type": "markdown",
   "metadata": {},
   "source": [
    "### Define the loading scenario \n",
    "In first stetp - set the type of the load and in the second step define its parameters."
   ]
  },
  {
   "cell_type": "code",
   "execution_count": null,
   "metadata": {},
   "outputs": [],
   "source": [
    "bsm.loading_scenario.trait_set(loading_type='cyclic',\n",
    "                               amplitude_type='increasing',\n",
    "                               loading_range='symmetric',\n",
    "                               )\n",
    "bsm.loading_scenario.trait_set(number_of_cycles=3,\n",
    "                               maximum_loading=0.005,\n",
    "                              unloading_ratio =0.0)"
   ]
  },
  {
   "cell_type": "markdown",
   "metadata": {},
   "source": [
    "### Display the load as a function of pseudo time"
   ]
  },
  {
   "cell_type": "code",
   "execution_count": null,
   "metadata": {},
   "outputs": [],
   "source": [
    "bsm.loading_scenario.plot(plt.axes())"
   ]
  },
  {
   "cell_type": "markdown",
   "metadata": {},
   "source": [
    "### Run the calculation"
   ]
  },
  {
   "cell_type": "code",
   "execution_count": null,
   "metadata": {},
   "outputs": [],
   "source": [
    "bsm.run()"
   ]
  },
  {
   "cell_type": "markdown",
   "metadata": {},
   "source": [
    "### Access the results"
   ]
  },
  {
   "cell_type": "code",
   "execution_count": null,
   "metadata": {},
   "outputs": [],
   "source": [
    "P, w0, wL = bsm.get_Pw_t()"
   ]
  },
  {
   "cell_type": "code",
   "execution_count": null,
   "metadata": {},
   "outputs": [],
   "source": [
    "plt.plot(wL,P)\n",
    "plt.grid(True)"
   ]
  },
  {
   "cell_type": "markdown",
   "metadata": {},
   "source": [
    "## Kinematic hardening"
   ]
  },
  {
   "cell_type": "code",
   "execution_count": null,
   "metadata": {},
   "outputs": [],
   "source": [
    "bsm.mats_eval.E_b = 20000.0\n",
    "bsm.mats_eval.K = 0.0\n",
    "bsm.mats_eval.gamma = 500.0\n",
    "bsm.mats_eval.tau_bar = 5.0\n",
    "bsm.mats_eval # check"
   ]
  },
  {
   "cell_type": "code",
   "execution_count": null,
   "metadata": {},
   "outputs": [],
   "source": [
    "bsm.loading_scenario.trait_set(loading_type='cyclic',\n",
    "                               amplitude_type='increasing',\n",
    "                               loading_range='symmetric',\n",
    "                               )\n",
    "bsm.loading_scenario.trait_set(number_of_cycles=3,\n",
    "                               maximum_loading=0.005,\n",
    "                               unloading_ratio =0.0)\n",
    "bsm.loading_scenario.plot(plt.axes()) # check\n",
    "plt.grid()"
   ]
  },
  {
   "cell_type": "code",
   "execution_count": null,
   "metadata": {},
   "outputs": [],
   "source": [
    "bsm.run()"
   ]
  },
  {
   "cell_type": "code",
   "execution_count": null,
   "metadata": {},
   "outputs": [],
   "source": [
    "P, w0, wL = bsm.get_Pw_t()"
   ]
  },
  {
   "cell_type": "code",
   "execution_count": null,
   "metadata": {},
   "outputs": [],
   "source": [
    "plt.plot(wL,P)\n",
    "plt.grid(True)"
   ]
  }
 ],
 "metadata": {
  "kernelspec": {
   "display_name": "Python 3",
   "language": "python",
   "name": "python3"
  },
  "language_info": {
   "codemirror_mode": {
    "name": "ipython",
    "version": 3
   },
   "file_extension": ".py",
   "mimetype": "text/x-python",
   "name": "python",
   "nbconvert_exporter": "python",
   "pygments_lexer": "ipython3",
   "version": "3.7.3"
  }
 },
 "nbformat": 4,
 "nbformat_minor": 2
}
